{
 "cells": [
  {
   "cell_type": "code",
   "execution_count": 15,
   "id": "041daf2e-4fc9-4710-a0ac-61145c96afaa",
   "metadata": {},
   "outputs": [],
   "source": [
    "import os \n",
    "import random\n",
    "\n",
    "import numpy as np\n",
    "import pandas as pd \n",
    "import ujson"
   ]
  },
  {
   "cell_type": "code",
   "execution_count": 26,
   "id": "9209b52b-c365-4466-b55b-d29a855726aa",
   "metadata": {},
   "outputs": [
    {
     "name": "stdout",
     "output_type": "stream",
     "text": [
      "number of train_examples = 183380\n"
     ]
    }
   ],
   "source": [
    "run_path = \"/home/jupyter/jointly_rec_and_search/datasets/rec_search/search/runs/bm25.train.run\" \n",
    "qrels_path = \"/home/jupyter/jointly_rec_and_search/datasets/rec_search/search/qrels.train.tsv\" \n",
    "out_path = \"/home/jupyter/jointly_rec_and_search/datasets/rec_search/search/1pos_1neg.train.tsv\"\n",
    "\n",
    "#neg_num = 1\n",
    "#topk = 1000\n",
    "qid_to_relpid = {}\n",
    "rel_df = pd.read_csv(qrels_path, sep=\"\\t\", names=[\"qid\", \"q0\", \"pid\", \"score\"])\n",
    "for qid, group in rel_df.groupby(\"qid\"):\n",
    "    relpid = group.sample(1).iloc[0][\"pid\"]\n",
    "    qid_to_relpid[qid] = relpid\n",
    "\n",
    "train_examples = []\n",
    "df = pd.read_csv(run_path, sep=\" \", names=[\"qid\", \"q0\", \"pid\", \"rank\", \"score\", \"model_name\"])\n",
    "for qid, group in df.groupby(\"qid\"):\n",
    "    if len(group) <= 10:\n",
    "        continue \n",
    "    relpid = qid_to_relpid[qid]\n",
    "    negpid = group.sample(1).iloc[0][\"pid\"]\n",
    "    train_examples.append((qid, relpid, negpid))\n",
    "\n",
    "print(\"number of train_examples = {}\".format(len(train_examples)))\n",
    "\n",
    "with open(out_path, \"w\") as fout:\n",
    "    for exp in train_examples:\n",
    "        qid, relpid, negpid = exp \n",
    "        fout.write(f\"{qid}\\t{relpid}\\t{negpid}\\n\")\n",
    "    "
   ]
  },
  {
   "cell_type": "code",
   "execution_count": 27,
   "id": "7f1944fa-06b4-4eb1-93a6-fc47737fcf61",
   "metadata": {},
   "outputs": [
    {
     "name": "stdout",
     "output_type": "stream",
     "text": [
      "762284 /home/jupyter/jointly_rec_and_search/datasets/rec_search/search/qrels.train.tsv\n",
      "0\tQ0\t51832\t1\n",
      "1\tQ0\t2126637\t1\n",
      "2\tQ0\t1691797\t1\n",
      "3\tQ0\t1768047\t1\n",
      "4\tQ0\t26111\t1\n",
      "==================================================\n",
      "183380 /home/jupyter/jointly_rec_and_search/datasets/rec_search/search/1pos_1neg.train.tsv\n",
      "2\t1691797\t2156531\n",
      "3\t1768047\t2155041\n",
      "4\t26111\t1121933\n",
      "5\t220932\t879053\n",
      "6\t85698\t656731\n"
     ]
    }
   ],
   "source": [
    "! wc -l $qrels_path\n",
    "! head -n 5 $qrels_path\n",
    "print(50*\"=\")\n",
    "! wc -l $out_path\n",
    "! head -n 5 $out_path"
   ]
  },
  {
   "cell_type": "code",
   "execution_count": null,
   "id": "805a036a-59b4-44cf-9f91-08b9985e2d08",
   "metadata": {},
   "outputs": [],
   "source": []
  }
 ],
 "metadata": {
  "environment": {
   "kernel": "python3",
   "name": "tf2-gpu.2-9.m93",
   "type": "gcloud",
   "uri": "gcr.io/deeplearning-platform-release/tf2-gpu.2-9:m93"
  },
  "kernelspec": {
   "display_name": "Python 3",
   "language": "python",
   "name": "python3"
  },
  "language_info": {
   "codemirror_mode": {
    "name": "ipython",
    "version": 3
   },
   "file_extension": ".py",
   "mimetype": "text/x-python",
   "name": "python",
   "nbconvert_exporter": "python",
   "pygments_lexer": "ipython3",
   "version": "3.7.12"
  }
 },
 "nbformat": 4,
 "nbformat_minor": 5
}
