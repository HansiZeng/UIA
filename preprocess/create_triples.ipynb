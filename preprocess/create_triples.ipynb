{
 "cells": [
  {
   "cell_type": "code",
   "execution_count": 8,
   "id": "041daf2e-4fc9-4710-a0ac-61145c96afaa",
   "metadata": {},
   "outputs": [],
   "source": [
    "import os \n",
    "import random\n",
    "\n",
    "import numpy as np\n",
    "import pandas as pd \n",
    "import ujson\n",
    "from tqdm import tqdm"
   ]
  },
  {
   "cell_type": "code",
   "execution_count": 9,
   "id": "9209b52b-c365-4466-b55b-d29a855726aa",
   "metadata": {},
   "outputs": [
    {
     "name": "stderr",
     "output_type": "stream",
     "text": [
      "100%|██████████| 221933/221933 [01:09<00:00, 3183.91it/s]\n",
      "100%|██████████| 211683/211683 [01:25<00:00, 2478.02it/s]\n"
     ]
    },
    {
     "name": "stdout",
     "output_type": "stream",
     "text": [
      "number of train_examples = 209735\n"
     ]
    }
   ],
   "source": [
    "run_path = \"/home/jupyter/jointly_rec_and_search/datasets/rec_search/search/runs/bm25.train.run\" \n",
    "qrels_path = \"/home/jupyter/jointly_rec_and_search/datasets/rec_search/search/qrels.train.tsv\" \n",
    "out_path = \"/home/jupyter/jointly_rec_and_search/datasets/rec_search/search/1pos_1neg.train.tsv\"\n",
    "\n",
    "#neg_num = 1\n",
    "#topk = 1000\n",
    "qid_to_relpid = {}\n",
    "rel_df = pd.read_csv(qrels_path, sep=\"\\t\", names=[\"qid\", \"q0\", \"pid\", \"score\"])\n",
    "for qid, group in tqdm(rel_df.groupby(\"qid\")):\n",
    "    relpid = group.sample(1).iloc[0][\"pid\"]\n",
    "    qid_to_relpid[qid] = relpid\n",
    "\n",
    "train_examples = []\n",
    "df = pd.read_csv(run_path, sep=\" \", names=[\"qid\", \"q0\", \"pid\", \"rank\", \"score\", \"model_name\"])\n",
    "for qid, group in tqdm(df.groupby(\"qid\")):\n",
    "    if len(group) <= 10:\n",
    "        continue \n",
    "    relpid = qid_to_relpid[qid]\n",
    "    negpid = group.sample(1).iloc[0][\"pid\"]\n",
    "    train_examples.append((qid, relpid, negpid))\n",
    "\n",
    "print(\"number of train_examples = {}\".format(len(train_examples)))\n",
    "\n",
    "with open(out_path, \"w\") as fout:\n",
    "    for exp in train_examples:\n",
    "        qid, relpid, negpid = exp \n",
    "        fout.write(f\"{qid}\\t{relpid}\\t{negpid}\\n\")\n",
    "    "
   ]
  },
  {
   "cell_type": "code",
   "execution_count": 10,
   "id": "7f1944fa-06b4-4eb1-93a6-fc47737fcf61",
   "metadata": {},
   "outputs": [
    {
     "name": "stdout",
     "output_type": "stream",
     "text": [
      "870971 /home/jupyter/jointly_rec_and_search/datasets/rec_search/search/qrels.train.tsv\n",
      "150882\tQ0\t8186\t1\n",
      "75048\tQ0\t478746\t1\n",
      "108656\tQ0\t551375\t1\n",
      "83347\tQ0\t1636968\t1\n",
      "106357\tQ0\t1911527\t1\n",
      "==================================================\n",
      "209735 /home/jupyter/jointly_rec_and_search/datasets/rec_search/search/1pos_1neg.train.tsv\n",
      "2\t2022667\t937196\n",
      "3\t1569021\t1625453\n",
      "4\t951670\t711842\n",
      "5\t461041\t1132563\n",
      "6\t269043\t16784\n"
     ]
    }
   ],
   "source": [
    "! wc -l $qrels_path\n",
    "! head -n 5 $qrels_path\n",
    "print(50*\"=\")\n",
    "! wc -l $out_path\n",
    "! head -n 5 $out_path"
   ]
  },
  {
   "cell_type": "code",
   "execution_count": null,
   "id": "805a036a-59b4-44cf-9f91-08b9985e2d08",
   "metadata": {},
   "outputs": [],
   "source": []
  },
  {
   "cell_type": "code",
   "execution_count": null,
   "id": "831b2f3c-4cdd-4bb2-9292-b7f2a3bd240b",
   "metadata": {},
   "outputs": [],
   "source": []
  }
 ],
 "metadata": {
  "environment": {
   "kernel": "python3",
   "name": "tf2-gpu.2-9.m93",
   "type": "gcloud",
   "uri": "gcr.io/deeplearning-platform-release/tf2-gpu.2-9:m93"
  },
  "kernelspec": {
   "display_name": "Python 3",
   "language": "python",
   "name": "python3"
  },
  "language_info": {
   "codemirror_mode": {
    "name": "ipython",
    "version": 3
   },
   "file_extension": ".py",
   "mimetype": "text/x-python",
   "name": "python",
   "nbconvert_exporter": "python",
   "pygments_lexer": "ipython3",
   "version": "3.7.12"
  }
 },
 "nbformat": 4,
 "nbformat_minor": 5
}
