{
 "cells": [
  {
   "cell_type": "code",
   "execution_count": 27,
   "id": "360a6a47-d698-4596-a93a-5fec85bdb662",
   "metadata": {},
   "outputs": [
    {
     "name": "stdout",
     "output_type": "stream",
     "text": [
      "G number of nodes, edges, connected_components = 82191, 180152, 8124\n",
      "median and mean number of interaction for aid = 2.000, 4.188\n"
     ]
    },
    {
     "name": "stderr",
     "output_type": "stream",
     "text": [
      "100%|██████████| 32530/32530 [00:20<00:00, 1581.59it/s]\n",
      "100%|██████████| 32530/32530 [00:00<00:00, 121519.13it/s]\n"
     ]
    }
   ],
   "source": [
    "import os \n",
    "import pandas as pd \n",
    "import numpy as np \n",
    "import ujson\n",
    "import networkx as nx\n",
    "from collections import defaultdict\n",
    "from tqdm import tqdm\n",
    "from copy import deepcopy\n",
    "\n",
    "base_dir = \"/home/jupyter/jointly_rec_and_search/datasets/rec_search/\"\n",
    "test_qrel_path = os.path.join(base_dir, \"search/qrels.test.tsv\")\n",
    "\n",
    "G = nx.Graph()\n",
    "aid_to_relpids = defaultdict(list)\n",
    "with open(os.path.join(base_dir, \"rec/arels.train.tsv\")) as fin:\n",
    "    for line in fin:\n",
    "        aid, _, pid, _ = line.strip().split(\"\\t\")\n",
    "        G.add_edge(aid, pid)\n",
    "        aid_to_relpids[aid].append(pid)\n",
    "with open(os.path.join(base_dir, \"rec/arels.val.tsv\")) as fin:\n",
    "    for line in fin:\n",
    "        aid, _, pid, _ = line.strip().split(\"\\t\")\n",
    "        G.add_edge(aid, pid)\n",
    "        aid_to_relpids[aid].append(pid)\n",
    "with open(os.path.join(base_dir, \"rec/arels.test.tsv\")) as fin:\n",
    "    for line in fin:\n",
    "        aid, _, pid, _ = line.strip().split(\"\\t\")\n",
    "        G.add_edge(aid, pid)\n",
    "        aid_to_relpids[aid].append(pid)\n",
    "        \n",
    "print(\"G number of nodes, edges, connected_components = {}, {}, {}\".format(G.number_of_nodes(), G.number_of_edges(), \n",
    "                                                                               nx.number_connected_components(G)))\n",
    "tmps = [len(xs) for xs in list(aid_to_relpids.values())]\n",
    "print(\"median and mean number of interaction for aid = {:.3f}, {:.3f}\".format(np.median(tmps), np.mean(tmps)))\n",
    "\n",
    "qid_to_relpids = defaultdict(list)\n",
    "with open(test_qrel_path) as fin:\n",
    "    for line in fin:\n",
    "        qid, _, pid, _ = line.strip().split(\"\\t\")\n",
    "        qid_to_relpids[qid].append(pid)\n",
    "\n",
    "di_ext_dist  = []\n",
    "di_ext_qid_to_relpids = {}\n",
    "for qid, relpids in tqdm(qid_to_relpids.items()):\n",
    "    ext_pids = set(relpids)\n",
    "    for pid in relpids:\n",
    "        if pid not in G:\n",
    "            continue\n",
    "        nodes = set(nx.shortest_path(G, pid).keys())\n",
    "        ext_pids = ext_pids.union(nodes)\n",
    "\n",
    "    di_ext_dist.append(len(ext_pids) - len(relpids))\n",
    "    di_ext_qid_to_relpids[qid] = list(ext_pids)\n",
    "    \n",
    "un_ext_dist = []\n",
    "un_ext_qid_to_relpids = {}\n",
    "for qid, relpids in tqdm(qid_to_relpids.items()):\n",
    "    ext_pids = set(relpids)\n",
    "    for pid in relpids:\n",
    "        if pid in aid_to_relpids:\n",
    "            new_pids = set(aid_to_relpids[pid])\n",
    "            ext_pids = ext_pids.union(new_pids)\n",
    "    un_ext_dist.append(len(ext_pids) - len(relpids))\n",
    "    un_ext_qid_to_relpids[qid] = list(ext_pids)"
   ]
  },
  {
   "cell_type": "code",
   "execution_count": 28,
   "id": "3cfb3526-38d1-4b1d-b8dd-9a3c7eeb913d",
   "metadata": {},
   "outputs": [],
   "source": [
    "train_qids = set()\n",
    "with open(os.path.join(base_dir, \"search/queries.train.tsv\")) as fin:\n",
    "    for line in fin:\n",
    "        qid, _ = line.strip().split(\"\\t\")\n",
    "        train_qids.add(qid)\n",
    "\n",
    "test_qids = set()\n",
    "with open(os.path.join(base_dir, \"search/queries.test.tsv\")) as fin:\n",
    "    for line in fin:\n",
    "        qid, _  = line.strip().split(\"\\t\")\n",
    "        test_qids.add(qid)\n",
    "with open(os.path.join(base_dir, \"search/ext_qrels.test.tsv\"), \"w\") as fout:\n",
    "    for qid in list(test_qids):\n",
    "        for pid in un_ext_qid_to_relpids[qid]:\n",
    "            fout.write(f\"{qid}\\tQ0\\t{pid}\\t{1}\\n\")\n",
    "            \n",
    "test_qids = set()\n",
    "with open(os.path.join(base_dir, \"search/queries.test.exclude.tsv\")) as fin:\n",
    "    for line in fin:\n",
    "        qid, _  = line.strip().split(\"\\t\")\n",
    "        test_qids.add(qid)\n",
    "with open(os.path.join(base_dir, \"search/ext_qrels.test.exclude.tsv\"), \"w\") as fout:\n",
    "    for qid in list(test_qids):\n",
    "        for pid in un_ext_qid_to_relpids[qid]:\n",
    "            fout.write(f\"{qid}\\tQ0\\t{pid}\\t{1}\\n\")"
   ]
  },
  {
   "cell_type": "code",
   "execution_count": 29,
   "id": "196b1c19-5a71-4540-b542-d415686f6355",
   "metadata": {},
   "outputs": [
    {
     "name": "stdout",
     "output_type": "stream",
     "text": [
      "985 /home/jupyter/jointly_rec_and_search/datasets/rec_search/search/qrels.test.exclude.tsv\n",
      "1044\tQ0\t1379373\t1\n",
      "1103\tQ0\t2247719\t1\n",
      "1702\tQ0\t389059\t1\n",
      "193548\tQ0\t2079325\t1\n",
      "193879\tQ0\t2069763\t1\n",
      "194602\tQ0\t991352\t1\n",
      "====================================================================================================\n",
      "445586 /home/jupyter/jointly_rec_and_search/datasets/rec_search/search/ext_qrels.test.tsv\n",
      "194164\tQ0\t1696419\t1\n",
      "194164\tQ0\t330724\t1\n",
      "194164\tQ0\t313573\t1\n",
      "20561\tQ0\t2207306\t1\n",
      "20561\tQ0\t2207303\t1\n",
      "20561\tQ0\t2207186\t1\n",
      "====================================================================================================\n",
      "6244 /home/jupyter/jointly_rec_and_search/datasets/rec_search/search/ext_qrels.test.exclude.tsv\n",
      "67572\tQ0\t151535\t1\n",
      "67572\tQ0\t1804839\t1\n",
      "67572\tQ0\t366443\t1\n",
      "60277\tQ0\t112843\t1\n",
      "60277\tQ0\t109769\t1\n",
      "60277\tQ0\t2245777\t1\n",
      "====================================================================================================\n",
      "107087 /home/jupyter/jointly_rec_and_search/datasets/rec_search/search/qrels.test.tsv\n",
      "11\tQ0\t2126343\t1\n",
      "43\tQ0\t2126661\t1\n",
      "69\tQ0\t87856\t1\n",
      "194615\tQ0\t961160\t1\n",
      "194615\tQ0\t2032048\t1\n",
      "194615\tQ0\t1679595\t1\n",
      "====================================================================================================\n"
     ]
    }
   ],
   "source": [
    "# sanity check\n",
    "for path in os.listdir(os.path.join(base_dir, \"search\")):\n",
    "    path = os.path.join(os.path.join(base_dir, \"search\"), path)\n",
    "    if \"qrels.test\" in path:\n",
    "        ! wc -l $path\n",
    "        ! head -n 3 $path\n",
    "        ! tail -n 3 $path\n",
    "        print(\"=\"*100)"
   ]
  },
  {
   "cell_type": "raw",
   "id": "346f4437-454a-4c6e-bbf3-685e49b73374",
   "metadata": {},
   "source": [
    "qid_to_query = {}\n",
    "pid_to_prodocutid = {}\n",
    "\n",
    "with open(os.path.join(base_dir, \"search/queries.train.tsv\")) as fin:\n",
    "    for line in fin:\n",
    "        qid, query = line.strip().split(\"\\t\")\n",
    "        qid_to_query[qid] = query\n",
    "with open(os.path.join(base_dir, \"search/queries.val.tsv\")) as fin:\n",
    "    for line in fin:\n",
    "        qid, query = line.strip().split(\"\\t\")\n",
    "        qid_to_query[qid] = query\n",
    "with open(os.path.join(base_dir, \"search/queries.test.tsv\")) as fin:\n",
    "    for line in fin:\n",
    "        qid, query = line.strip().split(\"\\t\")\n",
    "        qid_to_query[qid] = query\n",
    "\n",
    "pid_to_prodocutid = {}\n",
    "pid_map_path = \"/home/jupyter/jointly_rec_and_search/datasets/rec_search/search/pid_productid_map.tsv\"\n",
    "with open(pid_map_path) as fin:\n",
    "    for line in fin:\n",
    "        pid, *product_id = line.rstrip().split(\"\\t\")\n",
    "        if len(product_id) >= 2:\n",
    "            tmp_product_id = \"\\t\".join(product_id)\n",
    "            product_id = tmp_product_id\n",
    "        else:\n",
    "            product_id = product_id[0]\n",
    "        pid_to_prodocutid[pid] = product_id\n",
    "\n",
    "pid_to_title = {}\n",
    "with open(\"/home/jupyter/jointly_rec_and_search/datasets/rec_search/search/collection_title.tsv\") as fin:\n",
    "    for line in fin:\n",
    "        pid, title = line.rstrip().split(\"\\t\")\n",
    "        pid_to_title[pid] = title"
   ]
  },
  {
   "cell_type": "code",
   "execution_count": 25,
   "id": "95d34dc9-9b17-4ad3-a448-44eb60b221e3",
   "metadata": {},
   "outputs": [
    {
     "name": "stdout",
     "output_type": "stream",
     "text": [
      "sample_0\n",
      "outdoor daybed ['Safavieh Cadeo Rattan Outdoor Daybed with Off-white Cushion(S) and Iron Frame', 'Best Selling Home Decor Ottavio Outdoor Daybed with Gray Cushion(S) and Acacia Frame']\n",
      "--------------------------------------------------\n",
      "12 foot step ladder ['Werner 7400 Fiberglass 12-ft Type 1AA- 375-lb Capacity Step Ladder', 'Werner 370 Aluminum 10-ft Type 1A- 300-lb Capacity Step Ladder', 'Werner NXT1A Fiberglass 12-ft Type 1A- 300 lbs. Capacity Step Ladder']\n",
      "--------------------------------------------------\n",
      "clorox pool filter sand ['Clorox Pool&Spa 25-lb Sand Pool Filter Aid']\n",
      "--------------------------------------------------\n",
      "ultrasonic rodent repellent ['Victor PestChaser Pest Repeller', 'Victor Heavy Sonic PestChaser Rodent Repellent']\n",
      "--------------------------------------------------\n",
      "roof cap vent ['Broan Universal Roof Cap (Black)']\n",
      "--------------------------------------------------\n",
      "====================================================================================================\n",
      "sample_1\n",
      "sample_2\n",
      "outdoor daybed ['Haven Way Hana Wicker Outdoor Sectional with White Cushion(S) and Aluminum Frame', 'Ovios New Vultros Rattan Outdoor Sofa Blue Cushion(S) and Rattan Frame', 'Style Selections Stratford Outdoor Sectional with Gray Cushion(S) and Steel Frame', 'XIZZI Vesta Wicker Outdoor Sofa with Blue Cushion(S) and Rattan Frame', 'Style Selections Avery station Wicker Outdoor Sectional with Off-white Cushion(S) and Steel Frame', 'Tribesigns Hofh007-gygy Wicker Outdoor Sectional with Gray Cushion(S) and Wicker Frame', 'Best Selling Home Decor Ottavio Outdoor Daybed with Gray Cushion(S) and Acacia Frame', 'Cambridge Casual Tulle Outdoor Daybed with Red Cushion(S) and Redwood Frame', 'Best Selling Home Decor Long beach Outdoor Daybed with Blue Cushion(S) and Acacia Frame', 'Holly & Martin Dolavon Outdoor Loveseat White Cushion(S) and Acacia Frame', 'Safavieh Cadeo Rattan Outdoor Daybed with Off-white Cushion(S) and Iron Frame', 'Goplus Wicker Outdoor Sectional with Blue Cushion(S) and Wicker Frame', 'Style Selections Westchester Outdoor Loveseat with Off-white Cushion(S) and Steel Frame']\n",
      "--------------------------------------------------\n",
      "12 foot step ladder ['Werner 400 Aluminum 12-ft Type 1AA- 375-lb Capacity Step Ladder', 'Werner 360 Aluminum 6-ft Type 1- 250-lb Capacity Step Ladder', 'Werner 370 Aluminum 10-ft Type 1A- 300-lb Capacity Step Ladder', 'Werner 360 Aluminum 8-ft Type 1- 250-lb Capacity Step Ladder', 'Werner NXT1A Fiberglass 6-ft Type 1A- 300 lbs. Capacity Step Ladder', 'Werner NXT1A Fiberglass 8-ft Type 1A- 300 lbs. Capacity Step Ladder', 'Werner 7400 Fiberglass 12-ft Type 1AA- 375-lb Capacity Step Ladder', 'Werner P6200 Fiberglass 12-ft Type 1A- 300-lb Capacity Platform Step Ladder', 'Werner PD6200 Fiberglass 11-ft Type 1A- 300-lb Capacity Platform Step Ladder', 'Werner NXT1A Fiberglass 12-ft Type 1A- 300 lbs. Capacity Step Ladder', 'Werner NXT1A Fiberglass 10-ft Type 1A- 300 lbs. Capacity Step Ladder', 'Werner 370 Aluminum 8-ft Type 1A- 300-lb Capacity Step Ladder', 'Werner 300 Aluminum 4-ft Type 1- 250 lbs. Capacity Step Ladder']\n",
      "--------------------------------------------------\n",
      "clorox pool filter sand ['Clorox Pool&Spa 24-lb D.E. Pool Filter Aid', 'Clorox Pool&Spa 25-lb Sand Pool Filter Aid', 'QUIKRETE 50-lb Sand Pool Filter Aid', 'HTH 10-lb D.E. Pool Filter Aid', 'HTH 50-lb Sand Pool Filter Aid', 'FilterBalls 2-lb Thermally Bonded Polyester Pool Filter Aid']\n",
      "--------------------------------------------------\n",
      "ultrasonic rodent repellent ['TOMCAT Child and Dog Resistant, Disposable Station Rat and Mouse Killer', 'TOMCAT Rodent Block Expanding Foam Barrier 12-oz Rat Prevent', 'TOMCAT Rodent Repellent', 'Stay Away Stay Away Rodent 4 Pack', 'Victor PestChaser Pest Repeller', 'Mighty Mint Peppermint Oil Spray- Non-Toxic 1-Gallon Rodent Control', 'Bonide Repels All Deer/Rabbit/Squirrel Repellent', 'Victor Heavy Sonic PestChaser Rodent Repellent', 'PEST OFFENSE Indoor Electronic Pest Repeller', 'TOMCAT Rodent Repellent Mouse Repellent', 'Rodent Sheriff 1-fl oz Pest Repeller', 'Mighty Mint Peppermint Oil Spray- Non Toxic Rodent Repellent', 'Bird-X Transonic Pro Pest Repeller']\n",
      "--------------------------------------------------\n",
      "roof cap vent ['Broan Universal Roof Cap (Aluminum)', 'Broan Universal Roof Cap (Black)', 'Broan Wall Cap (Black)', 'Broan Universal Roof Cap (Aluminum)', 'Lambro Universal Exhaust Kit (Black)']\n",
      "--------------------------------------------------\n",
      "====================================================================================================\n"
     ]
    }
   ],
   "source": [
    "idxes = np.random.randint(0,30000, 5)\n",
    "\n",
    "sample_1 = [list(qid_to_relpids.items())[idx] for idx in idxes]\n",
    "sample_2 = [list(di_ext_qid_to_relpids.items())[idx] for idx in idxes]\n",
    "sample_3 = [list(un_ext_qid_to_relpids.items())[idx] for idx in idxes]\n",
    "samples = [sample_1, sample_2, sample_3]\n",
    "for i in range(3):\n",
    "    print(f\"sample_{i}\")\n",
    "    if i==1:\n",
    "        continue\n",
    "    for qid, pids in samples[i]:\n",
    "        #print(qid_to_query[qid], [pid_to_prodocutid[_pid] for _pid in pids])\n",
    "        print(qid_to_query[qid], [pid_to_title[_pid] for _pid in pids])\n",
    "        print(\"-\"*50)\n",
    "    print(\"=\"*100)"
   ]
  },
  {
   "cell_type": "code",
   "execution_count": 17,
   "id": "f3cbf8be-db79-4297-a406-600734cbf6ac",
   "metadata": {},
   "outputs": [
    {
     "data": {
      "text/plain": [
       "(3003, array([  2.,   2.,   2.,   4.,   9., 195.]), 5.226440226440227)"
      ]
     },
     "execution_count": 17,
     "metadata": {},
     "output_type": "execute_result"
    }
   ],
   "source": []
  },
  {
   "cell_type": "code",
   "execution_count": null,
   "id": "47d55005-b8b9-4e38-b3de-f3a3e70350db",
   "metadata": {},
   "outputs": [],
   "source": []
  }
 ],
 "metadata": {
  "environment": {
   "kernel": "python3",
   "name": "tf2-gpu.2-9.m93",
   "type": "gcloud",
   "uri": "gcr.io/deeplearning-platform-release/tf2-gpu.2-9:m93"
  },
  "kernelspec": {
   "display_name": "Python 3.8.13 ('matchmaker')",
   "language": "python",
   "name": "python3"
  },
  "language_info": {
   "codemirror_mode": {
    "name": "ipython",
    "version": 3
   },
   "file_extension": ".py",
   "mimetype": "text/x-python",
   "name": "python",
   "nbconvert_exporter": "python",
   "pygments_lexer": "ipython3",
   "version": "3.8.13"
  },
  "vscode": {
   "interpreter": {
    "hash": "9c9569641937ce4addf5496cbe81a89e9d276a9857e7a9967fd6589fdce30733"
   }
  }
 },
 "nbformat": 4,
 "nbformat_minor": 5
}
