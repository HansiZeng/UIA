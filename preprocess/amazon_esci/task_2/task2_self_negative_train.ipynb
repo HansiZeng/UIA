{
 "cells": [
  {
   "cell_type": "code",
   "execution_count": 1,
   "id": "b0023d32-9a31-4601-acd4-6c795fa8653a",
   "metadata": {},
   "outputs": [],
   "source": [
    "import os\n",
    "import pickle as pkl\n",
    "from collections import defaultdict\n",
    "import random \n",
    "\n",
    "from tqdm import tqdm\n",
    "import networkx as nx\n",
    "import pandas as pd\n",
    "random.seed(4680)\n",
    "\n",
    "in_dir = \"/home/jupyter/unity_jointly_rec_and_search/datasets/amazon_esci_dataset/task_2_multiclass_product_classification/\"\n",
    "datas = []\n",
    "         \n",
    "fns = [\n",
    "    \"train_aid_to_simpids.pkl\",\n",
    "    \"train_aid_to_complpids.pkl\",\n",
    "    \"train_qid_to_relpids.pkl\",\n",
    "    ]\n",
    "for fn in fns:\n",
    "    with open(os.path.join(in_dir, fn), \"rb\") as fin:\n",
    "        datas.append(pkl.load(fin))\n",
    "\n",
    "train_aid_to_simpids, train_aid_to_complpids, train_qid_to_pids = datas\n",
    "\n",
    "\n",
    "max5_a2s = {}\n",
    "max5_a2c = {}\n",
    "max10_q2p = {}\n",
    "\n",
    "for aid, simpids in train_aid_to_simpids.items():\n",
    "    max5_a2s[aid] = random.sample(simpids, k=len(simpids))[:5]\n",
    "for aid, complpids in train_aid_to_complpids.items():\n",
    "    max5_a2c[aid] = random.sample(complpids, k=len(complpids))[:5]\n",
    "for qid, relpids in train_qid_to_pids.items():\n",
    "    max10_q2p[qid] = random.sample(relpids, k=len(relpids))[:10]\n",
    "    \n"
   ]
  },
  {
   "cell_type": "code",
   "execution_count": 2,
   "id": "2333530f-8e8b-4ca7-b199-af5c65aa3be9",
   "metadata": {},
   "outputs": [
    {
     "name": "stderr",
     "output_type": "stream",
     "text": [
      "100%|██████████| 1284209/1284209 [03:06<00:00, 6893.37it/s]\n"
     ]
    }
   ],
   "source": [
    "def create_self_triples(hid, pos_tid, hid_to_postids, sampler):\n",
    "    neg_tid = random.sample(sampler[hid], k=1)[0]\n",
    "    while neg_tid in hid_to_postids[hid]:\n",
    "        neg_tid = random.sample(sampler[hid], k=1)[0]\n",
    "    return (hid, pos_tid, neg_tid)\n",
    "\n",
    "eid_to_text = {}\n",
    "with open(os.path.join(in_dir, \"all_entities.tsv\")) as fin:\n",
    "    for line in fin:\n",
    "        eid, text = line.strip().split(\"\\t\")\n",
    "        eid_to_text[int(eid)] = text\n",
    "        \n",
    "exp_dir = \"/home/jupyter/unity_jointly_rec_and_search/experiments/amazon_esci/task2/experiment_10-05_032456\"\n",
    "run_path = os.path.join(exp_dir, \"runs/checkpoint_latest.all.run\")\n",
    "df = pd.read_csv(run_path, sep=\"\\t\", names=[\"hid\", \"tid\", \"rank\", \"score\"])\n",
    "self_hid_to_tids = {}\n",
    "number_of_group = len(df.hid.unique())\n",
    "for hid, group in tqdm(df.groupby(\"hid\"), total=number_of_group):\n",
    "    cand_tids = list(group.tid.values)\n",
    "    assert len(cand_tids) == 200\n",
    "    self_hid_to_tids[int(hid)] = [int(x) for x in cand_tids]\n",
    "        "
   ]
  },
  {
   "cell_type": "code",
   "execution_count": 3,
   "id": "e0ea9763-3590-457b-a820-2e4e39b88366",
   "metadata": {},
   "outputs": [],
   "source": [
    "a2s_triples = []\n",
    "a2c_triples = []\n",
    "q2p_triples = []\n",
    "\n",
    "for aid, simpids in max5_a2s.items():\n",
    "    for pos_pid in simpids:\n",
    "        triple = create_self_triples(aid, pos_pid, train_aid_to_simpids, self_hid_to_tids)\n",
    "        a2s_triples.append(triple)\n",
    "        \n",
    "for aid, complpids in max5_a2c.items():\n",
    "    for pos_pid in complpids:\n",
    "        triple = create_self_triples(aid, pos_pid, train_aid_to_complpids, self_hid_to_tids)\n",
    "        a2c_triples.append(triple)\n",
    "        \n",
    "for qid, relpids in max10_q2p.items():\n",
    "    for pos_pid in relpids:\n",
    "        triple = create_self_triples(qid, pos_pid, train_qid_to_pids, self_hid_to_tids)\n",
    "        q2p_triples.append(triple)\n",
    "\n",
    "SIM_RELATION = \"is_similar_to\"\n",
    "COMPL_RELATION = \"is_complementary_to\"\n",
    "REL_RELATION = \"is_relevant_to\"\n",
    "\n",
    "out_dir = os.path.join(exp_dir, \"self_train\")\n",
    "if not os.path.exists(out_dir):\n",
    "    os.mkdir(out_dir)\n",
    "    \n",
    "fn_to_data = {\n",
    "    \"a2s.train.tsv\": (a2s_triples, SIM_RELATION),\n",
    "    \"a2c.train.tsv\": (a2c_triples, COMPL_RELATION),\n",
    "    \"q2p.train.tsv\": (q2p_triples, REL_RELATION),\n",
    "    \n",
    "    \"a2s.50.train.tsv\": (random.sample(a2s_triples, k=int(0.5*len(a2s_triples))), SIM_RELATION),\n",
    "}\n",
    "\n",
    "for fn, (triples, relation) in fn_to_data.items():\n",
    "    fn = os.path.join(out_dir, fn)\n",
    "    with open(fn, \"w\") as fout:\n",
    "        for triple in triples:\n",
    "            hid, pos_tid, neg_tid = triple\n",
    "            fout.write(f\"{hid}\\t{pos_tid}\\t{neg_tid}\\t{relation}\\n\")\n"
   ]
  },
  {
   "cell_type": "code",
   "execution_count": 6,
   "id": "914d1832-dad0-4f20-9dc0-7fd87bba89cb",
   "metadata": {},
   "outputs": [
    {
     "name": "stdout",
     "output_type": "stream",
     "text": [
      "454902 /home/jupyter/unity_jointly_rec_and_search/experiments/amazon_esci/task2/experiment_10-05_032456/self_train/q2p.train.tsv\n",
      "1267636\t517030\t421813\tis_relevant_to\n",
      "1267636\t517041\t421813\tis_relevant_to\n",
      "1267636\t892198\t694297\tis_relevant_to\n",
      "1281425\t1195273\t187179\tis_relevant_to\n",
      "1281425\t971808\t236062\tis_relevant_to\n",
      "1281425\t775780\t465835\tis_relevant_to\n",
      "====================================================================================================\n",
      "1068035 /home/jupyter/unity_jointly_rec_and_search/experiments/amazon_esci/task2/experiment_10-05_032456/self_train/a2s.train.tsv\n",
      "881159\t19\t913711\tis_similar_to\n",
      "881159\t953826\t674265\tis_similar_to\n",
      "881159\t881221\t222536\tis_similar_to\n",
      "766742\t766747\t162519\tis_similar_to\n",
      "766742\t766758\t174828\tis_similar_to\n",
      "766742\t766722\t997089\tis_similar_to\n",
      "====================================================================================================\n",
      "184468 /home/jupyter/unity_jointly_rec_and_search/experiments/amazon_esci/task2/experiment_10-05_032456/self_train/a2c.train.tsv\n",
      "881159\t1032053\t1107646\tis_complementary_to\n",
      "881159\t1033049\t454453\tis_complementary_to\n",
      "881159\t953818\t953807\tis_complementary_to\n",
      "766746\t766736\t117006\tis_complementary_to\n",
      "766746\t766723\t397113\tis_complementary_to\n",
      "766746\t766732\t924770\tis_complementary_to\n",
      "====================================================================================================\n",
      "534017 /home/jupyter/unity_jointly_rec_and_search/experiments/amazon_esci/task2/experiment_10-05_032456/self_train/a2s.50.train.tsv\n",
      "680438\t1071667\t299779\tis_similar_to\n",
      "124200\t849952\t406313\tis_similar_to\n",
      "609304\t353692\t998454\tis_similar_to\n",
      "602350\t602342\t1009133\tis_similar_to\n",
      "1007379\t1159247\t270979\tis_similar_to\n",
      "696887\t696885\t696912\tis_similar_to\n",
      "====================================================================================================\n"
     ]
    }
   ],
   "source": [
    "# sanity check\n",
    "for path in os.listdir(out_dir):\n",
    "    path = os.path.join(out_dir, path)\n",
    "    ! wc -l $path\n",
    "    ! head -n 3 $path\n",
    "    ! tail -n 3 $path\n",
    "    print(\"=\"*100)"
   ]
  },
  {
   "cell_type": "code",
   "execution_count": 7,
   "id": "1ece0071-9bf1-48bc-b067-4421b6f1efa1",
   "metadata": {},
   "outputs": [
    {
     "name": "stdout",
     "output_type": "stream",
     "text": [
      "Wella Color Perfect Permanent Creme Gel Haircolor - 5n Light Brown By for Unisex - 2 Ounce Hair Color, 2 Ounce\n",
      "Wella EIMI Perfect Me Lightweight Beauty Balm BB Lotion, 3.38 fl oz.\n",
      "Garnier Nutrisse Ultra Color Nourishing Permanent Hair Color Cream, B4 Caramel Chocolate (2 Count) Brown Hair Dye\n"
     ]
    }
   ],
   "source": [
    "hid, pos_tid, neg_tid = (602350,602342,1009133)\n",
    "print(eid_to_text[hid])\n",
    "print(eid_to_text[pos_tid])\n",
    "print(eid_to_text[neg_tid])"
   ]
  },
  {
   "cell_type": "code",
   "execution_count": null,
   "id": "d6bf89e3-6945-4983-8008-77fcfcdf9e4b",
   "metadata": {},
   "outputs": [],
   "source": []
  }
 ],
 "metadata": {
  "environment": {
   "kernel": "python3",
   "name": "tf2-gpu.2-9.m93",
   "type": "gcloud",
   "uri": "gcr.io/deeplearning-platform-release/tf2-gpu.2-9:m93"
  },
  "kernelspec": {
   "display_name": "Python 3",
   "language": "python",
   "name": "python3"
  },
  "language_info": {
   "codemirror_mode": {
    "name": "ipython",
    "version": 3
   },
   "file_extension": ".py",
   "mimetype": "text/x-python",
   "name": "python",
   "nbconvert_exporter": "python",
   "pygments_lexer": "ipython3",
   "version": "3.7.12"
  }
 },
 "nbformat": 4,
 "nbformat_minor": 5
}
