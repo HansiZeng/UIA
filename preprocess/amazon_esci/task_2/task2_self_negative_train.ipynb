{
 "cells": [
  {
   "cell_type": "code",
   "execution_count": 1,
   "id": "b0023d32-9a31-4601-acd4-6c795fa8653a",
   "metadata": {},
   "outputs": [],
   "source": [
    "import os\n",
    "import pickle as pkl\n",
    "from collections import defaultdict\n",
    "import random \n",
    "\n",
    "from tqdm import tqdm\n",
    "import networkx as nx\n",
    "import pandas as pd\n",
    "random.seed(4680)\n",
    "\n",
    "in_dir = \"/home/jupyter/unity_jointly_rec_and_search/datasets/amazon_esci_dataset/task_2_multiclass_product_classification/\"\n",
    "datas = []\n",
    "         \n",
    "fns = [\n",
    "    \"train_aid_to_simpids.pkl\",\n",
    "    \"train_aid_to_complpids.pkl\",\n",
    "    \"train_qid_to_relpids.pkl\",\n",
    "    ]\n",
    "for fn in fns:\n",
    "    with open(os.path.join(in_dir, fn), \"rb\") as fin:\n",
    "        datas.append(pkl.load(fin))\n",
    "\n",
    "train_aid_to_simpids, train_aid_to_complpids, train_qid_to_pids = datas\n",
    "\n",
    "\n",
    "max5_a2s = {}\n",
    "max5_a2c = {}\n",
    "max10_q2p = {}\n",
    "\n",
    "for aid, simpids in train_aid_to_simpids.items():\n",
    "    max5_a2s[aid] = random.sample(simpids, k=len(simpids))[:5]\n",
    "for aid, complpids in train_aid_to_complpids.items():\n",
    "    max5_a2c[aid] = random.sample(complpids, k=len(complpids))[:5]\n",
    "for qid, relpids in train_qid_to_pids.items():\n",
    "    max10_q2p[qid] = random.sample(relpids, k=len(relpids))[:10]\n",
    "    \n"
   ]
  },
  {
   "cell_type": "code",
   "execution_count": 2,
   "id": "2333530f-8e8b-4ca7-b199-af5c65aa3be9",
   "metadata": {},
   "outputs": [
    {
     "name": "stderr",
     "output_type": "stream",
     "text": [
      "100%|██████████| 1284209/1284209 [03:03<00:00, 6986.86it/s]\n"
     ]
    }
   ],
   "source": [
    "def create_self_triples(hid, pos_tid, hid_to_postids, sampler):\n",
    "    neg_tid = random.sample(sampler[hid], k=1)[0]\n",
    "    while neg_tid in hid_to_postids[hid]:\n",
    "        neg_tid = random.sample(sampler[hid], k=1)[0]\n",
    "    return (hid, pos_tid, neg_tid)\n",
    "\n",
    "eid_to_text = {}\n",
    "with open(os.path.join(in_dir, \"all_entities.tsv\")) as fin:\n",
    "    for line in fin:\n",
    "        eid, text = line.strip().split(\"\\t\")\n",
    "        eid_to_text[int(eid)] = text\n",
    "        \n",
    "exp_dir = \"/home/jupyter/unity_jointly_rec_and_search/experiments/amazon_esci/task2/phase_2/experiment_09-20_092917\"\n",
    "run_path = os.path.join(exp_dir, \"runs/checkpoint_latest.all.run\")\n",
    "df = pd.read_csv(run_path, sep=\"\\t\", names=[\"hid\", \"tid\", \"rank\", \"score\"])\n",
    "self_hid_to_tids = {}\n",
    "number_of_group = len(df.hid.unique())\n",
    "for hid, group in tqdm(df.groupby(\"hid\"), total=number_of_group):\n",
    "    cand_tids = list(group.tid.values)\n",
    "    assert len(cand_tids) == 200\n",
    "    self_hid_to_tids[int(hid)] = [int(x) for x in cand_tids]\n",
    "        "
   ]
  },
  {
   "cell_type": "code",
   "execution_count": 3,
   "id": "e0ea9763-3590-457b-a820-2e4e39b88366",
   "metadata": {},
   "outputs": [],
   "source": [
    "a2s_triples = []\n",
    "a2c_triples = []\n",
    "q2p_triples = []\n",
    "\n",
    "for aid, simpids in max5_a2s.items():\n",
    "    for pos_pid in simpids:\n",
    "        triple = create_self_triples(aid, pos_pid, train_aid_to_simpids, self_hid_to_tids)\n",
    "        a2s_triples.append(triple)\n",
    "        \n",
    "for aid, complpids in max5_a2c.items():\n",
    "    for pos_pid in complpids:\n",
    "        triple = create_self_triples(aid, pos_pid, train_aid_to_complpids, self_hid_to_tids)\n",
    "        a2c_triples.append(triple)\n",
    "        \n",
    "for qid, relpids in max10_q2p.items():\n",
    "    for pos_pid in relpids:\n",
    "        triple = create_self_triples(qid, pos_pid, train_qid_to_pids, self_hid_to_tids)\n",
    "        q2p_triples.append(triple)\n",
    "\n",
    "SIM_RELATION = \"is_similar_to\"\n",
    "COMPL_RELATION = \"is_complementary_to\"\n",
    "REL_RELATION = \"is_relevant_to\"\n",
    "\n",
    "out_dir = os.path.join(exp_dir, \"self_train\")\n",
    "if not os.path.exists(out_dir):\n",
    "    os.mkdir(out_dir)\n",
    "    \n",
    "fn_to_data = {\n",
    "    \"a2s.train.tsv\": (a2s_triples, SIM_RELATION),\n",
    "    \"a2c.train.tsv\": (a2c_triples, COMPL_RELATION),\n",
    "    \"q2p.train.tsv\": (q2p_triples, REL_RELATION),\n",
    "    \n",
    "    \"a2s.50.train.tsv\": (random.sample(a2s_triples, k=int(0.5*len(a2s_triples))), SIM_RELATION),\n",
    "}\n",
    "\n",
    "for fn, (triples, relation) in fn_to_data.items():\n",
    "    fn = os.path.join(out_dir, fn)\n",
    "    with open(fn, \"w\") as fout:\n",
    "        for triple in triples:\n",
    "            hid, pos_tid, neg_tid = triple\n",
    "            fout.write(f\"{hid}\\t{pos_tid}\\t{neg_tid}\\t{relation}\\n\")\n"
   ]
  },
  {
   "cell_type": "code",
   "execution_count": 4,
   "id": "914d1832-dad0-4f20-9dc0-7fd87bba89cb",
   "metadata": {},
   "outputs": [
    {
     "name": "stdout",
     "output_type": "stream",
     "text": [
      "454902 /home/jupyter/unity_jointly_rec_and_search/experiments/amazon_esci/task2/phase_2/experiment_09-20_092917/self_train/q2p.train.tsv\n",
      "1267636\t517030\t1025121\tis_relevant_to\n",
      "1267636\t517041\t876388\tis_relevant_to\n",
      "1267636\t892198\t694296\tis_relevant_to\n",
      "1281425\t1195273\t692297\tis_relevant_to\n",
      "1281425\t971808\t687394\tis_relevant_to\n",
      "1281425\t775780\t1033410\tis_relevant_to\n",
      "====================================================================================================\n",
      "1068035 /home/jupyter/unity_jointly_rec_and_search/experiments/amazon_esci/task2/phase_2/experiment_09-20_092917/self_train/a2s.train.tsv\n",
      "881159\t19\t953813\tis_similar_to\n",
      "881159\t953826\t680821\tis_similar_to\n",
      "881159\t881221\t173547\tis_similar_to\n",
      "766742\t766747\t998232\tis_similar_to\n",
      "766742\t766758\t192201\tis_similar_to\n",
      "766742\t766722\t1008598\tis_similar_to\n",
      "====================================================================================================\n",
      "184468 /home/jupyter/unity_jointly_rec_and_search/experiments/amazon_esci/task2/phase_2/experiment_09-20_092917/self_train/a2c.train.tsv\n",
      "881159\t1032053\t500117\tis_complementary_to\n",
      "881159\t1033049\t655386\tis_complementary_to\n",
      "881159\t953818\t1017029\tis_complementary_to\n",
      "766746\t766736\t893841\tis_complementary_to\n",
      "766746\t766723\t714760\tis_complementary_to\n",
      "766746\t766732\t392744\tis_complementary_to\n",
      "====================================================================================================\n",
      "534017 /home/jupyter/unity_jointly_rec_and_search/experiments/amazon_esci/task2/phase_2/experiment_09-20_092917/self_train/a2s.50.train.tsv\n",
      "153736\t153735\t498282\tis_similar_to\n",
      "211775\t211779\t68921\tis_similar_to\n",
      "1213973\t1213982\t555927\tis_similar_to\n",
      "273448\t273444\t963638\tis_similar_to\n",
      "655652\t635962\t1097502\tis_similar_to\n",
      "961172\t838894\t961180\tis_similar_to\n",
      "====================================================================================================\n"
     ]
    }
   ],
   "source": [
    "# sanity check\n",
    "for path in os.listdir(out_dir):\n",
    "    path = os.path.join(out_dir, path)\n",
    "    ! wc -l $path\n",
    "    ! head -n 3 $path\n",
    "    ! tail -n 3 $path\n",
    "    print(\"=\"*100)"
   ]
  },
  {
   "cell_type": "code",
   "execution_count": 5,
   "id": "1ece0071-9bf1-48bc-b067-4421b6f1efa1",
   "metadata": {},
   "outputs": [
    {
     "name": "stdout",
     "output_type": "stream",
     "text": [
      "Dixon No. 2 Yellow Pencils, Wood-Cased, Black Core, #2 HB Soft, 12-Count (14402)\n",
      "Arteza HB Pencils #2, Pack of 48, Wood-Cased Graphite Pencils in Bulk, Pre-Sharpened, with Latex-Free Erasers, Office & School Supplies for Exams and Classrooms\n",
      "June Gold 8 Pack 0.5 mm HB #2 Mechanical Pencils, Extra Long Spin Eraser, 2 Lead Dispensers/w 220 Refills & 8 Refill Erasers, Break Resistant Lead, Soft Non-Slip Grip\n"
     ]
    }
   ],
   "source": [
    "hid, pos_tid, neg_tid = (881159,953818,189332)\n",
    "print(eid_to_text[hid])\n",
    "print(eid_to_text[pos_tid])\n",
    "print(eid_to_text[neg_tid])"
   ]
  },
  {
   "cell_type": "code",
   "execution_count": null,
   "id": "d6bf89e3-6945-4983-8008-77fcfcdf9e4b",
   "metadata": {},
   "outputs": [],
   "source": []
  }
 ],
 "metadata": {
  "environment": {
   "kernel": "python3",
   "name": "tf2-gpu.2-9.m93",
   "type": "gcloud",
   "uri": "gcr.io/deeplearning-platform-release/tf2-gpu.2-9:m93"
  },
  "kernelspec": {
   "display_name": "Python 3",
   "language": "python",
   "name": "python3"
  },
  "language_info": {
   "codemirror_mode": {
    "name": "ipython",
    "version": 3
   },
   "file_extension": ".py",
   "mimetype": "text/x-python",
   "name": "python",
   "nbconvert_exporter": "python",
   "pygments_lexer": "ipython3",
   "version": "3.7.12"
  }
 },
 "nbformat": 4,
 "nbformat_minor": 5
}
