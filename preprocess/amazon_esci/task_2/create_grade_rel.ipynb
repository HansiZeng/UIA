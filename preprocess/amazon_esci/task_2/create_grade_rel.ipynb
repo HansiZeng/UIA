{
 "cells": [
  {
   "cell_type": "code",
   "execution_count": 14,
   "id": "cff39fc5-57c4-4f12-9ffc-a565e714f2c8",
   "metadata": {},
   "outputs": [],
   "source": [
    "import os\n",
    "import pandas as pd\n",
    "from collections import defaultdict\n",
    "\n",
    "in_dir = \"/home/jupyter/unity_jointly_rec_and_search/datasets/amazon_esci_dataset/task_2_multiclass_product_classification/unified_test/\"\n",
    "binary_qrel_path = os.path.join(in_dir, \"qrels.test.tsv\")\n",
    "\n",
    "qid_to_relpids = defaultdict(set)\n",
    "with open(binary_qrel_path) as fin:\n",
    "    for line in fin:\n",
    "        array = line.strip().split(\"\\t\")\n",
    "        qid, pid = int(array[0]), int(array[2])\n",
    "        qid_to_relpids[qid].add(pid)\n"
   ]
  },
  {
   "cell_type": "code",
   "execution_count": 2,
   "id": "469666c8-f223-4357-b0c0-ee852c6aab1c",
   "metadata": {},
   "outputs": [],
   "source": [
    "root_dir = \"/home/jupyter/unity_jointly_rec_and_search/datasets/amazon_esci_dataset/task_2_multiclass_product_classification/\"\n",
    "product_catalogue_path = os.path.join(root_dir, \"product_catalogue-v0.3.csv\")\n",
    "\n",
    "product_df = pd.read_csv(product_catalogue_path)\n",
    "product_df.fillna('unknown', inplace=True)\n",
    "product_df = product_df[product_df.product_locale==\"us\"]\n",
    "\n",
    "train_df = pd.read_csv(os.path.join(root_dir, \"train-v0.3.csv\"))\n",
    "train_df = train_df[train_df.query_locale==\"us\"]\n",
    "query_to_qid = {query: qid+len(product_df) for qid, query in enumerate(train_df[\"query\"].unique())}\n",
    "train_df[\"query_id\"] = train_df[\"query\"].apply(lambda x: query_to_qid[x])"
   ]
  },
  {
   "cell_type": "code",
   "execution_count": 16,
   "id": "275c0b62-af26-4342-9544-5026fa732e6f",
   "metadata": {},
   "outputs": [
    {
     "name": "stderr",
     "output_type": "stream",
     "text": [
      "100%|██████████| 1272626/1272626 [01:17<00:00, 16466.25it/s]\n"
     ]
    }
   ],
   "source": [
    "from tqdm import tqdm\n",
    "\n",
    "pid_to_ivm = {pid: ivm for pid, ivm in enumerate(product_df.product_id.unique())}\n",
    "ivm_to_pid = {ivm: pid for pid, ivm in pid_to_ivm.items()}\n",
    "qid_to_reldata = defaultdict(list)\n",
    "for i, row in tqdm(train_df.iterrows(), total=len(train_df)):\n",
    "    qid, ivm, label = row.query_id, row.product_id, row.esci_label\n",
    "    pid = ivm_to_pid[ivm]\n",
    "    if qid not in qid_to_relpids:\n",
    "        continue\n",
    "    if label == \"exact\":\n",
    "        assert pid in qid_to_relpids[qid], (qid, pid, qid_to_relpids[qid])\n",
    "        qid_to_reldata[qid].append((pid, 3.0))\n",
    "    elif label == \"substitute\":\n",
    "        qid_to_reldata[qid].append((pid, 2.0))\n",
    "    elif label == \"complement\":\n",
    "        qid_to_reldata[qid].append((pid, 1.0))\n",
    "    else:\n",
    "        assert label == \"irrelevant\", label"
   ]
  },
  {
   "cell_type": "code",
   "execution_count": 23,
   "id": "fe38573e-4751-4e3c-8fda-a14fdd14933d",
   "metadata": {},
   "outputs": [],
   "source": [
    "with open(os.path.join(in_dir, \"grade_qrels.test.tsv\"), \"w\") as fout:\n",
    "    for qid, reldatas in qid_to_reldata.items():\n",
    "        for pid, score in reldatas:\n",
    "            fout.write(f\"{qid}\\tQ0\\t{pid}\\t{score}\\n\")"
   ]
  },
  {
   "cell_type": "code",
   "execution_count": 27,
   "id": "8e80814c-0910-4cd8-b1b7-ee6b956b1397",
   "metadata": {},
   "outputs": [
    {
     "data": {
      "text/plain": [
       "{'MRR@10': 0.5340458020601843,\n",
       " 'QueriesWithRelevant@10': 5284,\n",
       " 'MRR@1000': 0.541832411671326,\n",
       " 'QueriesWithRelevant@1000': 6684,\n",
       " 'Recall@50': 0.4225834406835569,\n",
       " 'Recall@1000': 0.7892604184552738,\n",
       " 'nDCG@10': 0.33660811364223714,\n",
       " 'nDCG@100': 0.43181201635523137,\n",
       " 'MAP@1000': 0.2524931985012174,\n",
       " 'QueriesRanked': 6814}"
      ]
     },
     "execution_count": 27,
     "metadata": {},
     "output_type": "execute_result"
    }
   ],
   "source": [
    "import sys \n",
    "sys.path.append(\"/home/jupyter/unity_jointly_rec_and_search/kgc-dr/\")\n",
    "\n",
    "from evaluation.retrieval_evaluator import RankingEvaluator\n",
    "\n",
    "qrel_path = os.path.join(in_dir, \"grade_qrels.test.tsv\")\n",
    "evaluator = RankingEvaluator(qrel_path)\n",
    "\n",
    "expeirment_folder=\"/home/jupyter/unity_jointly_rec_and_search/experiments/amazon_esci/task2/dot-v5/\"\n",
    "ranking_path=os.path.join(expeirment_folder, \"experiment_10-05_010529/runs/checkpoint_latest.test.query.small.run\")\n",
    "\n",
    "evaluator.compute_metrics(ranking_path)"
   ]
  },
  {
   "cell_type": "code",
   "execution_count": 26,
   "id": "ebced8f5-656e-4671-88d5-6a5a1f173735",
   "metadata": {},
   "outputs": [
    {
     "data": {
      "text/plain": [
       "{'MRR@10': 0.5388963794729906,\n",
       " 'QueriesWithRelevant@10': 5115,\n",
       " 'MRR@1000': 0.5465898001488014,\n",
       " 'QueriesWithRelevant@1000': 6577,\n",
       " 'Recall@50': 0.4136988847695458,\n",
       " 'Recall@1000': 0.7269261664885075,\n",
       " 'nDCG@10': 0.3436112498540656,\n",
       " 'nDCG@100': 0.4232996162266999,\n",
       " 'MAP@1000': 0.25679039880712223,\n",
       " 'QueriesRanked': 6781}"
      ]
     },
     "execution_count": 26,
     "metadata": {},
     "output_type": "execute_result"
    }
   ],
   "source": [
    "ranking_path=os.path.join(\"/home/jupyter/jointly_rec_and_search/experiments/bm25/amazon_esci/usearch.test.dr.run\")\n",
    "evaluator.compute_metrics(ranking_path)"
   ]
  },
  {
   "cell_type": "code",
   "execution_count": null,
   "id": "248b8389-131e-492d-b08a-e47826081d7b",
   "metadata": {},
   "outputs": [],
   "source": []
  }
 ],
 "metadata": {
  "environment": {
   "kernel": "python3",
   "name": "tf2-gpu.2-9.m93",
   "type": "gcloud",
   "uri": "gcr.io/deeplearning-platform-release/tf2-gpu.2-9:m93"
  },
  "kernelspec": {
   "display_name": "Python 3",
   "language": "python",
   "name": "python3"
  },
  "language_info": {
   "codemirror_mode": {
    "name": "ipython",
    "version": 3
   },
   "file_extension": ".py",
   "mimetype": "text/x-python",
   "name": "python",
   "nbconvert_exporter": "python",
   "pygments_lexer": "ipython3",
   "version": "3.7.12"
  }
 },
 "nbformat": 4,
 "nbformat_minor": 5
}
