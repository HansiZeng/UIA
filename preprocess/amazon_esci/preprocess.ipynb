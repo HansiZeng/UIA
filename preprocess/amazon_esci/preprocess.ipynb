{
 "cells": [
  {
   "cell_type": "code",
   "execution_count": 1,
   "id": "53d0605c-4fc7-494c-97d9-db784731475d",
   "metadata": {},
   "outputs": [
    {
     "name": "stderr",
     "output_type": "stream",
     "text": [
      "100%|██████████| 419730/419730 [00:24<00:00, 17404.50it/s]\n"
     ]
    }
   ],
   "source": [
    "import os\n",
    "import re \n",
    "from collections import defaultdict\n",
    "\n",
    "import pandas as pd \n",
    "from tqdm import tqdm\n",
    "\n",
    "root_dir = \"/home/jupyter/unity_jointly_rec_and_search/datasets/amazon_esci_dataset/data/processed/public/task_1_query_product_ranking/\"\n",
    "\n",
    "# preprocess product_df\n",
    "col_product_id = \"product_id\"\n",
    "col_product_title = \"product_title\"\n",
    "col_product_description = \"product_description\"\n",
    "col_product_bullet = 'product_bullet_point'\n",
    "col_product_brand = 'product_brand'\n",
    "col_product_color = \"product_color_name\"\n",
    "col_product_locale = \"product_locale\"\n",
    "\n",
    "product_catalogue_path = os.path.join(root_dir, \"product_catalogue-v0.3.csv\")\n",
    "\n",
    "product_df = pd.read_csv(product_catalogue_path)\n",
    "product_df.fillna('unknown', inplace=True)\n",
    "replace_pattern = re.escape(\";+/\\.?\")\n",
    "replace_pattern = f\"[{replace_pattern}\\n]+\"\n",
    "product_df[col_product_description] = product_df[col_product_description] \\\n",
    "    .str.replace(\"<\\w+>\", \" \", regex=True) \\\n",
    "    .str.replace(\"</\\w+>\", \" \", regex=True) \\\n",
    "    .str.strip()\n",
    "product_df[col_product_bullet] = product_df[col_product_bullet] \\\n",
    "    .str.replace(\"<\\w+>\", \" \", regex=True) \\\n",
    "    .str.replace(\"</\\w+>\", \" \", regex=True) \\\n",
    "    .str.strip()\n",
    "\n",
    "product_df = product_df[product_df.product_locale==\"us\"]\n",
    "\n",
    "\n",
    "pid_to_ivm = {pid: ivm for pid, ivm in enumerate(product_df.product_id.unique())}\n",
    "ivm_to_pid = {ivm: pid for pid, ivm in pid_to_ivm.items()}\n",
    "pid_to_title = {ivm_to_pid[ivm]: title for ivm, title in zip(product_df.product_id, product_df.product_title)}\n",
    "pid_to_desc = {ivm_to_pid[ivm]: desc for ivm, desc in zip(product_df.product_id, product_df.product_description)}\n",
    "pid_to_brand = {ivm_to_pid[ivm]: brand for ivm, brand in zip(product_df.product_id, product_df.product_brand)}\n",
    "pid_to_color = {ivm_to_pid[ivm]: color for ivm, color in zip(product_df.product_id, product_df.product_color_name)}\n",
    "assert len(product_df) == len(pid_to_ivm) == len(pid_to_title) == len(ivm_to_pid)\n",
    "\n",
    "# preprocess train_df\n",
    "train_df = pd.read_csv(os.path.join(root_dir, \"train-v0.3.csv\"))\n",
    "train_df = train_df[train_df.query_locale==\"us\"]\n",
    "query_to_qid = {query: qid+len(product_df) for qid, query in enumerate(train_df[\"query\"].unique())}\n",
    "train_df[\"query_id\"] = train_df[\"query\"].apply(lambda x: query_to_qid[x])\n",
    "\n",
    "qid_to_relpids = defaultdict(set)\n",
    "qid_to_simpids = defaultdict(set)\n",
    "qid_to_complpids = defaultdict(set)\n",
    "\n",
    "for i, row in tqdm(train_df.iterrows(), total=len(train_df)):\n",
    "    qid, ivm, label = row.query_id, row.product_id, row.esci_label\n",
    "    pid = ivm_to_pid[ivm]\n",
    "    if label == \"exact\":\n",
    "        qid_to_relpids[qid].add(pid)\n",
    "    elif label == \"substitute\":\n",
    "        qid_to_simpids[qid].add(pid)\n",
    "    elif label == \"complement\":\n",
    "        qid_to_complpids[qid].add(pid)\n",
    "    else:\n",
    "        assert label == \"irrelevant\", label"
   ]
  },
  {
   "cell_type": "code",
   "execution_count": 2,
   "id": "73120dc1-2355-46d1-9372-7b15cb0a0d36",
   "metadata": {},
   "outputs": [
    {
     "name": "stderr",
     "output_type": "stream",
     "text": [
      "100%|██████████| 20888/20888 [00:00<00:00, 37745.40it/s]\n"
     ]
    },
    {
     "name": "stdout",
     "output_type": "stream",
     "text": [
      "number of aids for sim_rec, compl_rec = 146,300, 48,842, qids for search = 20,888\n",
      "average rels for sim_rec, compl_rec, search = 8.218, 3.587, 8.706\n"
     ]
    },
    {
     "name": "stderr",
     "output_type": "stream",
     "text": [
      "100%|██████████| 146300/146300 [01:41<00:00, 1448.45it/s]\n",
      "100%|██████████| 48842/48842 [00:09<00:00, 4940.66it/s]\n"
     ]
    },
    {
     "name": "stdout",
     "output_type": "stream",
     "text": [
      "number of aid_to_simpids  train = 117,040, val = 14,630, test = 14,630\n",
      "number of aid_to_complpids train = 39,074, val = 4,884, test = 4,884\n",
      "number of qid_to_relpids train = 16,710, val = 2,089, test = 2,089\n"
     ]
    }
   ],
   "source": [
    "import numpy as np \n",
    "import pickle as pkl\n",
    "import random\n",
    "random.seed(4680)\n",
    "\n",
    "aid_to_simpids = defaultdict(set)\n",
    "aid_to_complpids = defaultdict(set)\n",
    "\n",
    "for qid in tqdm(qid_to_relpids, total=len(qid_to_relpids)):\n",
    "    aids = list(qid_to_relpids[qid])\n",
    "    if qid in qid_to_simpids:\n",
    "        for aid in aids:\n",
    "            aid_to_simpids[aid].update(qid_to_simpids[qid])\n",
    "    if qid in qid_to_complpids:\n",
    "        for aid in aids:\n",
    "            aid_to_complpids[aid].update(qid_to_complpids[qid])\n",
    "            \n",
    "print(\"number of aids for sim_rec, compl_rec = {:,}, {:,}, qids for search = {:,}\".format(\n",
    "    len(aid_to_simpids), len(aid_to_complpids), len(qid_to_relpids)))\n",
    "print(\"average rels for sim_rec, compl_rec, search = {:.3f}, {:.3f}, {:.3f}\".format(\n",
    "    np.mean([len(xs) for xs in aid_to_simpids.values()]), np.mean([len(xs) for xs in aid_to_complpids.values()]),\n",
    "     np.mean([len(xs) for xs in qid_to_relpids.values()])))\n",
    "\n",
    "\n",
    "# train & valid & test split\n",
    "# for similar items\n",
    "val_test_aids = random.sample(aid_to_simpids.keys(), int(0.2*len(aid_to_simpids)))\n",
    "val_aids = val_test_aids[:int(0.5*len(val_test_aids))]\n",
    "test_aids = val_test_aids[int(0.5*len(val_test_aids)):]\n",
    "train_aid_to_simpids, val_aid_to_simpids, test_aid_to_simpids = {}, {}, {}\n",
    "for aid, simpids in tqdm(aid_to_simpids.items(), total=len(aid_to_simpids)):\n",
    "    if aid in val_aids:\n",
    "        val_aid_to_simpids[aid] = simpids\n",
    "    elif aid in test_aids:\n",
    "        test_aid_to_simpids[aid] = simpids\n",
    "    else:\n",
    "        train_aid_to_simpids[aid] = simpids\n",
    "        \n",
    "# for complementary items\n",
    "val_test_aids = random.sample(aid_to_complpids.keys(), int(0.2*len(aid_to_complpids)))\n",
    "val_aids = val_test_aids[:int(0.5*len(val_test_aids))]\n",
    "test_aids = val_test_aids[int(0.5*len(val_test_aids)):]\n",
    "train_aid_to_complpids, val_aid_to_complpids, test_aid_to_complpids = {}, {}, {}\n",
    "for aid, complpids in tqdm(aid_to_complpids.items(), total=len(aid_to_complpids)):\n",
    "    if aid in val_aids:\n",
    "        val_aid_to_complpids[aid] = complpids\n",
    "    elif aid in test_aids:\n",
    "        test_aid_to_complpids[aid] = complpids\n",
    "    else:\n",
    "        train_aid_to_complpids[aid] = complpids\n",
    "\n",
    "# for queries\n",
    "qid_pids_pairs = list(qid_to_relpids.items())\n",
    "random.shuffle(qid_pids_pairs)\n",
    "train_qid_to_relpids = {qid: pids for qid, pids in qid_pids_pairs[:int(0.8*len(qid_pids_pairs))]}\n",
    "val_qid_to_relpids = {qid: pids for qid, pids in qid_pids_pairs[int(0.8*len(qid_pids_pairs)): int(0.9*len(qid_pids_pairs))]}\n",
    "test_qid_to_relpids = {qid: pids for qid, pids in qid_pids_pairs[int(0.9*len(qid_pids_pairs)):]}\n",
    "\n",
    "print(\"number of aid_to_simpids  train = {:,}, val = {:,}, test = {:,}\".format(len(train_aid_to_simpids), \n",
    "                                                                              len(val_aid_to_simpids), len(test_aid_to_simpids)))\n",
    "print(\"number of aid_to_complpids train = {:,}, val = {:,}, test = {:,}\".format(len(train_aid_to_complpids), \n",
    "                                                                              len(val_aid_to_complpids), len(test_aid_to_complpids)))\n",
    "print(\"number of qid_to_relpids train = {:,}, val = {:,}, test = {:,}\".format(len(train_qid_to_relpids), \n",
    "                                                                              len(val_qid_to_relpids), len(test_qid_to_relpids)))\n",
    "assert len( set(train_aid_to_simpids.keys()) & set(val_aid_to_simpids.keys()) & set(test_aid_to_simpids.keys()) ) == 0\n",
    "assert len( set(train_aid_to_complpids.keys()) & set(val_aid_to_complpids.keys()) & set(test_aid_to_complpids.keys())) == 0\n",
    "assert len( set(train_qid_to_relpids.keys()) & set(val_qid_to_relpids.keys()) & set(test_qid_to_relpids.keys())) == 0"
   ]
  },
  {
   "cell_type": "code",
   "execution_count": 1,
   "id": "c7b496be-44f7-43e5-b920-2511af2b92b0",
   "metadata": {},
   "outputs": [
    {
     "data": {
      "text/plain": [
       "1202293.4"
      ]
     },
     "execution_count": 1,
     "metadata": {},
     "output_type": "execute_result"
    }
   ],
   "source": [
    "146300*8.218"
   ]
  },
  {
   "cell_type": "code",
   "execution_count": 3,
   "id": "dc326c33-0854-4b10-91f0-c30a65887fbb",
   "metadata": {},
   "outputs": [],
   "source": [
    "import ujson \n",
    "\n",
    "out_dir = root_dir\n",
    "if not os.path.exists(out_dir):\n",
    "    os.mkdir(out_dir)\n",
    "    \n",
    "with open(os.path.join(out_dir, \"collection_title.tsv\"), \"w\") as fout:\n",
    "    for pid, title in pid_to_title.items():\n",
    "        fout.write(f\"{pid}\\t{title}\\n\")\n",
    "        \n",
    "with open(os.path.join(out_dir, \"collection_description.tsv\"), \"w\") as fout:\n",
    "    for pid, desc in pid_to_desc.items():\n",
    "        fout.write(f\"{pid}\\t{desc}\\n\")\n",
    "\n",
    "with open(os.path.join(out_dir, \"collection_brand.tsv\"), \"w\") as fout:\n",
    "    for pid, brand in pid_to_brand.items():\n",
    "        fout.write(f\"{pid}\\t{brand}\\n\")\n",
    "        \n",
    "with open(os.path.join(out_dir, \"collection_color.tsv\"), \"w\") as fout:\n",
    "    for pid, color in pid_to_color.items():\n",
    "        fout.write(f\"{pid}\\t{color}\\n\")\n",
    "        \n",
    "with open(os.path.join(out_dir, \"product.jsonl\"), \"w\") as fout:\n",
    "    for pid, title in pid_to_title.items():\n",
    "        example = {\"id\": pid, \"contents\": title}\n",
    "        fout.write(ujson.dumps(example) + \"\\n\")\n",
    "        \n",
    "with open(os.path.join(out_dir, \"all_queries.tsv\"), \"w\") as fout:\n",
    "    for query, qid in query_to_qid.items():\n",
    "        fout.write(f\"{qid}\\t{query}\\n\")\n",
    "            \n",
    "with open(os.path.join(out_dir, \"all_entities.tsv\"), \"w\") as fout:\n",
    "    for pid in pid_to_title:\n",
    "        text = pid_to_title[pid]\n",
    "        fout.write(f\"{pid}\\t{text}\\n\")\n",
    "    for query, qid in query_to_qid.items():\n",
    "        fout.write(f\"{qid}\\t{query}\\n\")\n",
    "        \n",
    "with open(os.path.join(out_dir, \"ivm_to_pid.pkl\"), \"wb\") as fout:\n",
    "    pkl.dump(ivm_to_pid, fout)\n",
    "    \n",
    "with open(os.path.join(out_dir, \"query_to_qid.pkl\"), \"wb\") as fout:\n",
    "    pkl.dump(query_to_qid, fout)\n",
    "    \n",
    "    \n",
    "fn_to_data = {\n",
    "    \"train_aid_to_simpids.pkl\": train_aid_to_simpids,\n",
    "    \"val_aid_to_simpids.pkl\": val_aid_to_simpids,\n",
    "    \"test_aid_to_simpids.pkl\": test_aid_to_simpids,\n",
    "    \n",
    "    \"train_aid_to_complpids.pkl\": train_aid_to_complpids,\n",
    "    \"val_aid_to_complpids.pkl\": val_aid_to_complpids,\n",
    "    \"test_aid_to_complpids\": test_aid_to_complpids,\n",
    "    \n",
    "    \"train_qid_to_relpids.pkl\": train_qid_to_relpids,\n",
    "    \"val_qid_to_relpids.pkl\": val_qid_to_relpids,\n",
    "    \"test_qid_to_relpids\": test_qid_to_relpids,\n",
    "}\n",
    "\n",
    "for fn, data in fn_to_data.items():\n",
    "    fn = os.path.join(out_dir, fn)\n",
    "    with open(fn, \"wb\") as fout:\n",
    "        pkl.dump(data, fout)\n",
    "    \n",
    "\n",
    "product_df.to_csv(os.path.join(out_dir, \"processed_product_df.csv\"))\n",
    "train_df.to_csv(os.path.join(out_dir, \"processed_train_df.csv\"))"
   ]
  },
  {
   "cell_type": "code",
   "execution_count": 11,
   "id": "d15b53e1-a845-47cd-8d00-f4b4f4b7595a",
   "metadata": {},
   "outputs": [
    {
     "name": "stdout",
     "output_type": "stream",
     "text": [
      "482198 /home/jupyter/unity_jointly_rec_and_search/datasets/amazon_esci_dataset/data/processed/public/task_1_query-product_ranking/collection_color.tsv\n",
      "0\tYellow\n",
      "1\t12-count\n",
      "2\tYellow\n",
      "482195\t6pcs Maple Leaf Stems\n",
      "482196\tunknown\n",
      "482197\tRed\n",
      "====================================================================================================\n",
      "482198 /home/jupyter/unity_jointly_rec_and_search/datasets/amazon_esci_dataset/data/processed/public/task_1_query-product_ranking/product.jsonl\n",
      "{\"id\":0,\"contents\":\"Amazon Basics Woodcased #2 Pencils, Unsharpened, HB Lead - Box of 144, Bulk Box\"}\n",
      "{\"id\":1,\"contents\":\"BAZIC Pencil #2 HB Pencils, Latex Free Eraser, Wood Free Yellow Unsharpened Pencils for Exam School Office (12\\/Pack), 1-Pack\"}\n",
      "{\"id\":2,\"contents\":\"Emraw Pre Sharpened Round Primary Size No 2 Jumbo Pencils for Preschoolers, Elementary Kids - Pack of 8 Premium Fat Pencils\"}\n",
      "{\"id\":482195,\"contents\":\"Maple Leaves Branches, Arowner 6PCS Artificial Fall Leaf Bush Silk Autumn Foliage Shrubs Fake Plants for Indoor Outdoor Home Kitchen Festival Thanksgiving Table Centerpieces Arrangement Decor\"}\n",
      "{\"id\":482196,\"contents\":\"Lightofhope Bridal Bouquets for Wedding, Artificial Rose Flower Bouquet Bride Bridesmaid Holding Flower, Flower Girl Bouquet\"}\n",
      "{\"id\":482197,\"contents\":\"Asano Season 2Pcs Fake Poinsettia Flowers Artificial 7 Heads Red Christmas Flower Bouquet Decoration Faux Flowers with Stem for Christmas Tree House Decor\"}\n",
      "====================================================================================================\n",
      "482198 /home/jupyter/unity_jointly_rec_and_search/datasets/amazon_esci_dataset/data/processed/public/task_1_query-product_ranking/collection_description.tsv\n",
      "0\tunknown\n",
      "1\tBACK TO BAZIC   Our goal is to provide each customer with long-lasting supplies at an affordable cost. Since 1998, we’ve delivered on this promise and will only continue to improve every year. We’ve built our brand on integrity and quality, so customers know exactly what to expect.    COMMITTED TO VALUES   We are a value-driven company, guided by the principles of excellence through strong product design at low cost. Our commitment to these values is reflected in our dedication to improving current products and developing new exciting products for our consumers.    FOCUSED ON OUR MISSION   Our currency is ideas. We thrive on imagination, passion and leadership. We have great products and will to continue to rise with our customer expectations.    SUCCESS BASED ON SATISFACTION   Each and every product we send out, we expect our 100% customer satisfaction. While our supplies are sourced from all across the world, our success stems from individual consumer fulfillment. We create products that people want to recommend to others.\n",
      "2\tEmraw Pre-Sharpened #2 HB Wood Pencils - Pack of 8 Pre-Schoolers Pencils   Looking for pencils for kid, office or every day general purpose repetitive use? Tired of pencils that do not sharpen well? Disappointed having broken leads repeatedly? Or, looking for pencils that require less sharpening and lasts longer?  Search no further, Emraw num 2 jumbo pencils pack have you covered. You just found the best deal. You will love them. Just the right size for pre-kindergarten toddlers. Perfect for elderly hands having difficulty grasping smaller items. Each pencil is pre-sharpened so you can literally pick straight from the box and start using. HB (no2) hardness grading with thicker leads make them perfect for most types of writing or sketching.  Made of high quality non-toxic cedar wood so they sharpen nicely with any quality dual-holed hand sharpener or adjustable electric sharpener, (not compatible with standard pencil sharpener). Rounded circular shape offers an effortless, fatigue-free writing experience.  Big ultra-smooth graphite core does not break easily, helps kids to grip securely, write smoothly and build language and motor skills. Applying normal pressure kids can wipe away mistaken strokes without a lot of effort. The soft, non-smudge rubbers are effective to erase completely and will not leave any pink residue behind after erasing unwanted marks. The eraser on top is held strongly with a ferrule and will not loosen easily, that keeps an eraser always in hand throughout its lifespan.  Use or gift these pencils to use in the classroom, work, or home for anything from keeping lists, making notes, sketch first drafts, brainstorm campaign ideas, filling in answers on an exam, coloring books as a highlighter, quick sketches of diy carpentry projects, solving sudoku or crossword puzzles.   Best N.2 Woodcase Pencils Supplies for You, Your Children, Students, Family, or Workmates, Order Now!!!\n",
      "482195\tFind artificial fall leaves, like this beautiful red orange fake maple leaf spray. Add to your autumn floral arrangements, fall wedding flower  arrangements, or display in a vase.   This realistic maple leaves bush is great for complementing floral arrangements at weddings and other special events, or you can just  as easily use it to brighten up a room in your home. Place this petite bouquet inside a vase with other artificial flowers to create a  colorful nature-inspired centerpiece, or let it stand alone as an effortless and charming table arrangement.    Additional Information:   Material: High Quality Silk   Qty: 6 Bushes   Tall: 11.8 inches   UV Protected: Yes  Waterproof : Yes  Easily cut to get your own decor   Note   There might be a bit color distortions due to different computer resolutions.  There might be a slight errors due to different hand measurement.\n",
      "482196\tLightofhope Type: Holding flowers<br />Material: Silk cloth + plastic<br />Color: As shown<br /><br />Package Contents:1Pcs x Holding flowers<br /><br />Only the above package content, other products are not included.<br />Note: Light shooting and different displays may cause the color of the item in the picture a little different from the real thing. The measurement allowed error is +/- 1-3cm.\n",
      "482197\tWarm Tips:   Flowers can be installed and removed, so you can decorate varias of the Christmas scene.   Due to transportation and packaging, some flowers may be squeezed and slight deformation, you can use the warm air of the hair dryer to adjust the flower shape, will soon recover.   Using different equipment and monitors, there may be a slight color difference.     Nice Choice for Christmas Decorations:   Fake poinsettia flower is a nice idea for parties and home decor. It has the same natural look as real flowers, you can use it to decorate Christmas trees, Christmas wreath, fireplace, Christmas vine, Christmas-themed entry door, Christmas gifts, yard, house, etc.\n",
      "====================================================================================================\n",
      "482198 /home/jupyter/unity_jointly_rec_and_search/datasets/amazon_esci_dataset/data/processed/public/task_1_query-product_ranking/collection_brand.tsv\n",
      "0\tAmazon Basics\n",
      "1\tBAZIC Products\n",
      "2\tEmraw\n",
      "482195\tArowner\n",
      "482196\tLightofhope\n",
      "482197\tAsano Season\n",
      "====================================================================================================\n",
      "503086 /home/jupyter/unity_jointly_rec_and_search/datasets/amazon_esci_dataset/data/processed/public/task_1_query-product_ranking/all_entities.tsv\n",
      "0\tAmazon Basics Woodcased #2 Pencils, Unsharpened, HB Lead - Box of 144, Bulk Box\n",
      "1\tBAZIC Pencil #2 HB Pencils, Latex Free Eraser, Wood Free Yellow Unsharpened Pencils for Exam School Office (12/Pack), 1-Pack\n",
      "2\tEmraw Pre Sharpened Round Primary Size No 2 Jumbo Pencils for Preschoolers, Elementary Kids - Pack of 8 Premium Fat Pencils\n",
      "503083\tthe armorer vintage collection\n",
      "503084\tthe native american spirit coloring book by colorit\n",
      "503085\tzephyr polishing kit\n",
      "====================================================================================================\n",
      "20888 /home/jupyter/unity_jointly_rec_and_search/datasets/amazon_esci_dataset/data/processed/public/task_1_query-product_ranking/all_queries.tsv\n",
      "482198\t# 2 pencils not sharpened\n",
      "482199\t# mom life\n",
      "482200\t#1 best and not expensive bath back brush cream color\n",
      "503083\tthe armorer vintage collection\n",
      "503084\tthe native american spirit coloring book by colorit\n",
      "503085\tzephyr polishing kit\n",
      "====================================================================================================\n",
      "482198 /home/jupyter/unity_jointly_rec_and_search/datasets/amazon_esci_dataset/data/processed/public/task_1_query-product_ranking/collection_title.tsv\n",
      "0\tAmazon Basics Woodcased #2 Pencils, Unsharpened, HB Lead - Box of 144, Bulk Box\n",
      "1\tBAZIC Pencil #2 HB Pencils, Latex Free Eraser, Wood Free Yellow Unsharpened Pencils for Exam School Office (12/Pack), 1-Pack\n",
      "2\tEmraw Pre Sharpened Round Primary Size No 2 Jumbo Pencils for Preschoolers, Elementary Kids - Pack of 8 Premium Fat Pencils\n",
      "482195\tMaple Leaves Branches, Arowner 6PCS Artificial Fall Leaf Bush Silk Autumn Foliage Shrubs Fake Plants for Indoor Outdoor Home Kitchen Festival Thanksgiving Table Centerpieces Arrangement Decor\n",
      "482196\tLightofhope Bridal Bouquets for Wedding, Artificial Rose Flower Bouquet Bride Bridesmaid Holding Flower, Flower Girl Bouquet\n",
      "482197\tAsano Season 2Pcs Fake Poinsettia Flowers Artificial 7 Heads Red Christmas Flower Bouquet Decoration Faux Flowers with Stem for Christmas Tree House Decor\n",
      "====================================================================================================\n"
     ]
    }
   ],
   "source": [
    "# sanity check\n",
    "for path in os.listdir(out_dir):\n",
    "    if path.endswith(\"tsv\") or  path.endswith(\"jsonl\") :\n",
    "        path = os.path.join(out_dir, path)\n",
    "        ! wc -l $path\n",
    "        ! head -n 3 $path\n",
    "        ! tail -n 3 $path\n",
    "        print(\"=\"*100)"
   ]
  },
  {
   "cell_type": "code",
   "execution_count": 5,
   "id": "53d55ac2-2c34-4b9b-9ba1-67cb8a375e38",
   "metadata": {},
   "outputs": [
    {
     "data": {
      "text/plain": [
       "('Price Tags with String Attached, 1000pcs White Smooth Surface Marking Merchandise Strung Tags Writable Label Hang Tags for Pricing Gift Jewelry Clothing Yard Sale Garage Supplies 1.75 x 1.093 inch',\n",
       " 'KC Store Fixtures 08902 Perforated Merchandise Tags without Strings, 1-3/4\" x 2-7/8\", Orange (Pack of 1000)',\n",
       " 'White Paper Tags, Jewelry Price Tags with string (3/8\" x 7/8\")')"
      ]
     },
     "execution_count": 5,
     "metadata": {},
     "output_type": "execute_result"
    }
   ],
   "source": [
    "pid_to_title[383368],pid_to_title[160], pid_to_title[174]"
   ]
  },
  {
   "cell_type": "code",
   "execution_count": 6,
   "id": "9227c074-2b84-4992-864b-0172a03ea814",
   "metadata": {},
   "outputs": [
    {
     "data": {
      "text/plain": [
       "[(152, {145, 156, 157, 359351}),\n",
       " (153, {145, 156, 157, 359351}),\n",
       " (160,\n",
       "  {159,\n",
       "   165,\n",
       "   167,\n",
       "   173,\n",
       "   174,\n",
       "   176,\n",
       "   177,\n",
       "   178,\n",
       "   179,\n",
       "   180,\n",
       "   255586,\n",
       "   255588,\n",
       "   255602,\n",
       "   383364,\n",
       "   383365,\n",
       "   383368,\n",
       "   383376,\n",
       "   383383,\n",
       "   411563}),\n",
       " (161,\n",
       "  {159,\n",
       "   165,\n",
       "   167,\n",
       "   173,\n",
       "   174,\n",
       "   176,\n",
       "   177,\n",
       "   178,\n",
       "   179,\n",
       "   180,\n",
       "   255586,\n",
       "   255588,\n",
       "   255602,\n",
       "   383364,\n",
       "   383365,\n",
       "   383368,\n",
       "   383376,\n",
       "   383383,\n",
       "   411563}),\n",
       " (162,\n",
       "  {159,\n",
       "   165,\n",
       "   167,\n",
       "   173,\n",
       "   174,\n",
       "   176,\n",
       "   177,\n",
       "   178,\n",
       "   179,\n",
       "   180,\n",
       "   255586,\n",
       "   255588,\n",
       "   255602,\n",
       "   383364,\n",
       "   383365,\n",
       "   383368,\n",
       "   383376,\n",
       "   383383,\n",
       "   411563})]"
      ]
     },
     "execution_count": 6,
     "metadata": {},
     "output_type": "execute_result"
    }
   ],
   "source": [
    "list(aid_to_simpids.items())[100:105]"
   ]
  },
  {
   "cell_type": "code",
   "execution_count": 17,
   "id": "1bd224b1-b84c-4bdb-ab08-86e61f68343e",
   "metadata": {},
   "outputs": [
    {
     "data": {
      "text/plain": [
       "('500Pcs Price Tags with String Attached by Divine Light, 0.91 x 0.55 inches Premium Writable Jewelry Tags, Paper Sale Tags with String Pricing Tags - for Anything You Need to Identify or Price',\n",
       " 'Please check the size carefully before you order it, The size of our price tags is 0.91 x 0.55 inches.    Divine Light sale tags with string are ideal for labeling party favors, using for gift tags, craft projects, identifying household items, or garage sale price tags   ► Widely use - Great for jewelry or any small crafts!   ► Enough space to write - The size of price tags is 0.91 x 0.55 inches, give you enough space for decoration or writing a big name or a short message  ► Easy to Use and remove - Knotted string lets you add and remove the rectangular price tag easily without tying knots, durable and convenient   Specifications  Size: 0.91 x 0.55 inches Color: White Material: Paper   Package includes  500 x Good quality Price tags   CLICK ‘ADD TO CART’ GET IT NOW!',\n",
       " 'Zephyr')"
      ]
     },
     "execution_count": 17,
     "metadata": {},
     "output_type": "execute_result"
    }
   ],
   "source": [
    "pid_to_title[383376], pid_to_desc[383376], pid_to_brand[317231]"
   ]
  },
  {
   "cell_type": "code",
   "execution_count": null,
   "id": "ad3c1635-ed3d-4bae-9c65-ade25b5f95a4",
   "metadata": {},
   "outputs": [],
   "source": []
  }
 ],
 "metadata": {
  "environment": {
   "kernel": "python3",
   "name": "tf2-gpu.2-9.m93",
   "type": "gcloud",
   "uri": "gcr.io/deeplearning-platform-release/tf2-gpu.2-9:m93"
  },
  "kernelspec": {
   "display_name": "Python 3",
   "language": "python",
   "name": "python3"
  },
  "language_info": {
   "codemirror_mode": {
    "name": "ipython",
    "version": 3
   },
   "file_extension": ".py",
   "mimetype": "text/x-python",
   "name": "python",
   "nbconvert_exporter": "python",
   "pygments_lexer": "ipython3",
   "version": "3.7.12"
  }
 },
 "nbformat": 4,
 "nbformat_minor": 5
}
