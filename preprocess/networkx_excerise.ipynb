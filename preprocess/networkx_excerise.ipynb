{
 "cells": [
  {
   "cell_type": "code",
   "execution_count": 7,
   "id": "5161e710-1520-426b-b51d-041202bbb3d1",
   "metadata": {},
   "outputs": [],
   "source": [
    "import networkx as nx\n"
   ]
  },
  {
   "cell_type": "code",
   "execution_count": 40,
   "id": "114a74e2-e049-4a23-b6ff-4f1f1e70449b",
   "metadata": {},
   "outputs": [
    {
     "name": "stdout",
     "output_type": "stream",
     "text": [
      "[(12, 2, 'is_relevant_to'), (3, 2, 'is_similar_to'), (4, 8, 'is_similar_to'), (4, 8, 'is_complemtary_to'), (4, 9, 'is_complementary_to')]\n",
      "2 {0: {'type': 'is_relevant_to'}}\n",
      "2 {0: {'type': 'is_similar_to'}}\n",
      "8 {0: {'type': 'is_similar_to'}, 1: {'type': 'is_complemtary_to'}}\n"
     ]
    },
    {
     "ename": "KeyError",
     "evalue": "'type'",
     "output_type": "error",
     "traceback": [
      "\u001b[0;31m---------------------------------------------------------------------------\u001b[0m",
      "\u001b[0;31mKeyError\u001b[0m                                  Traceback (most recent call last)",
      "\u001b[0;32m/tmp/ipykernel_38540/2255738345.py\u001b[0m in \u001b[0;36m<module>\u001b[0;34m\u001b[0m\n\u001b[1;32m     10\u001b[0m     \u001b[0;32mfor\u001b[0m \u001b[0mnbr\u001b[0m\u001b[0;34m,\u001b[0m \u001b[0medge_attrs\u001b[0m \u001b[0;32min\u001b[0m \u001b[0mnbrs\u001b[0m\u001b[0;34m.\u001b[0m\u001b[0mitems\u001b[0m\u001b[0;34m(\u001b[0m\u001b[0;34m)\u001b[0m\u001b[0;34m:\u001b[0m\u001b[0;34m\u001b[0m\u001b[0;34m\u001b[0m\u001b[0m\n\u001b[1;32m     11\u001b[0m         \u001b[0mprint\u001b[0m\u001b[0;34m(\u001b[0m\u001b[0mnbr\u001b[0m\u001b[0;34m,\u001b[0m \u001b[0medge_attrs\u001b[0m\u001b[0;34m)\u001b[0m\u001b[0;34m\u001b[0m\u001b[0;34m\u001b[0m\u001b[0m\n\u001b[0;32m---> 12\u001b[0;31m         \u001b[0;32mif\u001b[0m \u001b[0mn\u001b[0m \u001b[0;34m==\u001b[0m \u001b[0;36m4\u001b[0m \u001b[0;32mand\u001b[0m \u001b[0medge_attrs\u001b[0m\u001b[0;34m[\u001b[0m\u001b[0;34m\"type\"\u001b[0m\u001b[0;34m]\u001b[0m \u001b[0;34m==\u001b[0m \u001b[0;34m\"is_similar_to\"\u001b[0m\u001b[0;34m:\u001b[0m\u001b[0;34m\u001b[0m\u001b[0;34m\u001b[0m\u001b[0m\n\u001b[0m\u001b[1;32m     13\u001b[0m             \u001b[0medges_to_delete\u001b[0m\u001b[0;34m.\u001b[0m\u001b[0mappend\u001b[0m\u001b[0;34m(\u001b[0m\u001b[0;34m(\u001b[0m\u001b[0mn\u001b[0m\u001b[0;34m,\u001b[0m \u001b[0mnbr\u001b[0m\u001b[0;34m)\u001b[0m\u001b[0;34m)\u001b[0m\u001b[0;34m\u001b[0m\u001b[0;34m\u001b[0m\u001b[0m\n\u001b[1;32m     14\u001b[0m \u001b[0mG\u001b[0m\u001b[0;34m.\u001b[0m\u001b[0mremove_edges_from\u001b[0m\u001b[0;34m(\u001b[0m\u001b[0medges_to_delete\u001b[0m\u001b[0;34m)\u001b[0m\u001b[0;34m\u001b[0m\u001b[0;34m\u001b[0m\u001b[0m\n",
      "\u001b[0;32m/opt/conda/lib/python3.7/site-packages/networkx/classes/coreviews.py\u001b[0m in \u001b[0;36m__getitem__\u001b[0;34m(self, key)\u001b[0m\n\u001b[1;32m     49\u001b[0m \u001b[0;34m\u001b[0m\u001b[0m\n\u001b[1;32m     50\u001b[0m     \u001b[0;32mdef\u001b[0m \u001b[0m__getitem__\u001b[0m\u001b[0;34m(\u001b[0m\u001b[0mself\u001b[0m\u001b[0;34m,\u001b[0m \u001b[0mkey\u001b[0m\u001b[0;34m)\u001b[0m\u001b[0;34m:\u001b[0m\u001b[0;34m\u001b[0m\u001b[0;34m\u001b[0m\u001b[0m\n\u001b[0;32m---> 51\u001b[0;31m         \u001b[0;32mreturn\u001b[0m \u001b[0mself\u001b[0m\u001b[0;34m.\u001b[0m\u001b[0m_atlas\u001b[0m\u001b[0;34m[\u001b[0m\u001b[0mkey\u001b[0m\u001b[0;34m]\u001b[0m\u001b[0;34m\u001b[0m\u001b[0;34m\u001b[0m\u001b[0m\n\u001b[0m\u001b[1;32m     52\u001b[0m \u001b[0;34m\u001b[0m\u001b[0m\n\u001b[1;32m     53\u001b[0m     \u001b[0;32mdef\u001b[0m \u001b[0mcopy\u001b[0m\u001b[0;34m(\u001b[0m\u001b[0mself\u001b[0m\u001b[0;34m)\u001b[0m\u001b[0;34m:\u001b[0m\u001b[0;34m\u001b[0m\u001b[0;34m\u001b[0m\u001b[0m\n",
      "\u001b[0;31mKeyError\u001b[0m: 'type'"
     ]
    }
   ],
   "source": [
    "kgs = [(12, 2, {\"type\": \"is_relevant_to\"}), (3, 2, {\"type\": \"is_similar_to\"}), \n",
    "       (4,8, {\"type\": \"is_similar_to\"}), (4, 9, {\"type\": \"is_complementary_to\"}),\n",
    "      (4,8, {\"type\": \"is_complemtary_to\"})]\n",
    "G = nx.MultiDiGraph()\n",
    "G.add_edges_from(kgs)\n",
    "\n",
    "print(G.edges(data=\"type\"))\n",
    "edges_to_delete = []\n",
    "for n, nbrs in G.adj.items():\n",
    "    for nbr, edge_attrs in nbrs.items():\n",
    "        print(nbr, edge_attrs)\n",
    "        if n == 4 and edge_attrs[\"type\"] == \"is_similar_to\":\n",
    "            edges_to_delete.append((n, nbr))\n",
    "G.remove_edges_from(edges_to_delete)\n",
    "print(G.edges(data=\"type\"))"
   ]
  },
  {
   "cell_type": "code",
   "execution_count": 42,
   "id": "f0406397-4868-4778-a698-b75eb3a29c60",
   "metadata": {},
   "outputs": [
    {
     "data": {
      "text/plain": [
       "AtlasView({0: {'type': 'is_similar_to'}, 1: {'type': 'is_complemtary_to'}})"
      ]
     },
     "execution_count": 42,
     "metadata": {},
     "output_type": "execute_result"
    }
   ],
   "source": [
    "G[4][8]"
   ]
  },
  {
   "cell_type": "code",
   "execution_count": 43,
   "id": "20dd07a4-5598-4faf-ae4e-110bc31a918c",
   "metadata": {},
   "outputs": [
    {
     "name": "stdout",
     "output_type": "stream",
     "text": [
      "Client creating using default project: gcp-ushi-digital-ds-qa\n",
      "product_df = 2,260,878\n",
      "================================ For anchor_to_compl_ivms: ===================================\n",
      "number of unique product = 2260878, anchors = 86,870, complementary_compl_ivms = 65,561\n",
      "================================ After updating anchor_to_similar_ivms: ===================================\n",
      "all_compl_ivms = 109,758, all_sim_ivms = 256,765\n",
      "sim_compl_intersect = 87,425 (0.797)\n",
      "all_ivms = 279,098\n",
      "all queries = 953773\n",
      "total ivms (queries) = 360,744, length >=3 = 196,481, length >= 5 = 142,527\n",
      "================================ For anchor_to_compl_ivms: ===================================\n",
      "total_compl_ivms = 86,870, length >=3 = 35,837, length >= 5 = 22,121\n"
     ]
    },
    {
     "name": "stderr",
     "output_type": "stream",
     "text": [
      "100%|██████████| 2260878/2260878 [05:29<00:00, 6871.00it/s]\n"
     ]
    },
    {
     "name": "stdout",
     "output_type": "stream",
     "text": [
      "ivm_to_title = 2,260,878, ivm_to_bullet = 2,260,878, ivm_to_catalog = 2,260,878, products no bulletin = 0, no title = 21, no catalog = 4,519\n"
     ]
    }
   ],
   "source": [
    "import os\n",
    "\n",
    "from google.cloud import bigquery\n",
    "import pandas as pd \n",
    "import numpy as np\n",
    "\n",
    "client = bigquery.Client()\n",
    "print(\"Client creating using default project: {}\".format(client.project))\n",
    "\n",
    "query = \"\"\"\n",
    "    SELECT * \n",
    "    FROM `gcp-ushi-digital-ds-qa.new_hansi_dataset.comp_rec_ClicksData_2core`;\n",
    "    \"\"\"\n",
    "query_job = client.query(query)\n",
    "compl_rec_df = query_job.to_dataframe()\n",
    "\n",
    "query = \"\"\"\n",
    "    SELECT * \n",
    "    FROM `gcp-ushi-digital-ds-qa.new_hansi_dataset.hansi_rec_ClicksData_5core`;\n",
    "    \"\"\"\n",
    "query_job = client.query(query)\n",
    "sim_rec_df = query_job.to_dataframe()\n",
    "\n",
    "query = \"\"\"\n",
    "    SELECT *\n",
    "    FROM `gcp-ushi-digital-ds-qa.new_hansi_dataset.search_ClicksData_1year_5core`;\n",
    "\"\"\"\n",
    "query_job = client.query(query)\n",
    "search_df = query_job.to_dataframe()\n",
    "\n",
    "query = \"\"\"\n",
    "    SELECT * \n",
    "    FROM `gcp-ushi-digital-ds-qa.hansi_dataset.all_products_info`;\n",
    "    \"\"\"\n",
    "query_job = client.query(query)\n",
    "product_df = query_job.to_dataframe()\n",
    "print(\"product_df = {:,}\".format(len(product_df)))\n",
    "\n",
    "all_products = set(product_df.product_id)\n",
    "anchors = set(compl_rec_df.anchor)\n",
    "compl_ivms = set(compl_rec_df.ivm)\n",
    "all_compl_ivms = anchors.union(compl_ivms)\n",
    "\n",
    "print(\"================================ For anchor_to_compl_ivms: ===================================\")\n",
    "print(\"number of unique product = {:,}, anchors = {:,}, complementary_compl_ivms = {:,}\".format(len(all_products), len(anchors), len(compl_ivms)))\n",
    "assert len(all_products & anchors) == len(anchors) and len(all_products & compl_ivms) == len(compl_ivms),(\n",
    "    len(all_products & anchors), len(anchors), len(all_products & compl_ivms), len(compl_ivms)\n",
    ")\n",
    "\n",
    "all_sim_ivms = set(sim_rec_df.anchor).union(set(sim_rec_df.ivm))\n",
    "print(\"================================ After updating anchor_to_similar_ivms: ===================================\")\n",
    "print(\"all_compl_ivms = {:,}, all_sim_ivms = {:,}\".format(len(all_compl_ivms), len(all_sim_ivms)))\n",
    "print(\"sim_compl_intersect = {:,} ({:.3f})\".format(len(all_compl_ivms & all_sim_ivms), len(all_compl_ivms & all_sim_ivms) / len(all_compl_ivms)))\n",
    "print(\"all_ivms = {:,}\".format(len(all_compl_ivms | all_sim_ivms)))\n",
    "all_ivms = all_compl_ivms | all_sim_ivms\n",
    "\n",
    "assert len(all_products & all_ivms) == len(all_ivms), (len(all_products & all_ivms), len(all_ivms))\n",
    "\n",
    "query_to_ivms = search_df.groupby(\"query\")[\"ivm\"].apply(list)\n",
    "ivm_to_tmp_queries = search_df.groupby(\"ivm\")[\"query\"].apply(list)\n",
    "query_lengths = np.array([len(x) for x in ivm_to_tmp_queries.values])\n",
    "all_queries = set(search_df[\"query\"])\n",
    "print(\"all queries = {:,}\".format(len(all_queries)))\n",
    "print(\"total ivms (queries) = {:,}, length >=3 = {:,}, length >= 5 = {:,}\".format(\n",
    "    len(query_lengths), np.sum(query_lengths >=3), np.sum(query_lengths >= 5) ))\n",
    "\n",
    "anchor_to_compl_ivms = compl_rec_df.groupby(\"anchor\")[\"ivm\"].apply(list)\n",
    "compl_ivms_length = np.array([len(x) for x in anchor_to_compl_ivms.values])\n",
    "print(\"================================ For anchor_to_compl_ivms: ===================================\")\n",
    "print(\"total_compl_ivms = {:,}, length >=3 = {:,}, length >= 5 = {:,}\".format(len(compl_ivms_length), np.sum(compl_ivms_length >=3), np.sum(compl_ivms_length >= 5) ))\n",
    "\n",
    "anchor_to_sim_ivms = sim_rec_df.groupby(\"anchor\")[\"ivm\"].apply(list)\n",
    "\n",
    "# map product --> text\n",
    "from tqdm import tqdm \n",
    "\n",
    "ivm_to_title = {}\n",
    "ivm_to_bullet = {}\n",
    "ivm_to_catalog = {}\n",
    "no_bulletin_ivms = set()\n",
    "no_title_ivms = set()\n",
    "no_catalog_ivms = set()\n",
    "\n",
    "def preprocess_text(in_text):\n",
    "    in_text = in_text.replace(\"\\t\", \" \")\n",
    "    in_text = in_text.replace(\"\\n\", \" \")\n",
    "    return in_text\n",
    "\n",
    "for idx, row in tqdm(product_df.iterrows(), total=len(product_df)):\n",
    "    product_id = row.product_id\n",
    "    title = row.product_name if row.product_name != None else \"No title\"\n",
    "    bullets = row.bullets if row.bullets != None else \"No bullets\"\n",
    "    catalog = row.catalog_name if row.catalog_name != None else \"No catalog\"\n",
    "    \n",
    "    if row.product_name == None:\n",
    "        no_title_ivms.add(product_id)\n",
    "    if row.bullets == None:\n",
    "        no_bulletin_ivms.add(product_id)\n",
    "    if row.catalog_name == None:\n",
    "        no_catalog_ivms.add(product_id)\n",
    "    \n",
    "    title = preprocess_text(title)\n",
    "    bullets = preprocess_text(bullets)\n",
    "    catalog = preprocess_text(catalog)\n",
    "    \n",
    "    ivm_to_title[product_id] = title\n",
    "    ivm_to_bullet[product_id] = bullets\n",
    "    ivm_to_catalog[product_id] = catalog\n",
    "\n",
    "# sanity check\n",
    "print(\"ivm_to_title = {:,}, ivm_to_bullet = {:,}, ivm_to_catalog = {:,}, products no bulletin = {:,}, no title = {:,}, no catalog = {:,}\".format(\n",
    "    len(ivm_to_title), len(ivm_to_bullet), len(ivm_to_catalog), len(no_bulletin_ivms), len(no_title_ivms), len(no_catalog_ivms)\n",
    "))\n",
    "\n",
    "assert len(ivm_to_title) == len(ivm_to_bullet) == len(ivm_to_catalog) == len(product_df)\n",
    "\n",
    "import ujson\n",
    "from collections import defaultdict\n",
    "\n",
    "# map to pid and qid\n",
    "ivm_to_pid = {ivm: pid for pid, ivm in enumerate(list(all_products))}\n",
    "pid_to_ivm = {pid: ivm for ivm, pid in ivm_to_pid.items()}\n",
    "query_to_qid = {query: qid + len(ivm_to_pid) for qid, query in enumerate(list(all_queries))}\n",
    "qid_to_query = {qid: query for query, qid in query_to_qid.items()}\n",
    "start_qid = len(ivm_to_pid)\n",
    "\n",
    "pid_to_title = {ivm_to_pid[ivm]: title for ivm, title in ivm_to_title.items()}\n",
    "pid_to_bullet = {ivm_to_pid[ivm]: bullet for ivm, bullet in ivm_to_bullet.items()}\n",
    "pid_to_catalog = {ivm_to_pid[ivm]: catalog for ivm, catalog in ivm_to_catalog.items()}\n",
    "\n",
    "aid_to_sim_pids = {ivm_to_pid[anchor]: [ivm_to_pid[ivm] for ivm in sim_ivms] for anchor, sim_ivms in anchor_to_sim_ivms.items()}\n",
    "aid_to_compl_pids = {ivm_to_pid[anchor]: [ivm_to_pid[ivm] for ivm in compl_ivms] for anchor, compl_ivms in anchor_to_compl_ivms.items()}\n",
    "qid_to_pids = {query_to_qid[query]: [ivm_to_pid[ivm] for ivm in ivms] for query, ivms in query_to_ivms.items()}\n",
    "pid_to_tmp_qids = {ivm_to_pid[ivm]: [query_to_qid[_query] for _query in queries] for ivm, queries in ivm_to_tmp_queries.items()}"
   ]
  },
  {
   "cell_type": "code",
   "execution_count": 63,
   "id": "930a5289-ed75-4d88-92cf-b1958ef32432",
   "metadata": {},
   "outputs": [
    {
     "name": "stdout",
     "output_type": "stream",
     "text": [
      "number of train_aid_to_simpids = 172,991, val = 21,623, test = 21,624\n"
     ]
    }
   ],
   "source": [
    "G = nx.MultiDiGraph()\n",
    "SIM_RELATION = \"is_similar_to\"\n",
    "COMPL_RELATION = \"is_complementary_to\"\n",
    "REL_RELATION = \"is_relevant_to\"\n",
    "\n",
    "val_test_indices = np.random.choice(np.arange(0, len(aid_to_sim_pids)), int(0.2*len(aid_to_sim_pids)), replace=False)\n",
    "val_indices = val_test_indices[:int(0.5*len(val_test_indices))]\n",
    "test_indices = val_test_indices[int(0.5*len(val_test_indices)):]\n",
    "train_aid_to_simpids, val_aid_to_simpids, test_aid_to_simpids = {}, {}, {}\n",
    "for idx, (aid, simpids) in enumerate(aid_to_sim_pids.items()):\n",
    "    if idx in val_indices:\n",
    "        val_aid_to_simpids[aid] = simpids\n",
    "    elif idx in test_indices:\n",
    "        test_aid_to_simpids[aid] = simpids\n",
    "    else:\n",
    "        train_aid_to_simpids[aid] = simpids\n",
    "print(\"number of train_aid_to_simpids = {:,}, val = {:,}, test = {:,}\".format(len(train_aid_to_simpids), len(val_aid_to_simpids), \n",
    "                                                                            len(test_aid_to_simpids)))\n",
    "\n",
    "for aid, sim_pids in train_aid_to_simpids.items():\n",
    "    triples = [(aid, sim_pid, {\"type\":SIM_RELATION}) for sim_pid in sim_pids]\n",
    "    G.add_edges_from(triples)\n",
    "    \n",
    "for aid, compl_pids in aid_to_compl_pids.items():\n",
    "    triples = [(aid, compl_pid, {\"type\":COMPL_RELATION}) for compl_pid in compl_pids]\n",
    "    G.add_edges_from(triples)\n",
    "    \n",
    "for pid, qids in pid_to_tmp_qids.items():\n",
    "    triples = [(qid, pid, {\"type\": REL_RELATION}) for qid in qids]\n",
    "    G.add_edges_from(triples)\n",
    "    \n",
    "    "
   ]
  },
  {
   "cell_type": "code",
   "execution_count": 64,
   "id": "a119a3fc-e13c-4831-ac3a-3ff35e38751a",
   "metadata": {},
   "outputs": [
    {
     "name": "stdout",
     "output_type": "stream",
     "text": [
      "number of edges = 5,181,469, number of multi-attr edges = 14,845, (0.003)\n"
     ]
    }
   ],
   "source": [
    "multi_edge_pairs = []\n",
    "for n, nbrs_dict in G.adj.items():\n",
    "    for nbr_node, edge_attrs in nbrs_dict.items():\n",
    "        assert len(edge_attrs) == 1 or len(edge_attrs) == 2\n",
    "        if len(edge_attrs) == 2:\n",
    "            multi_edge_pairs.append((n, nbr_node))\n",
    "            \n",
    "print(\"number of edges = {:,}, number of multi-attr edges = {:,}, ({:.3f})\".format(G.number_of_edges(), len(multi_edge_pairs), \n",
    "                                                                                   len(multi_edge_pairs)/G.number_of_edges()))"
   ]
  },
  {
   "cell_type": "code",
   "execution_count": 75,
   "id": "0bbb89bd-de7f-4c84-9a3b-ca44aa9d0cee",
   "metadata": {},
   "outputs": [
    {
     "name": "stdout",
     "output_type": "stream",
     "text": [
      "1000000\n",
      "2511605 {2998: {0: {'type': 'is_relevant_to'}}, 529757: {0: {'type': 'is_relevant_to'}}}\n",
      "1000001\n",
      "2456733 {2998: {0: {'type': 'is_relevant_to'}}}\n",
      "1000002\n",
      "2965582 {2998: {0: {'type': 'is_relevant_to'}}, 1635048: {0: {'type': 'is_relevant_to'}}, 2237450: {0: {'type': 'is_relevant_to'}}, 1963674: {0: {'type': 'is_relevant_to'}}, 1217412: {0: {'type': 'is_relevant_to'}}, 221005: {0: {'type': 'is_relevant_to'}}, 1429565: {0: {'type': 'is_relevant_to'}}}\n",
      "1000003\n",
      "2651531 {337451: {0: {'type': 'is_relevant_to'}}}\n",
      "1000004\n",
      "2888930 {337451: {0: {'type': 'is_relevant_to'}}, 2240811: {0: {'type': 'is_relevant_to'}}}\n",
      "1000005\n",
      "2816955 {2010514: {0: {'type': 'is_relevant_to'}}, 2011310: {0: {'type': 'is_relevant_to'}}}\n",
      "1000006\n",
      "2608146 {2011310: {0: {'type': 'is_relevant_to'}}, 603729: {0: {'type': 'is_relevant_to'}}}\n",
      "1000007\n",
      "2190661 {}\n",
      "1000008\n",
      "975195 {}\n",
      "1000009\n",
      "3134000 {1134889: {0: {'type': 'is_relevant_to'}}, 753559: {0: {'type': 'is_relevant_to'}}}\n"
     ]
    }
   ],
   "source": [
    "for i, (src_node, nbrs_dict) in enumerate(G.adj.items()):\n",
    "    if i >= 1_000_000 and i < 1_000_000 + 10:\n",
    "        print(i)\n",
    "        print(src_node, nbrs_dict)"
   ]
  },
  {
   "cell_type": "code",
   "execution_count": 80,
   "id": "88e3c0b7-3681-4502-8a60-ce5ca58d360f",
   "metadata": {},
   "outputs": [
    {
     "name": "stdout",
     "output_type": "stream",
     "text": [
      "2931719 {0: {'type': 'is_relevant_to'}}\n"
     ]
    }
   ],
   "source": [
    "for src_node, nbrs_dict in G.adj.items():\n",
    "    if 975195 in nbrs_dict:\n",
    "        print(src_node, nbrs_dict[975195])"
   ]
  },
  {
   "cell_type": "code",
   "execution_count": null,
   "id": "af634ba6-f00d-46cd-92f4-30f9b9729fad",
   "metadata": {},
   "outputs": [],
   "source": []
  }
 ],
 "metadata": {
  "environment": {
   "kernel": "python3",
   "name": "tf2-gpu.2-9.m93",
   "type": "gcloud",
   "uri": "gcr.io/deeplearning-platform-release/tf2-gpu.2-9:m93"
  },
  "kernelspec": {
   "display_name": "Python 3",
   "language": "python",
   "name": "python3"
  },
  "language_info": {
   "codemirror_mode": {
    "name": "ipython",
    "version": 3
   },
   "file_extension": ".py",
   "mimetype": "text/x-python",
   "name": "python",
   "nbconvert_exporter": "python",
   "pygments_lexer": "ipython3",
   "version": "3.7.12"
  }
 },
 "nbformat": 4,
 "nbformat_minor": 5
}
