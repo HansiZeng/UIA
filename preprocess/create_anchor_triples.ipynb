{
 "cells": [
  {
   "cell_type": "code",
   "execution_count": 5,
   "id": "a5b668b9-78ef-4479-8f3f-da3af7a40bc2",
   "metadata": {},
   "outputs": [],
   "source": [
    "import os \n",
    "import random\n",
    "\n",
    "import numpy as np\n",
    "import pandas as pd \n",
    "import ujson"
   ]
  },
  {
   "cell_type": "code",
   "execution_count": 6,
   "id": "fb34868d-1a47-4300-9c60-714799bdf708",
   "metadata": {},
   "outputs": [
    {
     "name": "stdout",
     "output_type": "stream",
     "text": [
      "number of train_examples = 83436\n"
     ]
    }
   ],
   "source": [
    "run_path = \"/home/jupyter/jointly_rec_and_search/datasets/rec_search/search/runs/anchor/bm25.similar.train.run\" \n",
    "arels_path = \"/home/jupyter/jointly_rec_and_search/datasets/rec_search/search/arels.train.tsv\" \n",
    "out_path = \"/home/jupyter/jointly_rec_and_search/datasets/rec_search/search/anchor/1pos_1neg.similar.train.tsv\"\n",
    "\n",
    "#neg_num = 1\n",
    "#topk = 1000\n",
    "aid_to_relpid = {}\n",
    "rel_df = pd.read_csv(arels_path, sep=\"\\t\", names=[\"aid\", \"q0\", \"pid\", \"score\"])\n",
    "for aid, group in rel_df.groupby(\"aid\"):\n",
    "    relpid = group.sample(1).iloc[0][\"pid\"]\n",
    "    aid_to_relpid[aid] = relpid\n",
    "\n",
    "train_examples = []\n",
    "df = pd.read_csv(run_path, sep=\" \", names=[\"aid\", \"q0\", \"pid\", \"rank\", \"score\", \"model_name\"])\n",
    "for aid, group in df.groupby(\"aid\"):\n",
    "    if len(group) <= 10:\n",
    "        continue \n",
    "    relpid = aid_to_relpid[aid]\n",
    "    negpid = group.sample(1).iloc[0][\"pid\"]\n",
    "    train_examples.append((aid, relpid, negpid))\n",
    "\n",
    "print(\"number of train_examples = {}\".format(len(train_examples)))\n",
    "\n",
    "with open(out_path, \"w\") as fout:\n",
    "    for exp in train_examples:\n",
    "        aid, relpid, negpid = exp \n",
    "        fout.write(f\"{aid}\\t{relpid}\\t{negpid}\\n\")"
   ]
  },
  {
   "cell_type": "code",
   "execution_count": 7,
   "id": "47dba67f-ac69-4dce-8b62-00c31bfe0077",
   "metadata": {},
   "outputs": [
    {
     "name": "stdout",
     "output_type": "stream",
     "text": [
      "387699 /home/jupyter/jointly_rec_and_search/datasets/rec_search/search/arels.train.tsv\n",
      "1277611\tQ0\t1051217\t1\n",
      "2221897\tQ0\t1051217\t1\n",
      "1700120\tQ0\t1051217\t1\n",
      "382584\tQ0\t192293\t1\n",
      "382584\tQ0\t1501063\t1\n",
      "==================================================\n",
      "83436 /home/jupyter/jointly_rec_and_search/datasets/rec_search/search/anchor/1pos_1neg.similar.train.tsv\n",
      "4\t539596\t400724\n",
      "18\t501934\t1701111\n",
      "115\t2243304\t704478\n",
      "133\t1564048\t1086661\n",
      "169\t1465936\t560181\n"
     ]
    }
   ],
   "source": [
    "! wc -l $arels_path\n",
    "! head -n 5 $arels_path\n",
    "print(50*\"=\")\n",
    "! wc -l $out_path\n",
    "! head -n 5 $out_path"
   ]
  },
  {
   "cell_type": "code",
   "execution_count": null,
   "id": "09f32eb6-7cc1-4028-afba-08da3fe0a931",
   "metadata": {},
   "outputs": [],
   "source": []
  }
 ],
 "metadata": {
  "environment": {
   "kernel": "python3",
   "name": "tf2-gpu.2-9.m93",
   "type": "gcloud",
   "uri": "gcr.io/deeplearning-platform-release/tf2-gpu.2-9:m93"
  },
  "kernelspec": {
   "display_name": "Python 3",
   "language": "python",
   "name": "python3"
  },
  "language_info": {
   "codemirror_mode": {
    "name": "ipython",
    "version": 3
   },
   "file_extension": ".py",
   "mimetype": "text/x-python",
   "name": "python",
   "nbconvert_exporter": "python",
   "pygments_lexer": "ipython3",
   "version": "3.7.12"
  }
 },
 "nbformat": 4,
 "nbformat_minor": 5
}
