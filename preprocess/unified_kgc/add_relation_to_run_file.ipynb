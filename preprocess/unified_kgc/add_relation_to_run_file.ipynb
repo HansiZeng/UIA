{
 "cells": [
  {
   "cell_type": "code",
   "execution_count": null,
   "id": "23d3415d-8474-40dd-89f4-02be74249f15",
   "metadata": {},
   "outputs": [],
   "source": [
    "import os \n",
    "\n",
    "run_dir = \"/home/jupyter/unity_jointly_rec_and_search/experiments/unified_kgc/phase_1/experiment_10-02_005604/runs\"\n",
    "\n",
    "SIM_RELATION = \"is_similar_to\"\n",
    "COMPL_RELATION = \"is_complementary_to\"\n",
    "REL_RELATION = \"is_relevant_to\"\n",
    "\n",
    "suffix_to_relation = {\n",
    "    \"sim\": SIM_RELATION,\n",
    "    \"compl\": COMPL_RELATION,\n",
    "    \"query\": REL_RELATION\n",
    "}\n",
    "\n",
    "for fn in os.listdir(run_dir):\n",
    "    if not fn.endswith(\"run\"):\n",
    "        continue\n",
    "    for suffix, relation in suffix_to_relation.items():\n",
    "        if suffix in fn:\n",
    "            print(\"Write relation {} from file {}\".format(relation, fn))\n",
    "            in_fn = os.path.join(run_dir, fn)\n",
    "            out_fn = os.path.join(run_dir, f\"rel_{fn}\")\n",
    "            with open(in_fn) as fin:\n",
    "                with open(out_fn, \"w\") as fout:\n",
    "                    for line in fin:\n",
    "                        line = line.rstrip() + \"\\t\" + relation + \"\\n\"\n",
    "                        fout.write(line)\n",
    "            \n",
    "            ! head -n 3 $in_fn\n",
    "            ! head -n 3 $out_fn\n",
    "            ! tail -n 3 $in_fn\n",
    "            ! tail -n 3 $out_fn\n",
    "            ! wc -l $in_fn\n",
    "            ! wc -l $out_fn\n",
    "            print(\"=\"*50)\n",
    "                        "
   ]
  },
  {
   "cell_type": "code",
   "execution_count": 4,
   "id": "a3540ab0-8cb6-4a28-970e-aaf41cd53274",
   "metadata": {},
   "outputs": [
    {
     "name": "stdout",
     "output_type": "stream",
     "text": [
      "checkpoint_latest.test.compl.run\n",
      "checkpoint_latest.test.query.small.run\n",
      "checkpoint_latest.test.sim.small.run\n",
      "rel_checkpoint_latest.test.compl.run\n",
      "rel_checkpoint_latest.test.query.small.run\n",
      "rel_checkpoint_latest.test.sim.small.run\n"
     ]
    }
   ],
   "source": [
    "! ls $run_dir"
   ]
  },
  {
   "cell_type": "code",
   "execution_count": null,
   "id": "a227ea9c-8189-475d-bc83-388efda0b5d2",
   "metadata": {},
   "outputs": [],
   "source": []
  }
 ],
 "metadata": {
  "environment": {
   "kernel": "python3",
   "name": "tf2-gpu.2-9.m93",
   "type": "gcloud",
   "uri": "gcr.io/deeplearning-platform-release/tf2-gpu.2-9:m93"
  },
  "kernelspec": {
   "display_name": "Python 3",
   "language": "python",
   "name": "python3"
  },
  "language_info": {
   "codemirror_mode": {
    "name": "ipython",
    "version": 3
   },
   "file_extension": ".py",
   "mimetype": "text/x-python",
   "name": "python",
   "nbconvert_exporter": "python",
   "pygments_lexer": "ipython3",
   "version": "3.7.12"
  }
 },
 "nbformat": 4,
 "nbformat_minor": 5
}
