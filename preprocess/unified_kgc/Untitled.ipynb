{
 "cells": [
  {
   "cell_type": "code",
   "execution_count": 8,
   "id": "0829b584-b0fb-4061-99c1-f4f79b80775a",
   "metadata": {},
   "outputs": [
    {
     "name": "stdout",
     "output_type": "stream",
     "text": [
      "defaultdict(<class 'list'>, {2: [1, 2], 1: [3], 3: [4], 4: [5]})\n",
      "[(2, [1, 2]), (1, [3]), (3, [4]), (4, [5])]\n",
      "[(3, [4]), (1, [3]), (4, [5]), (2, [1, 2])]\n"
     ]
    }
   ],
   "source": [
    "from collections import defaultdict\n",
    "import random\n",
    "\n",
    "l = defaultdict(list)\n",
    "\n",
    "l[2].append(1)\n",
    "l[2].append(2)\n",
    "l[1].append(3)\n",
    "l[3].append(4)\n",
    "l[4].append(5)\n",
    "\n",
    "print(l)\n",
    "\n",
    "ls = list(l.items())\n",
    "print(ls)\n",
    "\n",
    "random.shuffle(ls)\n",
    "print(ls)"
   ]
  },
  {
   "cell_type": "code",
   "execution_count": 7,
   "id": "2df37070-55a5-4232-8ad5-d298106d410d",
   "metadata": {},
   "outputs": [
    {
     "data": {
      "text/plain": [
       "[(2, [1, 2]), (1, [3]), (3, [4]), (4, [5])]"
      ]
     },
     "execution_count": 7,
     "metadata": {},
     "output_type": "execute_result"
    }
   ],
   "source": [
    "ls = list(l.items())\n",
    "print(ls)\n"
   ]
  },
  {
   "cell_type": "code",
   "execution_count": 10,
   "id": "725cb366-551a-4c9d-b55b-fc188a7e614d",
   "metadata": {},
   "outputs": [
    {
     "data": {
      "text/plain": [
       "(5.480651283813085, 2.024726292179717, 2.7068603321750198)"
      ]
     },
     "execution_count": 10,
     "metadata": {},
     "output_type": "execute_result"
    }
   ],
   "source": [
    "973128 / 177557, 973128 / 480622, 480622 / 177557"
   ]
  },
  {
   "cell_type": "code",
   "execution_count": null,
   "id": "141fc7b6-3316-4867-862e-8e513c14e282",
   "metadata": {},
   "outputs": [],
   "source": [
    "1: 2.7: 5.4 ~ 1: 3 : 5"
   ]
  }
 ],
 "metadata": {
  "environment": {
   "kernel": "python3",
   "name": "tf2-gpu.2-9.m93",
   "type": "gcloud",
   "uri": "gcr.io/deeplearning-platform-release/tf2-gpu.2-9:m93"
  },
  "kernelspec": {
   "display_name": "Python 3",
   "language": "python",
   "name": "python3"
  },
  "language_info": {
   "codemirror_mode": {
    "name": "ipython",
    "version": 3
   },
   "file_extension": ".py",
   "mimetype": "text/x-python",
   "name": "python",
   "nbconvert_exporter": "python",
   "pygments_lexer": "ipython3",
   "version": "3.7.12"
  }
 },
 "nbformat": 4,
 "nbformat_minor": 5
}
