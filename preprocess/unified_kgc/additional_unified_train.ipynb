{
 "cells": [
  {
   "cell_type": "code",
   "execution_count": 34,
   "id": "1fac44ed-6d4f-4769-bd9a-48b4bfd119d1",
   "metadata": {},
   "outputs": [
    {
     "name": "stdout",
     "output_type": "stream",
     "text": [
      "qorien_q2ps, unique queries = 716,991, unique passages = 176,811\n",
      "porien_q2ps, unique queries = 289,415, unique passages = 330,387\n",
      "merge_q2ps, unique queries = 716,991, unique passages = 330,387\n",
      "number of train examples = 1,808,056\n"
     ]
    }
   ],
   "source": [
    "import os \n",
    "from collections import defaultdict\n",
    "\n",
    "REL_RELATION = \"is_relevant_to\"\n",
    "\n",
    "in_dir = \"/home/jupyter/jointly_rec_and_search/datasets/unified_kgc/unified_train/\"\n",
    "\n",
    "qorien_path = os.path.join(in_dir, \"max2_qorient_q2p.train.tsv\")\n",
    "porien_path = os.path.join(in_dir, \"q2a.train.tsv\")\n",
    "\n",
    "qorien_q2ps = defaultdict(list)\n",
    "porien_q2ps = defaultdict(list)\n",
    "q2p2negp = {}\n",
    "with open(qorien_path) as fin:\n",
    "    for line in fin:\n",
    "        qid, pid, neg_pid, _ = line.strip().split(\"\\t\")\n",
    "        qorien_q2ps[qid].append(pid)\n",
    "        if qid not in q2p2negp:\n",
    "            q2p2negp[qid] = {}\n",
    "            q2p2negp[qid][pid] = neg_pid\n",
    "        else:\n",
    "            q2p2negp[qid][pid] = neg_pid\n",
    "with open(porien_path) as fin:\n",
    "    for line in fin:\n",
    "        qid, pid, neg_pid, _ = line.strip().split(\"\\t\")\n",
    "        porien_q2ps[qid].append(pid)\n",
    "        if qid not in q2p2negp:\n",
    "            q2p2negp[qid] = {}\n",
    "            q2p2negp[qid][pid] = neg_pid\n",
    "        else:\n",
    "            q2p2negp[qid][pid] = neg_pid\n",
    "\n",
    "qorien_unique_ps = set([p for ps in qorien_q2ps.values() for p in ps])\n",
    "porien_unique_ps = set([p for ps in porien_q2ps.values() for p in ps])\n",
    "print(\"qorien_q2ps, unique queries = {:,}, unique passages = {:,}\".format(len(qorien_q2ps.keys()), len(qorien_unique_ps)))\n",
    "print(\"porien_q2ps, unique queries = {:,}, unique passages = {:,}\".format(len(porien_q2ps.keys()), len(porien_unique_ps)))\n",
    "\n",
    "merge_q2ps = defaultdict(list)\n",
    "for q, ps in qorien_q2ps.items():\n",
    "    if q in porien_q2ps:\n",
    "        merge_ps = set(ps + porien_q2ps[q])\n",
    "        merge_q2ps[q] = list(merge_ps)\n",
    "    else:\n",
    "        merge_q2ps[q] = ps\n",
    "        \n",
    "for q, ps in porien_q2ps.items():\n",
    "    if q not in merge_q2ps:\n",
    "        merge_q2ps[q] = ps\n",
    "\n",
    "merge_unique_ps = set([p for ps in merge_q2ps.values() for p in ps])\n",
    "print(\"merge_q2ps, unique queries = {:,}, unique passages = {:,}\".format(len(merge_q2ps.keys()), len(merge_unique_ps)))\n",
    "\n",
    "train_triples = []\n",
    "for qid, pos_pids in merge_q2ps.items():\n",
    "    for pos_pid in pos_pids:\n",
    "        train_triples.append((qid, pos_pid, q2p2negp[qid][pos_pid]))\n",
    "print(\"number of train examples = {:,}\".format(len(train_triples)))\n",
    "\n",
    "with open(os.path.join(in_dir, \"complete_q2p.train.tsv\"), \"w\") as fout:\n",
    "    for qid, pos_pid, neg_pid in train_triples:\n",
    "        fout.write(f\"{qid}\\t{pos_pid}\\t{neg_pid}\\t{REL_RELATION}\\n\")"
   ]
  },
  {
   "cell_type": "code",
   "execution_count": 35,
   "id": "cb678275-85e9-43c8-a41d-1e57444ebce2",
   "metadata": {},
   "outputs": [
    {
     "name": "stdout",
     "output_type": "stream",
     "text": [
      "1808056 /home/jupyter/jointly_rec_and_search/datasets/unified_kgc/unified_train/complete_q2p.train.tsv\n",
      "3006068\t785329\t2019535\tis_relevant_to\n",
      "3006068\t1517384\t809219\tis_relevant_to\n",
      "2608168\t1732982\t409623\tis_relevant_to\n",
      "2608168\t551815\t2174606\tis_relevant_to\n",
      "2588656\t934774\t1698316\tis_relevant_to\n",
      "2588656\t541860\t855023\tis_relevant_to\n",
      "2588656\t477227\t1675319\tis_relevant_to\n",
      "2588656\t1560403\t137815\tis_relevant_to\n",
      "2588656\t1391645\t148715\tis_relevant_to\n",
      "2588656\t1331297\t791279\tis_relevant_to\n"
     ]
    }
   ],
   "source": [
    "! wc -l /home/jupyter/jointly_rec_and_search/datasets/unified_kgc/unified_train/complete_q2p.train.tsv\n",
    "! head -n 10 /home/jupyter/jointly_rec_and_search/datasets/unified_kgc/unified_train/complete_q2p.train.tsv"
   ]
  },
  {
   "cell_type": "code",
   "execution_count": 38,
   "id": "f89ce3cd-748a-452a-b1d7-cf177d79e5c3",
   "metadata": {},
   "outputs": [
    {
     "name": "stdout",
     "output_type": "stream",
     "text": [
      "2608168\tbrick oven\n",
      "1732982\tForno Venetzia Pronto Brick Hearth Wood-fired Outdoor Pizza Oven ; Outdoor Pizza Ovens\n",
      "409623\tAntico Elements Faux Brick Panels 5-in x 7-in Storm Brick Veneer Individual Piece 0.3 Square ; Brick Veneer\n"
     ]
    }
   ],
   "source": [
    "hid, pos_tid, neg_tid = (2608168,1732982,409623)\n",
    "\n",
    "! grep -P \"^{hid}\\t\" \"/home/jupyter/jointly_rec_and_search/datasets/unified_kgc/all_entities.tsv\"\n",
    "! grep -P \"^{pos_tid}\\t\" \"/home/jupyter/jointly_rec_and_search/datasets/unified_kgc/all_entities.tsv\"\n",
    "! grep -P \"^{neg_tid}\\t\" \"/home/jupyter/jointly_rec_and_search/datasets/unified_kgc/all_entities.tsv\""
   ]
  },
  {
   "cell_type": "code",
   "execution_count": 36,
   "id": "ce4cf965-f11f-4e08-b131-a9ad2ff6f886",
   "metadata": {},
   "outputs": [
    {
     "data": {
      "text/plain": [
       "[('3006068', '785329', '2019535'),\n",
       " ('3006068', '1517384', '809219'),\n",
       " ('2608168', '1732982', '409623'),\n",
       " ('2608168', '551815', '2174606'),\n",
       " ('2588656', '934774', '1698316'),\n",
       " ('2588656', '541860', '855023'),\n",
       " ('2588656', '477227', '1675319'),\n",
       " ('2588656', '1560403', '137815'),\n",
       " ('2588656', '1391645', '148715'),\n",
       " ('2588656', '1331297', '791279')]"
      ]
     },
     "execution_count": 36,
     "metadata": {},
     "output_type": "execute_result"
    }
   ],
   "source": [
    "train_triples[:10]"
   ]
  },
  {
   "cell_type": "code",
   "execution_count": 31,
   "id": "967c1669-42c9-4340-be46-507880e317d1",
   "metadata": {},
   "outputs": [
    {
     "data": {
      "text/plain": [
       "'2019535'"
      ]
     },
     "execution_count": 31,
     "metadata": {},
     "output_type": "execute_result"
    }
   ],
   "source": [
    "q2p2negp[\"3006068\"][\"785329\"]"
   ]
  },
  {
   "cell_type": "code",
   "execution_count": null,
   "id": "1c71777e-b299-4e70-82f4-4469e6f919b7",
   "metadata": {},
   "outputs": [],
   "source": []
  }
 ],
 "metadata": {
  "environment": {
   "kernel": "python3",
   "name": "tf2-gpu.2-9.m93",
   "type": "gcloud",
   "uri": "gcr.io/deeplearning-platform-release/tf2-gpu.2-9:m93"
  },
  "kernelspec": {
   "display_name": "Python 3",
   "language": "python",
   "name": "python3"
  },
  "language_info": {
   "codemirror_mode": {
    "name": "ipython",
    "version": 3
   },
   "file_extension": ".py",
   "mimetype": "text/x-python",
   "name": "python",
   "nbconvert_exporter": "python",
   "pygments_lexer": "ipython3",
   "version": "3.7.12"
  }
 },
 "nbformat": 4,
 "nbformat_minor": 5
}
