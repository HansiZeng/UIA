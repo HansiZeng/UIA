{
 "cells": [
  {
   "cell_type": "code",
   "execution_count": null,
   "id": "6a09caef-7dcb-43df-9678-0191592111e1",
   "metadata": {},
   "outputs": [],
   "source": [
    "import os \n",
    "from collections import defaultdict\n",
    "\n",
    "from tqdm import tqdm\n",
    "import numpy as np\n",
    "import pandas as pd\n",
    "\n",
    "in_dir = \"/home/jupyter/unity_jointly_rec_and_search/datasets/unified_kgc/unified_train/\"\n",
    "\n",
    "a2sp, a2cp, q2p = defaultdict(list), defaultdict(list), defaultdict(list)\n",
    "\n",
    "fn_to_data = {\n",
    "    \"a2sp.train.tsv\": a2sp,\n",
    "    \"a2cp.train.tsv\": a2cp,\n",
    "    \"max2_qorient_q2p.train.tsv\": q2p\n",
    "}\n",
    "for fn, data in fn_to_data.items():\n",
    "    fn = os.path.join(in_dir, fn)\n",
    "    with open(fn) as fin:\n",
    "        for line in fin:\n",
    "            array = line.strip().split(\"\\t\")\n",
    "            assert len(array) == 4\n",
    "            hid, pos_tid = int(array[0]), int(array[1])\n",
    "            data[hid].append(pos_tid)\n",
    "\n",
    "print(len(a2sp), len(a2cp), len(q2p))\n",
    "print(np.mean([len(xs) for xs in a2sp.values()]), np.mean([len(xs) for xs in a2cp.values()]), np.mean([len(xs) for xs in q2p.values()]))"
   ]
  },
  {
   "cell_type": "code",
   "execution_count": null,
   "id": "cc406db6-7b9c-4cce-ac26-4e9bda87ca0b",
   "metadata": {},
   "outputs": [],
   "source": [
    "def create_self_triples(hid, pos_tid, hid_to_postids, sampler):\n",
    "    neg_tid = random.sample(sampler[hid], k=1)[0]\n",
    "    while neg_tid in hid_to_postids[hid]:\n",
    "        neg_tid = random.sample(sampler[hid], k=1)[0]\n",
    "    return (hid, pos_tid, neg_tid)\n",
    "\n",
    "def create_self_n_triples(hid, pos_tid, hid_to_postids, sampler, n=4):\n",
    "    neg_tis = set()\n",
    "    while len(neg_tis) < n:\n",
    "        neg_tid = random.sample(sampler[hid], k=1)[0]\n",
    "        while neg_tid in hid_to_postids[hid] or neg_tid in neg_tis:\n",
    "            neg_tid = random.sample(sampler[hid], k=1)[0]\n",
    "        neg_tis.add(neg_tid)\n",
    "    \n",
    "    triples = []\n",
    "    for neg_tid in neg_tis:\n",
    "        exp = (hid, pos_tid, neg_tid)\n",
    "        triples.append(exp)\n",
    "        \n",
    "    return triples\n",
    "\n",
    "\n",
    "data_dir = \"/home/jupyter/unity_jointly_rec_and_search/datasets/unified_user/\"\n",
    "eid_to_text = {}\n",
    "with open(os.path.join(data_dir, \"all_entities.tsv\")) as fin:\n",
    "    for line in fin:\n",
    "        eid, text = line.strip().split(\"\\t\")\n",
    "        eid_to_text[int(eid)] = text\n",
    "\n",
    "# \"experiment_09-05_201710\" \"experiment_09-06_014836\" \"experiment_09-06_144636\" \"experiment_09-07_005742\"\n",
    "exp_dir = \"/home/jupyter/unity_jointly_rec_and_search/experiments/unified_kgc/phase_1/experiment_09-07_005742\"\n",
    "run_path = os.path.join(exp_dir, \"runs/checkpoint_latest.all.run\")\n",
    "df = pd.read_csv(run_path, sep=\"\\t\", names=[\"hid\", \"tid\", \"rank\", \"score\"])\n",
    "self_hid_to_tids = {}\n",
    "number_of_group = len(df.hid.unique())\n",
    "for hid, group in tqdm(df.groupby(\"hid\"), total=number_of_group):\n",
    "    cand_tids = list(group.tid.values)\n",
    "    assert len(cand_tids) == 200\n",
    "    self_hid_to_tids[int(hid)] = [int(x) for x in cand_tids]\n"
   ]
  },
  {
   "cell_type": "code",
   "execution_count": 43,
   "id": "c9eaa96a-7df0-40ea-9054-bf2808e31331",
   "metadata": {},
   "outputs": [],
   "source": [
    "hard_hid_to_tids = {}\n",
    "for hid, tids in self_hid_to_tids.items():\n",
    "    hard_hid_to_tids[hid] = tids[100:]\n",
    "\n",
    "rand_hid_to_tids = {}\n",
    "for hid in self_hid_to_tids:\n",
    "    rand_hid_to_tids[hid] = range(2_000_000)"
   ]
  },
  {
   "cell_type": "code",
   "execution_count": 44,
   "id": "0356aaf4-ae44-41b2-96c0-32183a4a5ab5",
   "metadata": {},
   "outputs": [],
   "source": [
    "import random\n",
    "from itertools import chain\n",
    "\n",
    "a2sp_triples = []\n",
    "a2cp_triples = []\n",
    "q2p_triples = []\n",
    "n_neg = 4\n",
    "\n",
    "for aid, simpids in a2sp.items():\n",
    "    for pos_pid in simpids:\n",
    "        triples_1 = create_self_n_triples(aid, pos_pid, a2sp, hard_hid_to_tids, n_neg//2)\n",
    "        triples_2 = create_self_n_triples(aid, pos_pid, a2sp, rand_hid_to_tids, n_neg//2)\n",
    "        for triple in chain(triples_1, triples_2):\n",
    "            a2sp_triples.append(triple)\n",
    "        \n",
    "for aid, complpids in a2cp.items():\n",
    "    for pos_pid in complpids:\n",
    "        triples_1 = create_self_n_triples(aid, pos_pid, a2cp, hard_hid_to_tids, n_neg//2)\n",
    "        triples_2 = create_self_n_triples(aid, pos_pid, a2cp, rand_hid_to_tids, n_neg//2)\n",
    "        for triple in chain(triples_1, triples_2):\n",
    "            a2cp_triples.append(triple)\n",
    "        \n",
    "for qid, relpids in q2p.items():\n",
    "    for pos_pid in relpids:\n",
    "        triples_1 = create_self_n_triples(qid, pos_pid, q2p, hard_hid_to_tids, n_neg//2)\n",
    "        triples_2 = create_self_n_triples(qid, pos_pid, q2p, rand_hid_to_tids, n_neg//2)\n",
    "        for triple in chain(triples_1, triples_2):  \n",
    "            q2p_triples.append(triple)\n",
    "\n",
    "SIM_RELATION = \"is_similar_to\"\n",
    "COMPL_RELATION = \"is_complementary_to\"\n",
    "REL_RELATION = \"is_relevant_to\"\n",
    "\n",
    "out_dir = os.path.join(exp_dir, f\"self_train_{n_neg}neg\")\n",
    "if not os.path.exists(out_dir):\n",
    "    os.mkdir(out_dir)\n",
    "    \n",
    "fn_to_data = {\n",
    "    \"a2sp.train.tsv\": (a2sp_triples, SIM_RELATION),\n",
    "    \"a2cp.train.tsv\": (a2cp_triples, COMPL_RELATION),\n",
    "    \"q2p.train.tsv\": (q2p_triples, REL_RELATION),\n",
    "}\n",
    "\n",
    "for fn, (triples, relation) in fn_to_data.items():\n",
    "    fn = os.path.join(out_dir, fn)\n",
    "    with open(fn, \"w\") as fout:\n",
    "        for triple in triples:\n",
    "            hid, pos_tid, neg_tid = triple\n",
    "            fout.write(f\"{hid}\\t{pos_tid}\\t{neg_tid}\\t{relation}\\n\")"
   ]
  },
  {
   "cell_type": "code",
   "execution_count": null,
   "id": "01feb1d4-a517-4981-9bb6-d286ea31a0f1",
   "metadata": {},
   "outputs": [],
   "source": [
    "# sanity check\n",
    "for path in os.listdir(out_dir):\n",
    "    path = os.path.join(out_dir, path)\n",
    "    ! wc -l $path\n",
    "    ! head -n 8 $path\n",
    "    ! tail -n 8 $path\n",
    "    print(\"=\"*100)"
   ]
  },
  {
   "cell_type": "code",
   "execution_count": 54,
   "id": "5751fbca-356a-4dcc-abbb-b86d58cec501",
   "metadata": {},
   "outputs": [
    {
     "name": "stdout",
     "output_type": "stream",
     "text": [
      "file crates\n",
      "Style Selections Plastics crates 17-in W x 11-in H x 14-in D Black Plastic Milk Crate ; Storage Bins & Baskets\n",
      "Hastings Home Plastic Storage Tray ; Tool Storage Accessories\n"
     ]
    }
   ],
   "source": [
    "hid, pos_tid, neg_tid = (2853868,102466,680632)\n",
    "print(eid_to_text[hid])\n",
    "print(eid_to_text[pos_tid])\n",
    "print(eid_to_text[neg_tid])"
   ]
  },
  {
   "cell_type": "code",
   "execution_count": 41,
   "id": "eeaa34c6-0cc9-4779-ab8e-5219d4611db7",
   "metadata": {},
   "outputs": [
    {
     "data": {
      "text/plain": [
       "[6, 7]"
      ]
     },
     "execution_count": 41,
     "metadata": {},
     "output_type": "execute_result"
    }
   ],
   "source": [
    "random.sample(range(10), 2)"
   ]
  },
  {
   "cell_type": "code",
   "execution_count": null,
   "id": "edda32cc-d868-401e-97c4-eac28ee28481",
   "metadata": {},
   "outputs": [],
   "source": []
  }
 ],
 "metadata": {
  "environment": {
   "kernel": "python3",
   "name": "tf2-gpu.2-9.m93",
   "type": "gcloud",
   "uri": "gcr.io/deeplearning-platform-release/tf2-gpu.2-9:m93"
  },
  "kernelspec": {
   "display_name": "Python 3",
   "language": "python",
   "name": "python3"
  },
  "language_info": {
   "codemirror_mode": {
    "name": "ipython",
    "version": 3
   },
   "file_extension": ".py",
   "mimetype": "text/x-python",
   "name": "python",
   "nbconvert_exporter": "python",
   "pygments_lexer": "ipython3",
   "version": "3.7.12"
  }
 },
 "nbformat": 4,
 "nbformat_minor": 5
}
