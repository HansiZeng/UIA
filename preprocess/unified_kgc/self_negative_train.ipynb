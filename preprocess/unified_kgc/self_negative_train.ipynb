{
 "cells": [
  {
   "cell_type": "code",
   "execution_count": 1,
   "id": "27396544-1fe3-48fb-b4ba-944d069aab89",
   "metadata": {},
   "outputs": [
    {
     "name": "stdout",
     "output_type": "stream",
     "text": [
      "199507 80042 832482\n",
      "2.8232693589698608 2.40278853601859 1.4414726084167586\n"
     ]
    }
   ],
   "source": [
    "import os \n",
    "from collections import defaultdict\n",
    "\n",
    "from tqdm import tqdm\n",
    "import numpy as np\n",
    "import pandas as pd\n",
    "\n",
    "in_dir = \"/home/jupyter/unity_jointly_rec_and_search/datasets/unified_kgc/unified_train/\"\n",
    "\n",
    "a2sp, a2cp, q2p = defaultdict(list), defaultdict(list), defaultdict(list)\n",
    "\n",
    "fn_to_data = {\n",
    "    \"a2sp.train.tsv\": a2sp,\n",
    "    \"a2cp.train.tsv\": a2cp,\n",
    "    \"max2_qorient_q2p.train.tsv\": q2p\n",
    "}\n",
    "for fn, data in fn_to_data.items():\n",
    "    fn = os.path.join(in_dir, fn)\n",
    "    with open(fn) as fin:\n",
    "        for line in fin:\n",
    "            array = line.strip().split(\"\\t\")\n",
    "            assert len(array) == 4\n",
    "            hid, pos_tid = int(array[0]), int(array[1])\n",
    "            data[hid].append(pos_tid)\n",
    "\n",
    "print(len(a2sp), len(a2cp), len(q2p))\n",
    "print(np.mean([len(xs) for xs in a2sp.values()]), np.mean([len(xs) for xs in a2cp.values()]), np.mean([len(xs) for xs in q2p.values()]))"
   ]
  },
  {
   "cell_type": "code",
   "execution_count": 2,
   "id": "bf231797-6993-49c7-8c1c-240726263f73",
   "metadata": {},
   "outputs": [
    {
     "name": "stderr",
     "output_type": "stream",
     "text": [
      "100%|██████████| 3214651/3214651 [07:55<00:00, 6764.30it/s]\n"
     ]
    }
   ],
   "source": [
    "def create_self_triples(hid, pos_tid, hid_to_postids, sampler):\n",
    "    neg_tid = random.sample(sampler[hid], k=1)[0]\n",
    "    while neg_tid in hid_to_postids[hid]:\n",
    "        neg_tid = random.sample(sampler[hid], k=1)[0]\n",
    "    return (hid, pos_tid, neg_tid)\n",
    "\n",
    "data_dir = \"/home/jupyter/unity_jointly_rec_and_search/datasets/unified_user/\"\n",
    "eid_to_text = {}\n",
    "with open(os.path.join(data_dir, \"all_entities.tsv\")) as fin:\n",
    "    for line in fin:\n",
    "        eid, text = line.strip().split(\"\\t\")\n",
    "        eid_to_text[int(eid)] = text\n",
    "\n",
    "# \"experiment_09-05_201710\" \"experiment_09-06_014836\" \"experiment_09-06_144636\" \"experiment_09-07_005742\"\n",
    "exp_dir = \"/home/jupyter/unity_jointly_rec_and_search/experiments/unified_kgc/experiment_09-07_005742\"\n",
    "run_path = os.path.join(exp_dir, \"runs/checkpoint_latest.all.run\")\n",
    "df = pd.read_csv(run_path, sep=\"\\t\", names=[\"hid\", \"tid\", \"rank\", \"score\"])\n",
    "self_hid_to_tids = {}\n",
    "number_of_group = len(df.hid.unique())\n",
    "for hid, group in tqdm(df.groupby(\"hid\"), total=number_of_group):\n",
    "    cand_tids = list(group.tid.values)\n",
    "    assert len(cand_tids) == 200\n",
    "    self_hid_to_tids[int(hid)] = [int(x) for x in cand_tids]"
   ]
  },
  {
   "cell_type": "code",
   "execution_count": 3,
   "id": "0356aaf4-ae44-41b2-96c0-32183a4a5ab5",
   "metadata": {},
   "outputs": [],
   "source": [
    "import random\n",
    "\n",
    "a2sp_triples = []\n",
    "a2cp_triples = []\n",
    "q2p_triples = []\n",
    "\n",
    "for aid, simpids in a2sp.items():\n",
    "    for pos_pid in simpids:\n",
    "        triple = create_self_triples(aid, pos_pid, a2sp, self_hid_to_tids)\n",
    "        a2sp_triples.append(triple)\n",
    "        \n",
    "for aid, complpids in a2cp.items():\n",
    "    for pos_pid in complpids:\n",
    "        triple = create_self_triples(aid, pos_pid, a2cp, self_hid_to_tids)\n",
    "        a2cp_triples.append(triple)\n",
    "        \n",
    "for qid, relpids in q2p.items():\n",
    "    for pos_pid in relpids:\n",
    "        triple = create_self_triples(qid, pos_pid, q2p, self_hid_to_tids)\n",
    "        q2p_triples.append(triple)\n",
    "\n",
    "SIM_RELATION = \"is_similar_to\"\n",
    "COMPL_RELATION = \"is_complementary_to\"\n",
    "REL_RELATION = \"is_relevant_to\"\n",
    "\n",
    "out_dir = os.path.join(exp_dir, \"self_train\")\n",
    "if not os.path.exists(out_dir):\n",
    "    os.mkdir(out_dir)\n",
    "    \n",
    "fn_to_data = {\n",
    "    \"a2sp.train.tsv\": (a2sp_triples, SIM_RELATION),\n",
    "    \"a2cp.train.tsv\": (a2cp_triples, COMPL_RELATION),\n",
    "    \"q2p.train.tsv\": (q2p_triples, REL_RELATION),\n",
    "}\n",
    "\n",
    "for fn, (triples, relation) in fn_to_data.items():\n",
    "    fn = os.path.join(out_dir, fn)\n",
    "    with open(fn, \"w\") as fout:\n",
    "        for triple in triples:\n",
    "            hid, pos_tid, neg_tid = triple\n",
    "            fout.write(f\"{hid}\\t{pos_tid}\\t{neg_tid}\\t{relation}\\n\")"
   ]
  },
  {
   "cell_type": "code",
   "execution_count": 6,
   "id": "9b33e770-cfc1-44c1-9201-d1791b3d3778",
   "metadata": {},
   "outputs": [
    {
     "name": "stdout",
     "output_type": "stream",
     "text": [
      "1200000 /home/jupyter/unity_jointly_rec_and_search/experiments/unified_kgc/experiment_09-07_005742/self_train/q2p.train.tsv\n",
      "2853868\t102466\t1400885\tis_relevant_to\n",
      "2705355\t2002433\t2034175\tis_relevant_to\n",
      "3041465\t1096710\t2198693\tis_relevant_to\n",
      "2531648\t291192\t8625\tis_relevant_to\n",
      "2474011\t731124\t1338460\tis_relevant_to\n",
      "2517222\t1829280\t1495872\tis_relevant_to\n",
      "====================================================================================================\n",
      "563262 /home/jupyter/unity_jointly_rec_and_search/experiments/unified_kgc/experiment_09-07_005742/self_train/a2sp.train.tsv\n",
      "1048567\t331101\t2037830\tis_similar_to\n",
      "1048567\t1144496\t910290\tis_similar_to\n",
      "1144496\t1777815\t1117287\tis_similar_to\n",
      "1891760\t2233677\t557509\tis_similar_to\n",
      "352886\t1068443\t2147908\tis_similar_to\n",
      "615570\t1017607\t1068443\tis_similar_to\n",
      "====================================================================================================\n",
      "192324 /home/jupyter/unity_jointly_rec_and_search/experiments/unified_kgc/experiment_09-07_005742/self_train/a2cp.train.tsv\n",
      "745636\t1983214\t1926294\tis_complementary_to\n",
      "745636\t1337474\t1709339\tis_complementary_to\n",
      "745636\t1173319\t605170\tis_complementary_to\n",
      "364149\t41477\t833619\tis_complementary_to\n",
      "187314\t1236902\t306155\tis_complementary_to\n",
      "1864309\t2154277\t1504021\tis_complementary_to\n",
      "====================================================================================================\n"
     ]
    }
   ],
   "source": [
    "# sanity check\n",
    "for path in os.listdir(out_dir):\n",
    "    path = os.path.join(out_dir, path)\n",
    "    ! wc -l $path\n",
    "    ! head -n 3 $path\n",
    "    ! tail -n 3 $path\n",
    "    print(\"=\"*100)"
   ]
  },
  {
   "cell_type": "code",
   "execution_count": 11,
   "id": "5751fbca-356a-4dcc-abbb-b86d58cec501",
   "metadata": {},
   "outputs": [
    {
     "name": "stdout",
     "output_type": "stream",
     "text": [
      "Broan 30-in Ducted Black Undercabinet Range Hood ; Undercabinet Range Hoods\n",
      "Broan Undercabinet Range Hood Damper Kit (Aluminum) ; Range Hood Parts\n",
      "Broan Duct-Free Wall-mounted Range Hood Liner (Aluminum) ; Range Hood Parts\n"
     ]
    }
   ],
   "source": [
    "hid, pos_tid, neg_tid = (745636,1337474,1709339)\n",
    "print(eid_to_text[hid])\n",
    "print(eid_to_text[pos_tid])\n",
    "print(eid_to_text[neg_tid])"
   ]
  },
  {
   "cell_type": "code",
   "execution_count": null,
   "id": "eeaa34c6-0cc9-4779-ab8e-5219d4611db7",
   "metadata": {},
   "outputs": [],
   "source": []
  }
 ],
 "metadata": {
  "environment": {
   "kernel": "python3",
   "name": "tf2-gpu.2-9.m93",
   "type": "gcloud",
   "uri": "gcr.io/deeplearning-platform-release/tf2-gpu.2-9:m93"
  },
  "kernelspec": {
   "display_name": "Python 3",
   "language": "python",
   "name": "python3"
  },
  "language_info": {
   "codemirror_mode": {
    "name": "ipython",
    "version": 3
   },
   "file_extension": ".py",
   "mimetype": "text/x-python",
   "name": "python",
   "nbconvert_exporter": "python",
   "pygments_lexer": "ipython3",
   "version": "3.7.12"
  }
 },
 "nbformat": 4,
 "nbformat_minor": 5
}
