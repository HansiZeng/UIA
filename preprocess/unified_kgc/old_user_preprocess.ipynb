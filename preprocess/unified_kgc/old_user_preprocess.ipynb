{
 "cells": [
  {
   "cell_type": "code",
   "execution_count": 1,
   "id": "dc5a7427-db0d-49b3-8727-aabadd722125",
   "metadata": {},
   "outputs": [
    {
     "name": "stdout",
     "output_type": "stream",
     "text": [
      "Client creating using default project: gcp-ushi-digital-ds-qa\n"
     ]
    }
   ],
   "source": [
    "import os\n",
    "\n",
    "from google.cloud import bigquery\n",
    "import pandas as pd \n",
    "import numpy as np\n",
    "\n",
    "client = bigquery.Client()\n",
    "print(\"Client creating using default project: {}\".format(client.project))\n",
    "\n",
    "query = \"\"\"\n",
    "    SELECT *\n",
    "    FROM `gcp-ushi-digital-ds-qa.hansi_user_dataset.hansi_10core_user_sim_rec_bytime`;\n",
    "\"\"\"\n",
    "query_job = client.query(query)\n",
    "user_sim_rec_df = query_job.to_dataframe()\n",
    "\n",
    "query = \"\"\"\n",
    "    SELECT *\n",
    "    FROM `gcp-ushi-digital-ds-qa.hansi_user_dataset.hansi_5core_user_compl_rec_bytime`;\n",
    "\"\"\"\n",
    "query_job = client.query(query)\n",
    "user_compl_rec_df = query_job.to_dataframe()\n",
    "\n",
    "query = \"\"\"\n",
    "    SELECT *\n",
    "    FROM `gcp-ushi-digital-ds-qa.hansi_user_dataset.hansi_10core_user_search_bytime`;\n",
    "\"\"\"\n",
    "query_job = client.query(query)\n",
    "user_search_df = query_job.to_dataframe()\n",
    "\n",
    "query = \"\"\"\n",
    "    SELECT * \n",
    "    FROM `gcp-ushi-digital-ds-qa.hansi_user_dataset.hansi_10core_user_rec_search_bytime`;\n",
    "    \"\"\"\n",
    "query_job = client.query(query)\n",
    "user_rec_search_df = query_job.to_dataframe()\n"
   ]
  },
  {
   "cell_type": "code",
   "execution_count": 12,
   "id": "e3865ee6-8081-4a6c-9b93-454b5bd8848f",
   "metadata": {},
   "outputs": [
    {
     "name": "stdout",
     "output_type": "stream",
     "text": [
      "size of user_sim_rec_df = 230,659, user_compl_rec_df = 84,493, user_search_df = 1,395,161, user_rec_search_df = 2,372\n"
     ]
    },
    {
     "name": "stderr",
     "output_type": "stream",
     "text": [
      "100%|██████████| 230659/230659 [00:12<00:00, 18786.04it/s]\n"
     ]
    },
    {
     "name": "stdout",
     "output_type": "stream",
     "text": [
      "all_users = 1,665,966, interacted_ivms = 329,339, interacted_queries = 693,520\n",
      "interacted_ivms is subset of all:  True\n",
      "interacted_queries is subset of all:  True\n"
     ]
    }
   ],
   "source": [
    "import pickle\n",
    "from tqdm import tqdm\n",
    "in_dir = \"/home/jupyter/jointly_rec_and_search/datasets/unified_kgc/\"\n",
    "\n",
    "print(\"size of user_sim_rec_df = {:,}, user_compl_rec_df = {:,}, user_search_df = {:,}, user_rec_search_df = {:,}\".format(\n",
    "    len(user_sim_rec_df), len(user_compl_rec_df), len(user_search_df), len(user_rec_search_df)\n",
    "))\n",
    "\n",
    "all_users = set(\n",
    "    list(user_sim_rec_df.customer_id.unique()) + list(user_compl_rec_df.customer_id.unique()) + list(user_search_df.customer_id.unique()))\n",
    "interacted_ivms = set()\n",
    "interacted_queries = set()\n",
    "for i, row in tqdm(user_sim_rec_df.iterrows(), total=len(user_sim_rec_df)):\n",
    "    for sim_record in row.sim_records:\n",
    "        interacted_ivms.update([sim_record[\"anchor\"], sim_record[\"ivm\"]])\n",
    "for i, row in user_compl_rec_df.iterrows():\n",
    "    for compl_record in row.compl_records:\n",
    "        interacted_ivms.update([compl_record[\"anchor\"], compl_record[\"ivm\"]])\n",
    "for i, row in user_search_df.iterrows():\n",
    "    for search_record in row.search_records:\n",
    "        interacted_ivms.add(search_record[\"ivm\"])\n",
    "        interacted_queries.add(search_record[\"query\"])\n",
    "print(\"all_users = {:,}, interacted_ivms = {:,}, interacted_queries = {:,}\".format(len(all_users), len(interacted_ivms), len(interacted_queries)))\n",
    "\n",
    "# read exisiting ivm, query map\n",
    "with open(os.path.join(in_dir, \"ivm_to_pid.pkl\"), \"rb\") as fin:\n",
    "    ivm_to_pid = pickle.load(fin)\n",
    "\n",
    "with open(os.path.join(in_dir, \"query_to_qid.pkl\"), \"rb\") as fin:\n",
    "    query_to_qid = pickle.load(fin)\n",
    "\n",
    "print(\"interacted_ivms is subset of all: \", interacted_ivms.issubset(set(ivm_to_pid.keys())))\n",
    "print(\"interacted_queries is subset of all: \", interacted_queries.issubset(set(query_to_qid.keys())))"
   ]
  },
  {
   "cell_type": "code",
   "execution_count": 15,
   "id": "56b11267-f2d2-461f-bafb-e35a3766f483",
   "metadata": {},
   "outputs": [
    {
     "name": "stderr",
     "output_type": "stream",
     "text": [
      "100%|██████████| 230659/230659 [00:35<00:00, 6543.14it/s]\n",
      "100%|██████████| 84493/84493 [00:08<00:00, 9698.92it/s] \n",
      "100%|██████████| 1395161/1395161 [04:12<00:00, 5527.43it/s]"
     ]
    },
    {
     "name": "stdout",
     "output_type": "stream",
     "text": [
      "rec_search's user have number of sim_rec, compl_rec, search examples = 52,252, 24,744, 103,954\n",
      "only rec or search's user have number of sim_rec, compl_rec, search examples = 3,588,627, 680,778, 25,188,168\n"
     ]
    },
    {
     "name": "stderr",
     "output_type": "stream",
     "text": [
      "\n"
     ]
    }
   ],
   "source": [
    "user_to_uid = {user:uid for uid, user in enumerate(list(all_users))}\n",
    "rs_sim_rec_examples = []\n",
    "rs_compl_rec_examples = []\n",
    "rs_search_examples = []\n",
    "\n",
    "for i, row in user_rec_search_df.iterrows():\n",
    "    for sim_record in row.sim_records:\n",
    "        uid, aid, pid = user_to_uid[row.customer_id] , ivm_to_pid[sim_record[\"anchor\"]], ivm_to_pid[sim_record[\"ivm\"]]\n",
    "        rs_sim_rec_examples.append((uid, aid, pid, sim_record[\"date_time\"], sim_record[\"visit_id\"]))\n",
    "    for compl_record in row.compl_records:\n",
    "        uid, aid, pid = user_to_uid[row.customer_id] , ivm_to_pid[compl_record[\"anchor\"]], ivm_to_pid[compl_record[\"ivm\"]]\n",
    "        rs_compl_rec_examples.append((uid, aid, pid , compl_record[\"date_time\"], compl_record[\"visit_id\"]))\n",
    "    for search_record in row.search_records:\n",
    "        uid, qid, pid = user_to_uid[row.customer_id], query_to_qid[search_record[\"query\"]], ivm_to_pid[search_record[\"ivm\"]]\n",
    "        rs_search_examples.append((uid, qid, pid , search_record[\"date_time\"], search_record[\"visit_id\"]))\n",
    "\n",
    "r_sim_rec_examples = []\n",
    "for i, row in tqdm(user_sim_rec_df.iterrows(), total=len(user_sim_rec_df)):\n",
    "    for sim_record in row.sim_records:\n",
    "        uid, aid, pid = user_to_uid[row.customer_id] , ivm_to_pid[sim_record[\"anchor\"]], ivm_to_pid[sim_record[\"ivm\"]]\n",
    "        r_sim_rec_examples.append((uid, aid, pid, sim_record[\"date_time\"], sim_record[\"visit_id\"]))\n",
    "r_compl_rec_examples = []\n",
    "for i, row in tqdm(user_compl_rec_df.iterrows(), total=len(user_compl_rec_df)):\n",
    "    for compl_record in row.compl_records:\n",
    "        uid, aid, pid = user_to_uid[row.customer_id] , ivm_to_pid[compl_record[\"anchor\"]], ivm_to_pid[compl_record[\"ivm\"]]\n",
    "        r_compl_rec_examples.append((uid, aid, pid , compl_record[\"date_time\"], compl_record[\"visit_id\"]))\n",
    "s_search_examples = []\n",
    "for i, row in tqdm(user_search_df.iterrows(), total=len(user_search_df)):\n",
    "    for search_record in row.search_records:\n",
    "        uid, qid, pid = user_to_uid[row.customer_id], query_to_qid[search_record[\"query\"]], ivm_to_pid[search_record[\"ivm\"]]\n",
    "        s_search_examples.append((uid, qid, pid , search_record[\"date_time\"], search_record[\"visit_id\"]))\n",
    "\n",
    "print(\"rec_search's user have number of sim_rec, compl_rec, search examples = {:,}, {:,}, {:,}\".format(len(rs_sim_rec_examples), \n",
    "                                                                                     len(rs_compl_rec_examples),\n",
    "                                                                                       len(rs_search_examples)))\n",
    "print(\"only rec or search's user have number of sim_rec, compl_rec, search examples = {:,}, {:,}, {:,}\".format(len(r_sim_rec_examples), \n",
    "                                                                                     len(r_compl_rec_examples),\n",
    "                                                                                       len(s_search_examples)))"
   ]
  },
  {
   "cell_type": "code",
   "execution_count": 26,
   "id": "5cf27ec1-a5d6-42ae-b860-7b3823bfe346",
   "metadata": {},
   "outputs": [],
   "source": [
    "train_rs_sim_recs = {}\n",
    "test_rs_sim_recs = {}\n",
    "\n",
    "train_rs_compl_recs = {}\n",
    "test_rs_compl_recs = {}\n",
    "\n",
    "train_rs_searchs = {}\n",
    "test_rs_searchs = {}\n",
    "for i, row in user_rec_search_df.iterrows():\n",
    "    uid = user_to_uid[row.customer_id]\n",
    "    train_rs_sim_recs[uid], test_rs_sim_recs[uid] = [], []\n",
    "    train_rs_compl_recs[uid], test_rs_compl_recs[uid] = [], []\n",
    "    train_rs_searchs[uid], test_rs_searchs[uid] = [], []\n",
    "    \n",
    "    train_idx = int(len(row.sim_records) * 0.8) \n",
    "    for sim_record in row.sim_records[:train_idx]:\n",
    "        aid, pid = ivm_to_pid[sim_record[\"anchor\"]], ivm_to_pid[sim_record[\"ivm\"]]\n",
    "        train_rs_sim_recs[uid].append((aid, pid, sim_record[\"date_time\"], sim_record[\"visit_id\"]))\n",
    "    for sim_record in row.sim_records[train_idx:]:\n",
    "        aid, pid = ivm_to_pid[sim_record[\"anchor\"]], ivm_to_pid[sim_record[\"ivm\"]]\n",
    "        test_rs_sim_recs[uid].append((aid, pid, sim_record[\"date_time\"], sim_record[\"visit_id\"]))\n",
    "    assert len(train_rs_sim_recs[uid]) + len(test_rs_sim_recs[uid]) == len(row.sim_records)\n",
    "    \n",
    "    train_idx = int(len(row.compl_records) * 0.8)\n",
    "    for compl_record in row.compl_records[:train_idx]:\n",
    "        aid, pid = ivm_to_pid[compl_record[\"anchor\"]], ivm_to_pid[compl_record[\"ivm\"]]\n",
    "        train_rs_compl_recs[uid].append((aid, pid , compl_record[\"date_time\"], compl_record[\"visit_id\"]))\n",
    "    for compl_record in row.compl_records[train_idx:]:\n",
    "        aid, pid = ivm_to_pid[compl_record[\"anchor\"]], ivm_to_pid[compl_record[\"ivm\"]]\n",
    "        test_rs_compl_recs[uid].append((aid, pid , compl_record[\"date_time\"], compl_record[\"visit_id\"]))\n",
    "    assert len(train_rs_compl_recs[uid]) + len(test_rs_compl_recs[uid]) == len(row.compl_records)\n",
    "    \n",
    "    train_idx = int(len(row.search_records) * 0.8)\n",
    "    for search_record in row.search_records[:train_idx]:\n",
    "        qid, pid = query_to_qid[search_record[\"query\"]], ivm_to_pid[search_record[\"ivm\"]]\n",
    "        train_rs_searchs[uid].append((qid, pid , search_record[\"date_time\"], search_record[\"visit_id\"]))\n",
    "    for search_record in row.search_records[train_idx:]:\n",
    "        qid, pid = query_to_qid[search_record[\"query\"]], ivm_to_pid[search_record[\"ivm\"]]\n",
    "        test_rs_searchs[uid].append((qid, pid , search_record[\"date_time\"], search_record[\"visit_id\"]))\n",
    "    assert len(train_rs_searchs[uid]) + len(test_rs_searchs[uid]) == len(row.search_records)\n",
    "    assert len(test_rs_searchs[uid]) != 0"
   ]
  },
  {
   "cell_type": "code",
   "execution_count": 32,
   "id": "405a01bf-4404-452c-980b-cafabf63106d",
   "metadata": {},
   "outputs": [],
   "source": [
    "import ujson\n",
    "\n",
    "out_dir = \"/home/jupyter/jointly_rec_and_search/datasets/unified_kgc/unified_user/\"\n",
    "fn_to_data = {\n",
    "    os.path.join(out_dir, \"train_rs_sim_recs.json\"): [{\"uid\": uid, \"records\": records} for uid, records in train_rs_sim_recs.items()],\n",
    "    os.path.join(out_dir, \"test_rs_sim_recs.json\"): [{\"uid\": uid, \"records\": records} for uid, records in test_rs_sim_recs.items()],\n",
    "    os.path.join(out_dir, \"train_rs_compl_recs.json\"): [{\"uid\": uid, \"records\": records} for uid, records in train_rs_compl_recs.items()],\n",
    "    os.path.join(out_dir, \"test_rs_compl_recs.json\"): [{\"uid\": uid, \"records\": records} for uid, records in test_rs_compl_recs.items()],\n",
    "    os.path.join(out_dir, \"train_rs_search.json\"): [{\"uid\": uid, \"records\": records} for uid, records in train_rs_searchs.items()],\n",
    "    os.path.join(out_dir, \"test_rs_search.json\"): [{\"uid\": uid, \"records\": records} for uid, records in test_rs_searchs.items()],\n",
    "}\n",
    "\n",
    "for fn, data in fn_to_data.items():\n",
    "    with open(fn, \"w\") as fout:\n",
    "        for line in data:\n",
    "            fout.write(ujson.dumps(line) + \"\\n\")"
   ]
  },
  {
   "cell_type": "code",
   "execution_count": null,
   "id": "99b7b779-6698-4689-a25d-e11fb0e616aa",
   "metadata": {},
   "outputs": [],
   "source": []
  },
  {
   "cell_type": "code",
   "execution_count": 39,
   "id": "1137cdb0-260f-40d8-ad83-a73b494c2016",
   "metadata": {},
   "outputs": [
    {
     "name": "stdout",
     "output_type": "stream",
     "text": [
      "2372 /home/jupyter/jointly_rec_and_search/datasets/unified_kgc/unified_user/test_rs_compl_recs.json\n",
      "{\"uid\":15363,\"records\":[[673946,1193439,\"2022-05-24 13:34:35\",\"8072617020603521022|4486159165018556994|106\"]]}\n",
      "{\"uid\":648292,\"records\":[[501422,1935412,\"2021-11-15 15:49:40\",\"139727403079709051|8325724882876376917|21\"]]}\n",
      "===========================================================================\n",
      "2372 /home/jupyter/jointly_rec_and_search/datasets/unified_kgc/unified_user/test_rs_search.json\n",
      "{\"uid\":15363,\"records\":[[2518538,486764,\"2022-02-04 20:22:30\",\"8072617020603521022|4486159165018556994|56\"],[2518538,300108,\"2022-02-04 20:22:30\",\"8072617020603521022|4486159165018556994|56\"],[2677709,2162757,\"2022-04-04 13:35:44\",\"8072617020603521022|4486159165018556994|85\"],[2317218,1080481,\"2022-06-05 15:16:38\",\"8072617020603521022|4486159165018556994|113\"],[2470439,1972802,\"2022-06-12 13:58:14\",\"8072617020603521022|4486159165018556994|122\"]]}\n",
      "{\"uid\":648292,\"records\":[[2524058,1281810,\"2022-01-26 15:46:57\",\"139727403079709051|8325724882876376917|55\"],[2387555,926207,\"2022-03-06 12:50:39\",\"139727403079709051|8325724882876376917|65\"],[2642380,889889,\"2022-03-07 09:06:30\",\"139727403079709051|8325724882876376917|66\"],[2298217,144947,\"2022-04-24 15:56:56\",\"139727403079709051|8325724882876376917|78\"],[2605721,746529,\"2022-04-27 14:45:37\",\"139727403079709051|8325724882876376917|83\"]]}\n",
      "===========================================================================\n",
      "2372 /home/jupyter/jointly_rec_and_search/datasets/unified_kgc/unified_user/test_rs_sim_recs.json\n",
      "{\"uid\":15363,\"records\":[[404955,1080481,\"2022-06-12 14:09:02\",\"8072617020603521022|4486159165018556994|122\"],[404955,988748,\"2022-06-12 14:10:53\",\"8072617020603521022|4486159165018556994|122\"],[404955,1080481,\"2022-06-12 14:10:53\",\"8072617020603521022|4486159165018556994|122\"],[404955,1972802,\"2022-06-12 14:10:53\",\"8072617020603521022|4486159165018556994|122\"]]}\n",
      "{\"uid\":648292,\"records\":[[1350261,903271,\"2022-04-30 15:55:23\",\"139727403079709051|8325724882876376917|84\"],[1350261,903271,\"2022-04-30 15:56:46\",\"139727403079709051|8325724882876376917|84\"]]}\n",
      "===========================================================================\n",
      "2372 /home/jupyter/jointly_rec_and_search/datasets/unified_kgc/unified_user/train_rs_compl_recs.json\n",
      "{\"uid\":15363,\"records\":[[1384032,1365111,\"2022-01-06 23:38:17\",\"8072617020603521022|4486159165018556994|36\"],[673946,139268,\"2022-05-24 13:32:09\",\"8072617020603521022|4486159165018556994|106\"],[673946,1193439,\"2022-05-24 13:32:09\",\"8072617020603521022|4486159165018556994|106\"],[673946,139268,\"2022-05-24 13:34:35\",\"8072617020603521022|4486159165018556994|106\"]]}\n",
      "{\"uid\":648292,\"records\":[[448337,1935412,\"2021-11-15 15:45:29\",\"139727403079709051|8325724882876376917|21\"],[448337,183318,\"2021-11-15 15:45:29\",\"139727403079709051|8325724882876376917|21\"],[501422,448337,\"2021-11-15 15:49:40\",\"139727403079709051|8325724882876376917|21\"],[501422,183318,\"2021-11-15 15:49:40\",\"139727403079709051|8325724882876376917|21\"]]}\n",
      "===========================================================================\n",
      "2372 /home/jupyter/jointly_rec_and_search/datasets/unified_kgc/unified_user/train_rs_sim_recs.json\n",
      "{\"uid\":15363,\"records\":[[940439,486764,\"2021-10-04 19:59:30\",\"8072617020603521022|4486159165018556994|9\"],[940439,486764,\"2021-10-04 20:01:12\",\"8072617020603521022|4486159165018556994|9\"],[300108,486764,\"2022-02-02 20:00:00\",\"8072617020603521022|4486159165018556994|52\"],[300108,486764,\"2022-02-02 20:01:57\",\"8072617020603521022|4486159165018556994|52\"],[300108,486764,\"2022-02-04 20:25:27\",\"8072617020603521022|4486159165018556994|56\"],[300108,486764,\"2022-02-04 20:32:35\",\"8072617020603521022|4486159165018556994|56\"],[300108,486764,\"2022-02-04 20:34:30\",\"8072617020603521022|4486159165018556994|56\"],[2203018,992561,\"2022-05-06 12:34:34\",\"8072617020603521022|4486159165018556994|101\"],[995559,910401,\"2022-06-12 11:59:57\",\"8072617020603521022|4486159165018556994|120\"],[995559,910401,\"2022-06-12 12:00:51\",\"8072617020603521022|4486159165018556994|120\"],[995559,910401,\"2022-06-12 12:01:34\",\"8072617020603521022|4486159165018556994|120\"],[995559,910401,\"2022-06-12 12:02:22\",\"8072617020603521022|4486159165018556994|120\"],[995559,910401,\"2022-06-12 12:03:03\",\"8072617020603521022|4486159165018556994|120\"],[995559,910401,\"2022-06-12 12:03:54\",\"8072617020603521022|4486159165018556994|120\"],[404955,988748,\"2022-06-12 14:09:02\",\"8072617020603521022|4486159165018556994|122\"],[404955,1972802,\"2022-06-12 14:09:02\",\"8072617020603521022|4486159165018556994|122\"]]}\n",
      "{\"uid\":648292,\"records\":[[1797331,2021221,\"2021-09-18 14:19:18\",\"139727403079709051|8325724882876376917|2\"],[2186350,503571,\"2022-01-26 16:04:32\",\"139727403079709051|8325724882876376917|55\"],[2186350,1791339,\"2022-01-26 16:04:32\",\"139727403079709051|8325724882876376917|55\"],[1917202,2239271,\"2022-03-24 14:25:17\",\"139727403079709051|8325724882876376917|70\"],[608902,2239271,\"2022-03-24 14:26:32\",\"139727403079709051|8325724882876376917|70\"],[903271,1350261,\"2022-04-30 15:49:23\",\"139727403079709051|8325724882876376917|84\"],[1350261,903271,\"2022-04-30 15:50:11\",\"139727403079709051|8325724882876376917|84\"],[903271,1350261,\"2022-04-30 15:51:52\",\"139727403079709051|8325724882876376917|84\"]]}\n",
      "===========================================================================\n",
      "2372 /home/jupyter/jointly_rec_and_search/datasets/unified_kgc/unified_user/train_rs_search.json\n",
      "{\"uid\":15363,\"records\":[[3033762,2155548,\"2021-08-29 12:48:11\",\"8072617020603521022|4486159165018556994|4\"],[3033762,1214276,\"2021-08-29 12:48:11\",\"8072617020603521022|4486159165018556994|4\"],[3179273,940439,\"2021-10-04 11:31:42\",\"8072617020603521022|4486159165018556994|7\"],[2428579,2162757,\"2021-10-08 19:06:08\",\"8072617020603521022|4486159165018556994|13\"],[3131356,333979,\"2021-10-12 22:41:12\",\"8072617020603521022|4486159165018556994|14\"],[3131356,1186717,\"2021-10-12 22:41:12\",\"8072617020603521022|4486159165018556994|14\"],[2572109,2093166,\"2021-11-01 03:22:42\",\"8072617020603521022|4486159165018556994|17\"],[2671049,2093166,\"2021-11-01 03:29:26\",\"8072617020603521022|4486159165018556994|17\"],[2275437,1335797,\"2021-11-01 03:31:57\",\"8072617020603521022|4486159165018556994|17\"],[2671049,2093166,\"2021-11-03 21:50:21\",\"8072617020603521022|4486159165018556994|18\"],[3166578,486764,\"2021-11-09 10:56:04\",\"8072617020603521022|4486159165018556994|20\"],[2392753,486764,\"2021-11-09 11:10:35\",\"8072617020603521022|4486159165018556994|20\"],[2392753,486764,\"2021-12-01 18:11:24\",\"8072617020603521022|4486159165018556994|29\"],[2671049,2093166,\"2022-01-06 23:20:38\",\"8072617020603521022|4486159165018556994|36\"],[3151483,1384032,\"2022-01-06 23:29:23\",\"8072617020603521022|4486159165018556994|36\"],[2803455,1926747,\"2022-01-10 14:37:52\",\"8072617020603521022|4486159165018556994|47\"],[2570175,1644637,\"2022-01-19 20:00:54\",\"8072617020603521022|4486159165018556994|49\"],[3028414,486764,\"2022-02-02 19:57:55\",\"8072617020603521022|4486159165018556994|52\"],[2518538,486764,\"2022-02-04 16:22:18\",\"8072617020603521022|4486159165018556994|55\"]]}\n",
      "{\"uid\":648292,\"records\":[[2645129,2023098,\"2021-11-11 11:36:51\",\"139727403079709051|8325724882876376917|8\"],[2645129,1097293,\"2021-11-11 11:36:51\",\"139727403079709051|8325724882876376917|8\"],[2645129,800758,\"2021-11-11 11:36:51\",\"139727403079709051|8325724882876376917|8\"],[2645129,1322555,\"2021-11-11 11:36:51\",\"139727403079709051|8325724882876376917|8\"],[2645129,1515714,\"2021-11-11 11:36:51\",\"139727403079709051|8325724882876376917|8\"],[2645129,1048230,\"2021-11-11 11:36:51\",\"139727403079709051|8325724882876376917|8\"],[2645129,1025268,\"2021-11-11 11:36:51\",\"139727403079709051|8325724882876376917|8\"],[2645129,1135572,\"2021-11-11 11:36:51\",\"139727403079709051|8325724882876376917|8\"],[2645129,1217219,\"2021-11-11 11:36:51\",\"139727403079709051|8325724882876376917|8\"],[2945314,424223,\"2021-11-11 14:02:51\",\"139727403079709051|8325724882876376917|9\"],[2945314,1284354,\"2021-11-11 14:02:51\",\"139727403079709051|8325724882876376917|9\"],[3068241,1520461,\"2021-11-12 14:58:30\",\"139727403079709051|8325724882876376917|12\"],[2581182,1067733,\"2021-11-14 16:01:56\",\"139727403079709051|8325724882876376917|16\"],[2693339,183318,\"2021-11-15 15:42:25\",\"139727403079709051|8325724882876376917|21\"],[2308936,1288678,\"2021-11-15 16:07:10\",\"139727403079709051|8325724882876376917|21\"],[2469374,505223,\"2021-11-17 18:33:29\",\"139727403079709051|8325724882876376917|25\"],[2469374,253929,\"2021-11-18 09:23:19\",\"139727403079709051|8325724882876376917|26\"],[2469374,901494,\"2021-11-18 09:23:19\",\"139727403079709051|8325724882876376917|26\"],[2777261,10309,\"2022-01-14 08:09:08\",\"139727403079709051|8325724882876376917|51\"],[2524058,903522,\"2022-01-26 15:46:57\",\"139727403079709051|8325724882876376917|55\"]]}\n",
      "===========================================================================\n"
     ]
    }
   ],
   "source": [
    "for fn in os.listdir(out_dir):\n",
    "    fn = os.path.join(out_dir, fn)\n",
    "    if not fn.endswith(\".json\"):\n",
    "        continue\n",
    "    ! wc -l $fn\n",
    "    ! head -n 2 $fn\n",
    "    print(75*\"=\")"
   ]
  },
  {
   "cell_type": "code",
   "execution_count": null,
   "id": "a42bb62b-b9c4-48ec-a43f-b4644300ef34",
   "metadata": {},
   "outputs": [],
   "source": []
  }
 ],
 "metadata": {
  "environment": {
   "kernel": "python3",
   "name": "tf2-gpu.2-9.m93",
   "type": "gcloud",
   "uri": "gcr.io/deeplearning-platform-release/tf2-gpu.2-9:m93"
  },
  "kernelspec": {
   "display_name": "Python 3",
   "language": "python",
   "name": "python3"
  },
  "language_info": {
   "codemirror_mode": {
    "name": "ipython",
    "version": 3
   },
   "file_extension": ".py",
   "mimetype": "text/x-python",
   "name": "python",
   "nbconvert_exporter": "python",
   "pygments_lexer": "ipython3",
   "version": "3.7.12"
  }
 },
 "nbformat": 4,
 "nbformat_minor": 5
}
