{
 "cells": [
  {
   "cell_type": "code",
   "execution_count": 6,
   "id": "4c5018dc-bbba-4d36-88cc-81cd6aac935e",
   "metadata": {},
   "outputs": [
    {
     "name": "stdout",
     "output_type": "stream",
     "text": [
      "83436 /home/jupyter/jointly_rec_and_search/datasets/rec_search/search_compl/anchor/1pos_1neg.similar.train.tsv\n",
      "51087 /home/jupyter/jointly_rec_and_search/datasets/rec_search/search_compl/anchor/1pos_1neg.compl.train.tsv\n",
      "209735 /home/jupyter/jointly_rec_and_search/datasets/rec_search/search_compl/1pos_1neg.train.tsv\n",
      "293171 /home/jupyter/jointly_rec_and_search/datasets/rec_search/search_compl/joint/1pos_1neg.similar.train.tsv\n",
      "260822 /home/jupyter/jointly_rec_and_search/datasets/rec_search/search_compl/joint/1pos_1neg.compl.train.tsv\n",
      "344258 /home/jupyter/jointly_rec_and_search/datasets/rec_search/search_compl/joint/1pos_1neg.similar_compl.train.tsv\n",
      "652932\t2008978\t1601348\trec\n",
      "1328613\t109949\t2226650\trec\n",
      "113436\t2015480\t1699801\tsearch\n",
      "63466\t102040\t1816581\tsearch\n",
      "211724\t513275\t104867\tsearch\n",
      "58695\t949176\t1620831\tsearch\n",
      "6198\t2259249\t570701\tsearch\n",
      "149394\t1944445\t973085\tsearch\n",
      "106107\t712039\t205041\tsearch\n",
      "220797\t260393\t2162576\tsearch\n",
      "6311\t1802231\t2129517\tsearch\n",
      "239173\t1831799\t1892517\trec\n",
      "204489\t383091\t662472\trec\n",
      "365924\t1459197\t2222983\trec\n",
      "78262\t1135306\t2033149\tsearch\n"
     ]
    }
   ],
   "source": [
    "import os \n",
    "import random\n",
    "import copy\n",
    "\n",
    "rec_path_1 = \"/home/jupyter/jointly_rec_and_search/datasets/rec_search/search_compl/anchor/1pos_1neg.similar.train.tsv\"\n",
    "rec_path_2 = \"/home/jupyter/jointly_rec_and_search/datasets/rec_search/search_compl/anchor/1pos_1neg.compl.train.tsv\"\n",
    "search_path = \"/home/jupyter/jointly_rec_and_search/datasets/rec_search/search_compl/1pos_1neg.train.tsv\"\n",
    "out_path_1 = \"/home/jupyter/jointly_rec_and_search/datasets/rec_search/search_compl/joint/1pos_1neg.similar.train.tsv\"\n",
    "out_path_2 = \"/home/jupyter/jointly_rec_and_search/datasets/rec_search/search_compl/joint/1pos_1neg.compl.train.tsv\"\n",
    "out_path_12 = \"/home/jupyter/jointly_rec_and_search/datasets/rec_search/search_compl/joint/1pos_1neg.similar_compl.train.tsv\"\n",
    "\n",
    "search_lines = []\n",
    "with open(search_path) as fin:\n",
    "    for line in fin:\n",
    "        search_lines.append(line.rstrip() + \"\\tsearch\\n\")\n",
    "\n",
    "rec_lines_1 = []\n",
    "with open(rec_path_1) as fin:\n",
    "    for line in fin:\n",
    "        rec_lines_1.append(line.rstrip() + \"\\trec\\n\")\n",
    "\n",
    "rec_lines_2 = []\n",
    "with open(rec_path_2) as fin:\n",
    "    for line in fin:\n",
    "        rec_lines_2.append(line.rstrip() + \"\\trec\\n\")\n",
    "\n",
    "rec_lines_12 = rec_lines_1 + rec_lines_2\n",
    "        \n",
    "out_lines_1 = copy.deepcopy(search_lines + rec_lines_1)\n",
    "out_lines_2 = copy.deepcopy(search_lines + rec_lines_2)\n",
    "out_lines_12 = copy.deepcopy(search_lines + rec_lines_12)\n",
    "\n",
    "random.shuffle(out_lines_1)\n",
    "random.shuffle(out_lines_2)\n",
    "random.shuffle(out_lines_12)\n",
    "\n",
    "with open(out_path_1, \"w\") as fout:\n",
    "    for line in out_lines_1:\n",
    "        fout.write(line)\n",
    "with open(out_path_2, \"w\") as fout:\n",
    "    for line in out_lines_2:\n",
    "        fout.write(line)\n",
    "with open(out_path_12, \"w\") as fout:\n",
    "    for line in out_lines_12:\n",
    "        fout.write(line)\n",
    "\n",
    "! wc -l $rec_path_1\n",
    "! wc -l $rec_path_2\n",
    "! wc -l $search_path\n",
    "! wc -l $out_path_1\n",
    "! wc -l $out_path_2\n",
    "! wc -l $out_path_12\n",
    "! head -n 5 $out_path_1\n",
    "! head -n 5 $out_path_2\n",
    "! head -n 5 $out_path_12"
   ]
  },
  {
   "cell_type": "code",
   "execution_count": 1,
   "id": "82cc5edf-5631-4f0f-b516-e6e1465e56c7",
   "metadata": {},
   "outputs": [],
   "source": [
    "! mkdir /home/jupyter/jointly_rec_and_search/datasets/rec_search/search_compl/joint/"
   ]
  },
  {
   "cell_type": "code",
   "execution_count": 8,
   "id": "d7e0ae11-7c8f-46ff-aeaf-803176e818d2",
   "metadata": {},
   "outputs": [
    {
     "name": "stdout",
     "output_type": "stream",
     "text": [
      "1pos_1neg.similar.train.tsv\n"
     ]
    }
   ],
   "source": [
    "! ls \"/home/jupyter/jointly_rec_and_search/datasets/rec_search/search_compl/joint\""
   ]
  },
  {
   "cell_type": "code",
   "execution_count": 7,
   "id": "00273474-f3f7-4a6d-822c-5f9306da81c6",
   "metadata": {},
   "outputs": [
    {
     "data": {
      "text/plain": [
       "(293171, 260822, 344258)"
      ]
     },
     "execution_count": 7,
     "metadata": {},
     "output_type": "execute_result"
    }
   ],
   "source": [
    "(83436 + 209735, 51087 + 209735 , 83436 + 51087 + 209735)"
   ]
  },
  {
   "cell_type": "code",
   "execution_count": 13,
   "id": "7d8c2910-bf09-4039-b4dd-2043ed2cc9f0",
   "metadata": {},
   "outputs": [
    {
     "name": "stdout",
     "output_type": "stream",
     "text": [
      "6311\t1802231\t2129517\tsearch\n",
      "239173\t1831799\t1892517\trec\n",
      "204489\t383091\t662472\trec\n",
      "365924\t1459197\t2222983\trec\n",
      "78262\t1135306\t2033149\tsearch\n",
      "1813794\t74767\t284654\trec\n",
      "17505\t1680098\t1413032\tsearch\n",
      "2149538\t1037490\t614331\trec\n",
      "173603\t1892145\t1643859\tsearch\n",
      "771643\t292043\t102800\trec\n",
      "114956\t456673\t1524012\tsearch\n",
      "20511\t1438206\t183455\tsearch\n",
      "11807\t2260531\t1863331\tsearch\n",
      "9739\t175372\t1022009\tsearch\n",
      "210789\t1356524\t755993\tsearch\n",
      "148375\t2133518\t744457\tsearch\n",
      "161539\t915181\t218438\tsearch\n",
      "202485\t112377\t1799705\tsearch\n",
      "145711\t689985\t2115089\tsearch\n",
      "100375\t1054019\t1268174\tsearch\n",
      "93090\t807593\t482881\tsearch\n",
      "1741574\t139402\t1156672\trec\n",
      "240054\t1838253\t329043\trec\n",
      "28010\t2210986\t446622\tsearch\n",
      "87601\t2214536\t1718889\trec\n",
      "857166\t1622593\t993784\trec\n",
      "792841\t1822406\t1694949\trec\n",
      "760047\t540933\t1449580\trec\n",
      "36758\t1437459\t1996869\tsearch\n",
      "1383347\t1892584\t1508766\trec\n",
      "77824\t511042\t905855\tsearch\n",
      "52009\t304426\t1337494\tsearch\n",
      "882098\t1760566\t1216789\trec\n",
      "178699\t759849\t551440\trec\n",
      "1471508\t569320\t1859876\trec\n",
      "211541\t259045\t605503\tsearch\n",
      "135805\t639173\t1724106\tsearch\n",
      "211296\t206035\t1974488\tsearch\n",
      "156624\t481631\t493076\tsearch\n",
      "1389723\t2174732\t1833826\trec\n",
      "109235\t249760\t386265\tsearch\n",
      "109180\t366646\t1081123\trec\n",
      "1931926\t1728448\t79507\trec\n",
      "1297888\t1255547\t1686813\trec\n",
      "190086\t1315550\t1146146\tsearch\n",
      "139296\t1495571\t1991221\tsearch\n",
      "196425\t552205\t285084\tsearch\n",
      "155032\t1259506\t2032191\trec\n",
      "215051\t813358\t1991209\tsearch\n",
      "121015\t387458\t2006635\tsearch\n",
      "131553\t1393130\t1029614\tsearch\n",
      "216663\t1183338\t401868\tsearch\n",
      "101748\t636109\t1868123\tsearch\n",
      "70612\t717643\t1067427\tsearch\n",
      "58341\t262179\t310658\tsearch\n",
      "679201\t968888\t1500247\trec\n",
      "205208\t1548471\t1093528\tsearch\n",
      "117588\t1943839\t1249504\tsearch\n",
      "124648\t44655\t597070\tsearch\n",
      "9177\t736362\t1171006\tsearch\n",
      "23636\t642571\t897728\tsearch\n",
      "2124903\t952295\t2080138\trec\n",
      "1782428\t752754\t2116528\trec\n",
      "217610\t1884891\t257195\trec\n",
      "1893122\t2073464\t1738806\trec\n",
      "132338\t409313\t1700728\tsearch\n",
      "71608\t594574\t918891\trec\n",
      "148976\t489191\t910481\tsearch\n",
      "219538\t1754125\t323328\tsearch\n",
      "98748\t371197\t1019745\tsearch\n",
      "142741\t672996\t445614\tsearch\n",
      "28835\t901682\t351364\tsearch\n",
      "162268\t484137\t941407\trec\n",
      "471483\t46225\t1664911\trec\n",
      "59137\t1135466\t1372762\tsearch\n",
      "220138\t492326\t839600\tsearch\n",
      "125081\t2179085\t1212134\tsearch\n",
      "1374948\t1098446\t395305\trec\n",
      "1410882\t1289223\t1963189\trec\n",
      "435814\t1405755\t967819\trec\n",
      "1943499\t264757\t642283\trec\n",
      "91932\t610178\t1912627\tsearch\n",
      "29739\t1819112\t1686155\tsearch\n",
      "218918\t2095793\t850320\tsearch\n",
      "141299\t1238647\t830299\tsearch\n",
      "127047\t568398\t2122401\tsearch\n",
      "18810\t1389262\t123368\tsearch\n",
      "1243763\t172700\t95769\trec\n",
      "125077\t417742\t2228400\tsearch\n",
      "2092629\t2127589\t451177\trec\n",
      "1896236\t1052182\t180807\trec\n",
      "40480\t510414\t383200\tsearch\n",
      "23951\t381114\t2229817\tsearch\n",
      "960847\t627906\t1125961\trec\n",
      "121539\t721075\t390643\tsearch\n",
      "187025\t1256734\t1200811\tsearch\n",
      "42500\t1473507\t2155811\tsearch\n",
      "2233870\t1286739\t314627\trec\n",
      "120805\t445052\t433372\tsearch\n",
      "113249\t1323526\t1688944\tsearch\n"
     ]
    }
   ],
   "source": [
    "! head -n 100 /home/jupyter/jointly_rec_and_search/datasets/rec_search/search_compl/joint/1pos_1neg.similar_compl.train.tsv"
   ]
  },
  {
   "cell_type": "code",
   "execution_count": null,
   "id": "b5af388d-1efd-4439-b2fc-66426d75dbfc",
   "metadata": {},
   "outputs": [],
   "source": []
  }
 ],
 "metadata": {
  "environment": {
   "kernel": "python3",
   "name": "tf2-gpu.2-9.m93",
   "type": "gcloud",
   "uri": "gcr.io/deeplearning-platform-release/tf2-gpu.2-9:m93"
  },
  "kernelspec": {
   "display_name": "Python 3",
   "language": "python",
   "name": "python3"
  },
  "language_info": {
   "codemirror_mode": {
    "name": "ipython",
    "version": 3
   },
   "file_extension": ".py",
   "mimetype": "text/x-python",
   "name": "python",
   "nbconvert_exporter": "python",
   "pygments_lexer": "ipython3",
   "version": "3.7.12"
  }
 },
 "nbformat": 4,
 "nbformat_minor": 5
}
