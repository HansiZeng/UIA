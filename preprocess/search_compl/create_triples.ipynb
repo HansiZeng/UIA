{
 "cells": [
  {
   "cell_type": "code",
   "execution_count": 1,
   "id": "041daf2e-4fc9-4710-a0ac-61145c96afaa",
   "metadata": {},
   "outputs": [],
   "source": [
    "import os \n",
    "import random\n",
    "\n",
    "import numpy as np\n",
    "import pandas as pd \n",
    "import ujson\n",
    "from tqdm import tqdm"
   ]
  },
  {
   "cell_type": "code",
   "execution_count": 2,
   "id": "9209b52b-c365-4466-b55b-d29a855726aa",
   "metadata": {},
   "outputs": [
    {
     "name": "stderr",
     "output_type": "stream",
     "text": [
      "100%|██████████| 221933/221933 [01:10<00:00, 3168.09it/s]\n",
      "100%|██████████| 211683/211683 [01:26<00:00, 2445.80it/s]\n"
     ]
    },
    {
     "name": "stdout",
     "output_type": "stream",
     "text": [
      "number of train_examples = 209735\n"
     ]
    }
   ],
   "source": [
    "run_path = \"/home/jupyter/jointly_rec_and_search/datasets/rec_search/search_compl/runs/bm25.train.run\" \n",
    "qrels_path = \"/home/jupyter/jointly_rec_and_search/datasets/rec_search/search_compl/qrels.train.tsv\" \n",
    "out_path = \"/home/jupyter/jointly_rec_and_search/datasets/rec_search/search_compl/1pos_1neg.train.tsv\"\n",
    "\n",
    "#neg_num = 1\n",
    "#topk = 1000\n",
    "qid_to_relpid = {}\n",
    "rel_df = pd.read_csv(qrels_path, sep=\"\\t\", names=[\"qid\", \"q0\", \"pid\", \"score\"])\n",
    "for qid, group in tqdm(rel_df.groupby(\"qid\")):\n",
    "    relpid = group.sample(1).iloc[0][\"pid\"]\n",
    "    qid_to_relpid[qid] = relpid\n",
    "\n",
    "train_examples = []\n",
    "df = pd.read_csv(run_path, sep=\" \", names=[\"qid\", \"q0\", \"pid\", \"rank\", \"score\", \"model_name\"])\n",
    "for qid, group in tqdm(df.groupby(\"qid\")):\n",
    "    if len(group) <= 10:\n",
    "        continue \n",
    "    relpid = qid_to_relpid[qid]\n",
    "    negpid = group.sample(1).iloc[0][\"pid\"]\n",
    "    train_examples.append((qid, relpid, negpid))\n",
    "\n",
    "print(\"number of train_examples = {}\".format(len(train_examples)))\n",
    "\n",
    "with open(out_path, \"w\") as fout:\n",
    "    for exp in train_examples:\n",
    "        qid, relpid, negpid = exp \n",
    "        fout.write(f\"{qid}\\t{relpid}\\t{negpid}\\n\")\n",
    "    "
   ]
  },
  {
   "cell_type": "code",
   "execution_count": 3,
   "id": "7f1944fa-06b4-4eb1-93a6-fc47737fcf61",
   "metadata": {},
   "outputs": [
    {
     "name": "stdout",
     "output_type": "stream",
     "text": [
      "870971 /home/jupyter/jointly_rec_and_search/datasets/rec_search/search_compl/qrels.train.tsv\n",
      "131396\tQ0\t1576107\t1\n",
      "64277\tQ0\t1829347\t1\n",
      "111849\tQ0\t105047\t1\n",
      "7363\tQ0\t1967094\t1\n",
      "59526\tQ0\t17812\t1\n",
      "==================================================\n",
      "209735 /home/jupyter/jointly_rec_and_search/datasets/rec_search/search_compl/1pos_1neg.train.tsv\n",
      "2\t89391\t1159016\n",
      "3\t1559961\t1105814\n",
      "4\t1349876\t892087\n",
      "5\t1183576\t1130418\n",
      "6\t1656568\t1943934\n"
     ]
    }
   ],
   "source": [
    "! wc -l $qrels_path\n",
    "! head -n 5 $qrels_path\n",
    "print(50*\"=\")\n",
    "! wc -l $out_path\n",
    "! head -n 5 $out_path"
   ]
  },
  {
   "cell_type": "code",
   "execution_count": 5,
   "id": "805a036a-59b4-44cf-9f91-08b9985e2d08",
   "metadata": {},
   "outputs": [
    {
     "name": "stdout",
     "output_type": "stream",
     "text": [
      "number of train_examples = 83436\n"
     ]
    }
   ],
   "source": [
    "run_path = \"/home/jupyter/jointly_rec_and_search/datasets/rec_search/search_compl/runs/bm25.similar.train.run\" \n",
    "arels_path = \"/home/jupyter/jointly_rec_and_search/datasets/rec_search/search_compl/arels.similar.train.tsv\" \n",
    "out_path = \"/home/jupyter/jointly_rec_and_search/datasets/rec_search/search_compl/anchor/1pos_1neg.similar.train.tsv\"\n",
    "\n",
    "#neg_num = 1\n",
    "#topk = 1000\n",
    "aid_to_relpid = {}\n",
    "rel_df = pd.read_csv(arels_path, sep=\"\\t\", names=[\"aid\", \"q0\", \"pid\", \"score\"])\n",
    "for aid, group in rel_df.groupby(\"aid\"):\n",
    "    relpid = group.sample(1).iloc[0][\"pid\"]\n",
    "    aid_to_relpid[aid] = relpid\n",
    "\n",
    "train_examples = []\n",
    "df = pd.read_csv(run_path, sep=\" \", names=[\"aid\", \"q0\", \"pid\", \"rank\", \"score\", \"model_name\"])\n",
    "for aid, group in df.groupby(\"aid\"):\n",
    "    if len(group) <= 10:\n",
    "        continue \n",
    "    relpid = aid_to_relpid[aid]\n",
    "    negpid = group.sample(1).iloc[0][\"pid\"]\n",
    "    train_examples.append((aid, relpid, negpid))\n",
    "\n",
    "print(\"number of train_examples = {}\".format(len(train_examples)))\n",
    "\n",
    "with open(out_path, \"w\") as fout:\n",
    "    for exp in train_examples:\n",
    "        aid, relpid, negpid = exp \n",
    "        fout.write(f\"{aid}\\t{relpid}\\t{negpid}\\n\")"
   ]
  },
  {
   "cell_type": "code",
   "execution_count": 6,
   "id": "41b1dc54-29ca-46c3-a0d6-a1a23ce22daf",
   "metadata": {},
   "outputs": [
    {
     "name": "stdout",
     "output_type": "stream",
     "text": [
      "387699 /home/jupyter/jointly_rec_and_search/datasets/rec_search/search_compl/arels.similar.train.tsv\n",
      "234090\tQ0\t1090451\t1\n",
      "81625\tQ0\t1090451\t1\n",
      "1067107\tQ0\t2111848\t1\n",
      "1067107\tQ0\t1750446\t1\n",
      "1067107\tQ0\t1506097\t1\n",
      "==================================================\n",
      "83436 /home/jupyter/jointly_rec_and_search/datasets/rec_search/search_compl/anchor/1pos_1neg.similar.train.tsv\n",
      "7\t1063161\t366050\n",
      "16\t591266\t184475\n",
      "31\t304430\t354348\n",
      "55\t2168912\t859757\n",
      "59\t1718470\t228062\n"
     ]
    }
   ],
   "source": [
    "! wc -l $arels_path\n",
    "! head -n 5 $arels_path\n",
    "print(50*\"=\")\n",
    "! wc -l $out_path\n",
    "! head -n 5 $out_path"
   ]
  },
  {
   "cell_type": "code",
   "execution_count": 7,
   "id": "37b2858d-d6da-4d40-8d91-8ae7884db8b3",
   "metadata": {},
   "outputs": [
    {
     "name": "stdout",
     "output_type": "stream",
     "text": [
      "number of train_examples = 51087\n"
     ]
    }
   ],
   "source": [
    "run_path = \"/home/jupyter/jointly_rec_and_search/datasets/rec_search/search_compl/runs/bm25.compl.train.run\" \n",
    "arels_path = \"/home/jupyter/jointly_rec_and_search/datasets/rec_search/search_compl/arels.compl.train.tsv\" \n",
    "out_path = \"/home/jupyter/jointly_rec_and_search/datasets/rec_search/search_compl/anchor/1pos_1neg.compl.train.tsv\"\n",
    "\n",
    "#neg_num = 1\n",
    "#topk = 1000\n",
    "aid_to_relpid = {}\n",
    "rel_df = pd.read_csv(arels_path, sep=\"\\t\", names=[\"aid\", \"q0\", \"pid\", \"score\"])\n",
    "for aid, group in rel_df.groupby(\"aid\"):\n",
    "    relpid = group.sample(1).iloc[0][\"pid\"]\n",
    "    aid_to_relpid[aid] = relpid\n",
    "\n",
    "train_examples = []\n",
    "df = pd.read_csv(run_path, sep=\" \", names=[\"aid\", \"q0\", \"pid\", \"rank\", \"score\", \"model_name\"])\n",
    "for aid, group in df.groupby(\"aid\"):\n",
    "    if len(group) <= 10:\n",
    "        continue \n",
    "    relpid = aid_to_relpid[aid]\n",
    "    negpid = group.sample(1).iloc[0][\"pid\"]\n",
    "    train_examples.append((aid, relpid, negpid))\n",
    "\n",
    "print(\"number of train_examples = {}\".format(len(train_examples)))\n",
    "\n",
    "with open(out_path, \"w\") as fout:\n",
    "    for exp in train_examples:\n",
    "        aid, relpid, negpid = exp \n",
    "        fout.write(f\"{aid}\\t{relpid}\\t{negpid}\\n\")"
   ]
  },
  {
   "cell_type": "code",
   "execution_count": 8,
   "id": "d819af7f-8e19-4b09-8ed3-885afae27b0a",
   "metadata": {},
   "outputs": [
    {
     "name": "stdout",
     "output_type": "stream",
     "text": [
      "219089 /home/jupyter/jointly_rec_and_search/datasets/rec_search/search_compl/arels.compl.train.tsv\n",
      "863333\tQ0\t2022129\t1\n",
      "863333\tQ0\t1465990\t1\n",
      "1297387\tQ0\t126657\t1\n",
      "1297387\tQ0\t996353\t1\n",
      "1297387\tQ0\t1962147\t1\n",
      "==================================================\n",
      "51087 /home/jupyter/jointly_rec_and_search/datasets/rec_search/search_compl/anchor/1pos_1neg.compl.train.tsv\n",
      "31\t837218\t1696739\n",
      "47\t24663\t149633\n",
      "59\t1963043\t192941\n",
      "85\t1822078\t1046109\n",
      "140\t2164853\t1773938\n"
     ]
    }
   ],
   "source": [
    "! wc -l $arels_path\n",
    "! head -n 5 $arels_path\n",
    "print(50*\"=\")\n",
    "! wc -l $out_path\n",
    "! head -n 5 $out_path"
   ]
  },
  {
   "cell_type": "code",
   "execution_count": null,
   "id": "e19aed65-9bd6-4686-9f59-ab2911c371e4",
   "metadata": {},
   "outputs": [],
   "source": []
  }
 ],
 "metadata": {
  "environment": {
   "kernel": "python3",
   "name": "tf2-gpu.2-9.m93",
   "type": "gcloud",
   "uri": "gcr.io/deeplearning-platform-release/tf2-gpu.2-9:m93"
  },
  "kernelspec": {
   "display_name": "Python 3",
   "language": "python",
   "name": "python3"
  },
  "language_info": {
   "codemirror_mode": {
    "name": "ipython",
    "version": 3
   },
   "file_extension": ".py",
   "mimetype": "text/x-python",
   "name": "python",
   "nbconvert_exporter": "python",
   "pygments_lexer": "ipython3",
   "version": "3.7.12"
  }
 },
 "nbformat": 4,
 "nbformat_minor": 5
}
