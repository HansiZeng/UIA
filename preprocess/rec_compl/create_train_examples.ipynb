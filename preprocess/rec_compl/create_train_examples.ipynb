{
 "cells": [
  {
   "cell_type": "code",
   "execution_count": 10,
   "id": "86b74543-6601-42c3-9734-b710e3725f5b",
   "metadata": {},
   "outputs": [
    {
     "name": "stdout",
     "output_type": "stream",
     "text": [
      "no_enough_simpids for top-2:  21159\n",
      "no_enough_simpids for top-5:  46699\n"
     ]
    }
   ],
   "source": [
    "import os \n",
    "import random\n",
    "\n",
    "import ujson \n",
    "import numpy as np\n",
    "import copy\n",
    "\n",
    "np.random.seed(4680)\n",
    "MAX_PIDS = 2_000_000\n",
    "\n",
    "out_dir = \"/home/jupyter/jointly_rec_and_search/datasets/rec_search/rec_compl/train/\"\n",
    "in_dir = \"/home/jupyter/jointly_rec_and_search/datasets/rec_search/rec_compl/\"\n",
    "if not os.path.exists(out_dir):\n",
    "    os.mkdir(out_dir)\n",
    "\n",
    "one_hop_examples = []\n",
    "with open(os.path.join(in_dir, \"one_hop_examples.jsonl\")) as fin:\n",
    "    for line in fin:\n",
    "        example = ujson.loads(line.rstrip())\n",
    "        one_hop_examples.append(example)\n",
    "\n",
    "no_enough_simpids = 0\n",
    "for topk in [2,5]:\n",
    "    train_examples = []\n",
    "    for example in one_hop_examples:\n",
    "        train_exp = {\"compl_pids\": [], \"sim_pids\": []}\n",
    "        assert len(example) == 2, example\n",
    "        for key, vals in example.items():\n",
    "            if key == \"compl_pids\":\n",
    "                compl_pids = [int(pid) for pid in vals.keys()]\n",
    "                train_exp[\"compl_pids\"] = compl_pids\n",
    "                random.shuffle(compl_pids)\n",
    "                train_exp[\"compl_pids\"] = compl_pids[:topk]\n",
    "        for key, vals in example.items():\n",
    "            if key != \"compl_pids\":\n",
    "                train_exp[\"aid\"] = int(key)\n",
    "                sim_pids = [int(pid) for pid in example[key][\"sim_pids\"]]\n",
    "                random.shuffle(sim_pids)\n",
    "                train_exp[\"sim_pids\"] = sim_pids[:len(train_exp[\"compl_pids\"])]\n",
    "                \n",
    "                if len(sim_pids) < len(train_exp[\"compl_pids\"]):\n",
    "                    no_enough_simpids += 1\n",
    "        train_examples.append(train_exp)\n",
    "        \n",
    "    with open(os.path.join(out_dir, f\"train_{topk}compl_{topk}sim.json\"), \"w\") as fout:\n",
    "        for train_exp in train_examples:\n",
    "                fout.write(ujson.dumps(train_exp) + \"\\n\")\n",
    "    with open(os.path.join(out_dir, f\"top{topk}_triples.tsv\"), \"w\") as fout:\n",
    "        for train_exp in train_examples:\n",
    "            aid = train_exp[\"aid\"]\n",
    "            pos_neg_pairs = zip(train_exp[\"compl_pids\"], train_exp[\"sim_pids\"])\n",
    "            for pos_pid, neg_pid in pos_neg_pairs:\n",
    "                fout.write(f\"{aid}\\t{pos_pid}\\t{neg_pid}\\n\")\n",
    "                \n",
    "    print(f\"no_enough_simpids for top-{topk}: \", no_enough_simpids)\n",
    "            \n",
    "    "
   ]
  },
  {
   "cell_type": "code",
   "execution_count": 5,
   "id": "b334b3d6-584d-4ea0-97f2-29e4ac78d543",
   "metadata": {},
   "outputs": [
    {
     "name": "stdout",
     "output_type": "stream",
     "text": [
      "86870 /home/jupyter/jointly_rec_and_search/datasets/rec_search/rec_compl/train/train_5compl_5sim.json\n",
      "{\"compl_pids\":[996049],\"sim_pids\":[],\"aid\":1533887}\n",
      "{\"compl_pids\":[1742890,138280,137963,1737192,2220361],\"sim_pids\":[203190,700862,1665306,1679435,1329645],\"aid\":1890880}\n",
      "{\"compl_pids\":[2218053,1361171],\"sim_pids\":[],\"aid\":1747057}\n",
      "{\"compl_pids\":[2066839],\"sim_pids\":[],\"aid\":319334}\n",
      "{\"compl_pids\":[658077,1691210,551638,1649508,1405724],\"sim_pids\":[684267,2193403,454906,263070,2189016],\"aid\":1083335}\n",
      "{\"compl_pids\":[398038,240925,90666,2204991,1099519],\"sim_pids\":[1083335,820391,454906,684466,163550],\"aid\":2193403}\n",
      "====================================================================================================\n",
      "86870 /home/jupyter/jointly_rec_and_search/datasets/rec_search/rec_compl/train/train_2compl_2sim.json\n",
      "{\"compl_pids\":[996049],\"sim_pids\":[],\"aid\":1533887}\n",
      "{\"compl_pids\":[137963,2220361],\"sim_pids\":[700862,1665306],\"aid\":1890880}\n",
      "{\"compl_pids\":[1361171,2218053],\"sim_pids\":[],\"aid\":1747057}\n",
      "{\"compl_pids\":[2066839],\"sim_pids\":[],\"aid\":319334}\n",
      "{\"compl_pids\":[1405724,1879519],\"sim_pids\":[263070,2189016],\"aid\":1083335}\n",
      "{\"compl_pids\":[287515,90666],\"sim_pids\":[1818879,820391],\"aid\":2193403}\n",
      "====================================================================================================\n",
      "110878 /home/jupyter/jointly_rec_and_search/datasets/rec_search/rec_compl/train/top2_triples.tsv\n",
      "1890880\t137963\t700862\n",
      "1890880\t2220361\t1665306\n",
      "870098\t547311\t1849979\n",
      "1083335\t1879519\t2189016\n",
      "2193403\t287515\t1818879\n",
      "2193403\t90666\t820391\n",
      "====================================================================================================\n",
      "182204 /home/jupyter/jointly_rec_and_search/datasets/rec_search/rec_compl/train/top5_triples.tsv\n",
      "1890880\t1742890\t203190\n",
      "1890880\t138280\t700862\n",
      "1890880\t137963\t1665306\n",
      "2193403\t90666\t454906\n",
      "2193403\t2204991\t684466\n",
      "2193403\t1099519\t163550\n",
      "====================================================================================================\n"
     ]
    }
   ],
   "source": [
    "# sanity check\n",
    "for path in os.listdir(out_dir):\n",
    "    path = os.path.join(out_dir, path)\n",
    "    ! wc -l $path\n",
    "    ! head -n 3 $path\n",
    "    ! tail -n 3 $path\n",
    "    print(\"=\"*100)"
   ]
  },
  {
   "cell_type": "code",
   "execution_count": 11,
   "id": "162d6d47-ebbb-40f3-a334-27dbd593a80a",
   "metadata": {},
   "outputs": [
    {
     "name": "stdout",
     "output_type": "stream",
     "text": [
      "1533887\tSIMPSON 72-in x 80-in Wood Full Lite Right-Hand Inswing Brown Unfinished Double Front Door Solid Core\n"
     ]
    }
   ],
   "source": [
    "! grep -P \"^1533887\\t\" \"/home/jupyter/jointly_rec_and_search/datasets/rec_search/rec_compl/collection_title.tsv\""
   ]
  },
  {
   "cell_type": "code",
   "execution_count": null,
   "id": "6659da20-52ce-4cbe-97ee-6342bd1f37fa",
   "metadata": {},
   "outputs": [],
   "source": [
    "path = \"/home/jupyter/jointly_rec_and_search/preprocess/rec_compl/dataset//\""
   ]
  }
 ],
 "metadata": {
  "environment": {
   "kernel": "python3",
   "name": "tf2-gpu.2-9.m93",
   "type": "gcloud",
   "uri": "gcr.io/deeplearning-platform-release/tf2-gpu.2-9:m93"
  },
  "kernelspec": {
   "display_name": "Python 3",
   "language": "python",
   "name": "python3"
  },
  "language_info": {
   "codemirror_mode": {
    "name": "ipython",
    "version": 3
   },
   "file_extension": ".py",
   "mimetype": "text/x-python",
   "name": "python",
   "nbconvert_exporter": "python",
   "pygments_lexer": "ipython3",
   "version": "3.7.12"
  }
 },
 "nbformat": 4,
 "nbformat_minor": 5
}
