{
 "cells": [
  {
   "cell_type": "code",
   "execution_count": 19,
   "id": "86b74543-6601-42c3-9734-b710e3725f5b",
   "metadata": {},
   "outputs": [
    {
     "name": "stderr",
     "output_type": "stream",
     "text": [
      "100%|██████████| 69496/69496 [00:10<00:00, 6684.77it/s] \n"
     ]
    },
    {
     "name": "stdout",
     "output_type": "stream",
     "text": [
      "no_enough_simpids for top-1:  14304\n"
     ]
    },
    {
     "name": "stderr",
     "output_type": "stream",
     "text": [
      "100%|██████████| 69496/69496 [00:10<00:00, 6916.90it/s] \n"
     ]
    },
    {
     "name": "stdout",
     "output_type": "stream",
     "text": [
      "no_enough_simpids for top-2:  31276\n"
     ]
    },
    {
     "name": "stderr",
     "output_type": "stream",
     "text": [
      "100%|██████████| 69496/69496 [00:13<00:00, 5020.00it/s]\n"
     ]
    },
    {
     "name": "stdout",
     "output_type": "stream",
     "text": [
      "no_enough_simpids for top-5:  51773\n"
     ]
    }
   ],
   "source": [
    "import os \n",
    "import random\n",
    "\n",
    "import ujson \n",
    "import numpy as np\n",
    "import copy\n",
    "import pandas as pd\n",
    "from tqdm import tqdm\n",
    "\n",
    "np.random.seed(4680)\n",
    "random.seed(4680)\n",
    "MAX_PIDS = 2_000_000\n",
    "\n",
    "out_dir = \"/home/jupyter/jointly_rec_and_search/datasets/rec_search/rec_compl/train/\"\n",
    "in_dir = \"/home/jupyter/jointly_rec_and_search/datasets/rec_search/rec_compl/\"\n",
    "run_path = \"/home/jupyter/jointly_rec_and_search/datasets/rec_search/rec_compl/runs/bm25.train.run\"\n",
    "\n",
    "if not os.path.exists(out_dir):\n",
    "    os.mkdir(out_dir)\n",
    "    \n",
    "df = pd.read_csv(run_path, sep=\" \", names=[\"aid\", \"q0\", \"pid\", \"rank\", \"score\", \"model_name\"])\n",
    "bm25_aid_to_pids = {}\n",
    "ignore_aids = set()\n",
    "for aid, group in df.groupby(\"aid\"):\n",
    "    cand_pids = list(group.pid.values)\n",
    "    if len(cand_pids) < 10:\n",
    "        ignore_aids.add(int(aid))\n",
    "    else:\n",
    "        bm25_aid_to_pids[int(aid)] = [int(x) for x in cand_pids]\n",
    "        \n",
    "assert len(ignore_aids) == 0\n",
    "\n",
    "train_aids = set()\n",
    "with open(os.path.join(in_dir, \"anchors_title.train.tsv\")) as fin:\n",
    "    for line in fin:\n",
    "        aid, title = line.rstrip().split(\"\\t\")\n",
    "        train_aids.add(int(aid))\n",
    "\n",
    "one_hop_examples = []\n",
    "with open(os.path.join(in_dir, \"one_hop_examples.jsonl\")) as fin:\n",
    "    for line in fin:\n",
    "        example = ujson.loads(line.rstrip())\n",
    "        for key in example:\n",
    "            assert len(example) == 2\n",
    "            if key != \"compl_pids\":\n",
    "                aid = int(key)\n",
    "                \n",
    "        if aid in train_aids:\n",
    "            one_hop_examples.append(example)\n",
    "\n",
    "ignore_num = 0\n",
    "no_enough_simpids = 0\n",
    "for topk in [1, 2, 5]:\n",
    "    train_examples = []\n",
    "    for example in tqdm(one_hop_examples, total=len(one_hop_examples)):\n",
    "        train_exp = {\"compl_pids\": [], \"sim_pids\": []}\n",
    "        assert len(example) == 2, example\n",
    "        for key, vals in example.items():\n",
    "            if key == \"compl_pids\":\n",
    "                compl_pids = [int(pid) for pid in vals.keys()]\n",
    "                train_exp[\"compl_pids\"] = compl_pids\n",
    "                random.shuffle(compl_pids)\n",
    "                train_exp[\"compl_pids\"] = compl_pids[:topk]\n",
    "        for key, vals in example.items():\n",
    "            if key != \"compl_pids\":\n",
    "                train_exp[\"aid\"] = int(key)\n",
    "                sim_pids = [int(pid) for pid in example[key][\"sim_pids\"]]\n",
    "                random.shuffle(sim_pids)\n",
    "                train_exp[\"sim_pids\"] = sim_pids[:len(train_exp[\"compl_pids\"])]\n",
    "                \n",
    "                if len(train_exp[\"sim_pids\"]) < len(train_exp[\"compl_pids\"]):\n",
    "                    no_enough_simpids += 1\n",
    "                    cand_pids = bm25_aid_to_pids[train_exp[\"aid\"]]\n",
    "                    random.shuffle(cand_pids)\n",
    "                    \n",
    "                    remain_pids = []      \n",
    "                    for pid in cand_pids:\n",
    "                        if pid in compl_pids:\n",
    "                            continue\n",
    "                        remain_pids.append(pid)\n",
    "                        if len(remain_pids) >= len(train_exp[\"compl_pids\"]) - len(train_exp[\"sim_pids\"]):\n",
    "                            break\n",
    "                    train_exp[\"sim_pids\"] += remain_pids\n",
    "                        \n",
    "                    \n",
    "        train_examples.append(train_exp)\n",
    "        \n",
    "    with open(os.path.join(out_dir, f\"train_{topk}compl_{topk}sim.json\"), \"w\") as fout:\n",
    "        for train_exp in train_examples:\n",
    "                fout.write(ujson.dumps(train_exp) + \"\\n\")\n",
    "    with open(os.path.join(out_dir, f\"top{topk}_triples.tsv\"), \"w\") as fout:\n",
    "        for train_exp in train_examples:\n",
    "            aid = train_exp[\"aid\"]\n",
    "            pos_neg_pairs = zip(train_exp[\"compl_pids\"], train_exp[\"sim_pids\"])\n",
    "            for pos_pid, neg_pid in pos_neg_pairs:\n",
    "                fout.write(f\"{aid}\\t{pos_pid}\\t{neg_pid}\\n\")\n",
    "                \n",
    "    print(f\"no_enough_simpids for top-{topk}: \", no_enough_simpids)\n",
    "            \n",
    "    "
   ]
  },
  {
   "cell_type": "code",
   "execution_count": 20,
   "id": "b334b3d6-584d-4ea0-97f2-29e4ac78d543",
   "metadata": {},
   "outputs": [
    {
     "name": "stdout",
     "output_type": "stream",
     "text": [
      "69496 /home/jupyter/jointly_rec_and_search/datasets/rec_search/rec_compl/train/train_5compl_5sim.json\n",
      "{\"compl_pids\":[2186809],\"sim_pids\":[1296125],\"aid\":501931}\n",
      "{\"compl_pids\":[1960065,774261],\"sim_pids\":[500345,2128382],\"aid\":220006}\n",
      "{\"compl_pids\":[855403,1654671,565304,1939891,1185215],\"sim_pids\":[1952428,70274,393439,414956,351113],\"aid\":1970525}\n",
      "{\"compl_pids\":[273456],\"sim_pids\":[672057],\"aid\":1822620}\n",
      "{\"compl_pids\":[533708,1043030],\"sim_pids\":[485389,1381526],\"aid\":132127}\n",
      "{\"compl_pids\":[1870322],\"sim_pids\":[1889462],\"aid\":385303}\n",
      "====================================================================================================\n",
      "69496 /home/jupyter/jointly_rec_and_search/datasets/rec_search/rec_compl/train/train_2compl_2sim.json\n",
      "{\"compl_pids\":[2186809],\"sim_pids\":[1890315],\"aid\":501931}\n",
      "{\"compl_pids\":[774261,1960065],\"sim_pids\":[1702313,563604],\"aid\":220006}\n",
      "{\"compl_pids\":[2257172,586807],\"sim_pids\":[393439,1952428],\"aid\":1970525}\n",
      "{\"compl_pids\":[273456],\"sim_pids\":[971697],\"aid\":1822620}\n",
      "{\"compl_pids\":[533708,1043030],\"sim_pids\":[1078725,485389],\"aid\":132127}\n",
      "{\"compl_pids\":[1870322],\"sim_pids\":[307482],\"aid\":385303}\n",
      "====================================================================================================\n",
      "69496 /home/jupyter/jointly_rec_and_search/datasets/rec_search/rec_compl/train/top1_triples.tsv\n",
      "501931\t2186809\t2209606\n",
      "220006\t774261\t1969224\n",
      "1970525\t1185215\t909469\n",
      "1822620\t273456\t971697\n",
      "132127\t533708\t1849331\n",
      "385303\t1870322\t307482\n",
      "====================================================================================================\n",
      "109612 /home/jupyter/jointly_rec_and_search/datasets/rec_search/rec_compl/train/top2_triples.tsv\n",
      "501931\t2186809\t1890315\n",
      "220006\t774261\t1702313\n",
      "220006\t1960065\t563604\n",
      "132127\t533708\t1078725\n",
      "132127\t1043030\t485389\n",
      "385303\t1870322\t307482\n",
      "====================================================================================================\n",
      "69496 /home/jupyter/jointly_rec_and_search/datasets/rec_search/rec_compl/train/train_1compl_1sim.json\n",
      "{\"compl_pids\":[2186809],\"sim_pids\":[2209606],\"aid\":501931}\n",
      "{\"compl_pids\":[774261],\"sim_pids\":[1969224],\"aid\":220006}\n",
      "{\"compl_pids\":[1185215],\"sim_pids\":[909469],\"aid\":1970525}\n",
      "{\"compl_pids\":[273456],\"sim_pids\":[971697],\"aid\":1822620}\n",
      "{\"compl_pids\":[533708],\"sim_pids\":[1849331],\"aid\":132127}\n",
      "{\"compl_pids\":[1870322],\"sim_pids\":[307482],\"aid\":385303}\n",
      "====================================================================================================\n",
      "178162 /home/jupyter/jointly_rec_and_search/datasets/rec_search/rec_compl/train/top5_triples.tsv\n",
      "501931\t2186809\t1296125\n",
      "220006\t1960065\t500345\n",
      "220006\t774261\t2128382\n",
      "132127\t533708\t485389\n",
      "132127\t1043030\t1381526\n",
      "385303\t1870322\t1889462\n",
      "====================================================================================================\n"
     ]
    }
   ],
   "source": [
    "# sanity check\n",
    "for path in os.listdir(out_dir):\n",
    "    path = os.path.join(out_dir, path)\n",
    "    ! wc -l $path\n",
    "    ! head -n 3 $path\n",
    "    ! tail -n 3 $path\n",
    "    print(\"=\"*100)"
   ]
  },
  {
   "cell_type": "code",
   "execution_count": 4,
   "id": "162d6d47-ebbb-40f3-a334-27dbd593a80a",
   "metadata": {},
   "outputs": [
    {
     "name": "stdout",
     "output_type": "stream",
     "text": [
      "132127\tJacuzzi 1500-Watt Inline Heater [SEP] Whirlpool Tub & Air Bath Parts\n",
      "1043030\tJacuzzi 1.5-in Brushed Nickel Foot Lock Drain with Plastic Pipe [SEP] Bathtub Drains\n",
      "1381526\tWaterTECH Whirpool 110 Volt tub heater [SEP] Whirlpool Tub & Air Bath Parts\n"
     ]
    }
   ],
   "source": [
    "! grep -P \"^132127\\t\" \"/home/jupyter/jointly_rec_and_search/datasets/rec_search/rec_compl/collection_title_catalog.tsv\"\n",
    "! grep -P \"^1043030\\t\" \"/home/jupyter/jointly_rec_and_search/datasets/rec_search/rec_compl/collection_title_catalog.tsv\"\n",
    "! grep -P \"^1381526\\t\" \"/home/jupyter/jointly_rec_and_search/datasets/rec_search/rec_compl/collection_title_catalog.tsv\""
   ]
  },
  {
   "cell_type": "code",
   "execution_count": null,
   "id": "6659da20-52ce-4cbe-97ee-6342bd1f37fa",
   "metadata": {},
   "outputs": [],
   "source": [
    "path = \"/home/jupyter/jointly_rec_and_search/preprocess/rec_compl/dataset//\""
   ]
  }
 ],
 "metadata": {
  "environment": {
   "kernel": "python3",
   "name": "tf2-gpu.2-9.m93",
   "type": "gcloud",
   "uri": "gcr.io/deeplearning-platform-release/tf2-gpu.2-9:m93"
  },
  "kernelspec": {
   "display_name": "Python 3",
   "language": "python",
   "name": "python3"
  },
  "language_info": {
   "codemirror_mode": {
    "name": "ipython",
    "version": 3
   },
   "file_extension": ".py",
   "mimetype": "text/x-python",
   "name": "python",
   "nbconvert_exporter": "python",
   "pygments_lexer": "ipython3",
   "version": "3.7.12"
  }
 },
 "nbformat": 4,
 "nbformat_minor": 5
}
