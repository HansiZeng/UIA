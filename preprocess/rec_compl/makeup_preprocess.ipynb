{
 "cells": [
  {
   "cell_type": "code",
   "execution_count": 2,
   "id": "1a016a0c-84e0-4d9f-a1a7-01820f515189",
   "metadata": {},
   "outputs": [
    {
     "name": "stdout",
     "output_type": "stream",
     "text": [
      "sep token = [SEP]\n"
     ]
    }
   ],
   "source": [
    "import os \n",
    "\n",
    "from transformers import AutoTokenizer\n",
    "tokenizer = AutoTokenizer.from_pretrained(\"distilbert-base-uncased\")\n",
    "print(\"sep token = {}\".format(tokenizer.sep_token))\n",
    "from tqdm import tqdm \n",
    "\n",
    "\n",
    "base_dir = \"/home/jupyter/jointly_rec_and_search/datasets/rec_search/rec_compl/\"\n",
    "\n",
    "pid_to_title = {}\n",
    "pid_to_bullet = {}\n",
    "pid_to_catalog = {}\n",
    "with open(os.path.join(base_dir, \"collection_title.tsv\")) as fin:\n",
    "    with open(os.path.join(base_dir, \"collection_bullet.tsv\")) as fin2:\n",
    "        with open(os.path.join(base_dir, \"collection_catalog.tsv\")) as fin3:\n",
    "            for line in fin:\n",
    "                pid, title = line.rstrip().split(\"\\t\")\n",
    "                pid_to_title[pid] = title\n",
    "            for line in fin2:\n",
    "                pid, bullet = line.rstrip().split(\"\\t\")\n",
    "                pid_to_bullet[pid] = bullet\n",
    "            for line in fin3:\n",
    "                pid, catalog = line.rstrip().split(\"\\t\")\n",
    "                pid_to_catalog[pid] = catalog\n",
    "                \n",
    "with open(os.path.join(base_dir, \"collection_title_catalog.tsv\"), \"w\") as fout:\n",
    "    for pid in collection_title:\n",
    "        text = pid_to_title[pid] + \" \" + tokenizer.sep_token + \" \" + pid_to_catalog[pid] \n",
    "        fout.write(f\"{pid}\\t{text}\\n\")\n",
    "        \n",
    "with open(os.path.join(base_dir, \"collection_tcb.tsv\"), \"w\") as fout:\n",
    "    for pid in collection_title:\n",
    "        text = pid_to_title[pid] + \" \" + tokenizer.sep_token + \" \" + pid_to_catalog[pid]  + \" \" + tokenizer.sep_token + \" \" + pid_to_bullet[pid]\n",
    "        fout.write(f\"{pid}\\t{text}\\n\")"
   ]
  },
  {
   "cell_type": "code",
   "execution_count": 5,
   "id": "668e72e9-eeef-4b5a-9e8f-d5a4102f24a9",
   "metadata": {},
   "outputs": [
    {
     "name": "stdout",
     "output_type": "stream",
     "text": [
      "2260878 /home/jupyter/jointly_rec_and_search/datasets/rec_search/rec_compl/collection_title.tsv\n",
      "1600705\tReliaBilt Madison 32-in x 80-in Cream-n-sugar 1-Panel Hollow Core Prefinished Molded Composite Left Hand Inswing Single Prehung Interior Door\n",
      "1446112\tSIMPSON 30-in x 80-in Brown 5-Panel Equal Clear Glass Solid Core Unfinished Knotty Alder Wood Right Hand Inswing Single Prehung Interior Door\n",
      "1602063\tSIMPSON 24-in x 80-in Brown Solid Core Unfinished Hardwood Wood Left Hand Inswing Single Prehung Interior Door\n",
      "341422\tGoplus Brown 8-Hook Coat Stand\n",
      "319125\tBenzara Wooden Twist Hall Tree Coat Rack\n",
      "1676155\tTrademark Innovations 24-in Expandable 7 Hook Pine Wood Wall Mount Coat Rack- Multipurpose Organizer by Trademark Innovations\n",
      "====================================================================================================\n",
      "2260878 /home/jupyter/jointly_rec_and_search/datasets/rec_search/rec_compl/collection_catalog.tsv\n",
      "1600705\tPrehung Interior Doors\n",
      "1446112\tPrehung Interior Doors\n",
      "1602063\tPrehung Interior Doors\n",
      "341422\tCoat Racks & Stands\n",
      "319125\tCoat Racks & Stands\n",
      "1676155\tCoat Racks & Stands\n",
      "====================================================================================================\n",
      "2260878 /home/jupyter/jointly_rec_and_search/datasets/rec_search/rec_compl/collection_title_catalog.tsv\n",
      "1600705\tReliaBilt Madison 32-in x 80-in Cream-n-sugar 1-Panel Hollow Core Prefinished Molded Composite Left Hand Inswing Single Prehung Interior Door [SEP] Prehung Interior Doors\n",
      "1446112\tSIMPSON 30-in x 80-in Brown 5-Panel Equal Clear Glass Solid Core Unfinished Knotty Alder Wood Right Hand Inswing Single Prehung Interior Door [SEP] Prehung Interior Doors\n",
      "1602063\tSIMPSON 24-in x 80-in Brown Solid Core Unfinished Hardwood Wood Left Hand Inswing Single Prehung Interior Door [SEP] Prehung Interior Doors\n",
      "341422\tGoplus Brown 8-Hook Coat Stand [SEP] Coat Racks & Stands\n",
      "319125\tBenzara Wooden Twist Hall Tree Coat Rack [SEP] Coat Racks & Stands\n",
      "1676155\tTrademark Innovations 24-in Expandable 7 Hook Pine Wood Wall Mount Coat Rack- Multipurpose Organizer by Trademark Innovations [SEP] Coat Racks & Stands\n",
      "====================================================================================================\n"
     ]
    }
   ],
   "source": [
    "fn1 = os.path.join(base_dir, \"collection_title.tsv\")\n",
    "fn2 = os.path.join(base_dir, \"collection_catalog.tsv\")\n",
    "fn3 = os.path.join(base_dir, \"collection_title_catalog.tsv\")\n",
    "paths = [fn1, fn2, fn3]\n",
    "\n",
    "for path in paths:\n",
    "    ! wc -l $path\n",
    "    ! head -n 3 $path\n",
    "    ! tail -n 3 $path\n",
    "    print(\"=\"*100)"
   ]
  },
  {
   "cell_type": "code",
   "execution_count": null,
   "id": "95eae54e-bf34-463c-915d-ad1403982198",
   "metadata": {},
   "outputs": [],
   "source": []
  }
 ],
 "metadata": {
  "environment": {
   "kernel": "python3",
   "name": "tf2-gpu.2-9.m93",
   "type": "gcloud",
   "uri": "gcr.io/deeplearning-platform-release/tf2-gpu.2-9:m93"
  },
  "kernelspec": {
   "display_name": "Python 3",
   "language": "python",
   "name": "python3"
  },
  "language_info": {
   "codemirror_mode": {
    "name": "ipython",
    "version": 3
   },
   "file_extension": ".py",
   "mimetype": "text/x-python",
   "name": "python",
   "nbconvert_exporter": "python",
   "pygments_lexer": "ipython3",
   "version": "3.7.12"
  }
 },
 "nbformat": 4,
 "nbformat_minor": 5
}
