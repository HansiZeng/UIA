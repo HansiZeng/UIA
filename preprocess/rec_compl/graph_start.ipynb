{
 "cells": [
  {
   "cell_type": "code",
   "execution_count": 1,
   "id": "cc7caa62-4786-4bfd-8234-1ae003b70400",
   "metadata": {},
   "outputs": [],
   "source": [
    "from torch_geometric.datasets import OGB_MAG"
   ]
  },
  {
   "cell_type": "code",
   "execution_count": 2,
   "id": "eac5cbf1-12a8-453c-aa6a-79285f6ca8f8",
   "metadata": {},
   "outputs": [
    {
     "name": "stderr",
     "output_type": "stream",
     "text": [
      "Downloading http://snap.stanford.edu/ogb/data/nodeproppred/mag.zip\n",
      "Extracting data/mag/raw/mag.zip\n",
      "Downloading https://data.pyg.org/datasets/mag_metapath2vec_emb.zip\n",
      "Extracting data/mag/raw/mag_metapath2vec_emb.zip\n",
      "Processing...\n",
      "Done!\n"
     ]
    }
   ],
   "source": [
    "dataset = OGB_MAG(root='./data', preprocess='metapath2vec')\n",
    "data = dataset[0]"
   ]
  },
  {
   "cell_type": "code",
   "execution_count": 3,
   "id": "f22d8f86-def4-4d59-960b-a4f771b98b59",
   "metadata": {},
   "outputs": [
    {
     "data": {
      "text/plain": [
       "HeteroData(\n",
       "  \u001b[1mpaper\u001b[0m={\n",
       "    x=[736389, 128],\n",
       "    year=[736389],\n",
       "    y=[736389],\n",
       "    train_mask=[736389],\n",
       "    val_mask=[736389],\n",
       "    test_mask=[736389]\n",
       "  },\n",
       "  \u001b[1mauthor\u001b[0m={ x=[1134649, 128] },\n",
       "  \u001b[1minstitution\u001b[0m={ x=[8740, 128] },\n",
       "  \u001b[1mfield_of_study\u001b[0m={ x=[59965, 128] },\n",
       "  \u001b[1m(author, affiliated_with, institution)\u001b[0m={ edge_index=[2, 1043998] },\n",
       "  \u001b[1m(author, writes, paper)\u001b[0m={ edge_index=[2, 7145660] },\n",
       "  \u001b[1m(paper, cites, paper)\u001b[0m={ edge_index=[2, 5416271] },\n",
       "  \u001b[1m(paper, has_topic, field_of_study)\u001b[0m={ edge_index=[2, 7505078] }\n",
       ")"
      ]
     },
     "execution_count": 3,
     "metadata": {},
     "output_type": "execute_result"
    }
   ],
   "source": [
    "data"
   ]
  },
  {
   "cell_type": "code",
   "execution_count": 6,
   "id": "ee898029-c8fa-42b6-a3ca-d44dc1a1a775",
   "metadata": {},
   "outputs": [
    {
     "data": {
      "text/plain": [
       "{'edge_index': tensor([[      0,       1,       2,  ..., 1134645, 1134647, 1134648],\n",
       "        [    845,     996,    3197,  ...,    5189,    4668,    4668]])}"
      ]
     },
     "execution_count": 6,
     "metadata": {},
     "output_type": "execute_result"
    }
   ],
   "source": [
    "data[\"affiliated_with\"]"
   ]
  },
  {
   "cell_type": "code",
   "execution_count": 14,
   "id": "af41f109-5795-4a59-ae08-3c69865f9e5c",
   "metadata": {},
   "outputs": [],
   "source": [
    "from ogb.linkproppred import PygLinkPropPredDataset, Evaluator\n",
    "\n",
    "dataset = PygLinkPropPredDataset(name=\"ogbl-citation2\")\n",
    "split_edge = dataset.get_edge_split()"
   ]
  },
  {
   "cell_type": "code",
   "execution_count": 20,
   "id": "f57e12d9-5307-40a6-8461-377f4df84f1e",
   "metadata": {},
   "outputs": [
    {
     "name": "stdout",
     "output_type": "stream",
     "text": [
      "{'train': {'source_node': tensor([ 837791,  837791,  837791,  ...,  928474, 1521923, 1257024]), 'target_node': tensor([    102, 1074631, 1658157,  ...,  250277,  316321,  325910])}, 'valid': {'source_node': tensor([2302382, 1112061, 1660093,  ..., 1660079, 2395010,   88681]), 'target_node': tensor([ 245742,  839129,  228003,  ...,  699000, 2485204,  849448]), 'target_node_neg': tensor([[2415348,  412967, 2565382,  ..., 1353044, 1652394, 1627182],\n",
      "        [2417679, 1300333, 1209239,  ...,  895374,  212010,  708688],\n",
      "        [2048101, 2862532, 2290308,  ..., 2514487,   40940, 1026291],\n",
      "        ...,\n",
      "        [ 318135, 2739424, 1532176,  ...,  992389, 2060643,  200797],\n",
      "        [2788476,  478421, 2370700,  ..., 2029628, 1698721, 2022902],\n",
      "        [ 576938, 2577235, 2070601,  ...,  155330, 1643711, 1166252]])}, 'test': {'source_node': tensor([2302382, 1112061, 1660093,  ..., 1660079, 2395010,   88681]), 'target_node': tensor([1611317,  963234,  108714,  ..., 2537726,  163858,  112969]), 'target_node_neg': tensor([[ 114076, 2093394, 1308822,  ..., 2321062, 1852878,  936672],\n",
      "        [1721320, 1652516, 1519005,  ...,  341717, 2088606, 2439337],\n",
      "        [2599779,  559531, 2167457,  ..., 1712849, 1557393,  351509],\n",
      "        ...,\n",
      "        [2425394, 2492996, 1292379,  ..., 1869240,  659290, 2717380],\n",
      "        [1209528, 1772707,  494703,  ..., 2750101, 1057759, 1297680],\n",
      "        [2587770, 2587954,   49452,  ..., 1938683, 1319512, 2029363]])}}\n",
      "====================\n",
      "Data(num_nodes=2927963, edge_index=[2, 30387995], x=[2927963, 128], node_year=[2927963, 1])\n"
     ]
    }
   ],
   "source": [
    "print(split_edge)\n",
    "print(\"=\"*20)\n",
    "print(dataset[0])"
   ]
  },
  {
   "cell_type": "code",
   "execution_count": 16,
   "id": "380fa29c-9dd7-4ecf-b00f-84f048f81a72",
   "metadata": {},
   "outputs": [
    {
     "data": {
      "text/plain": [
       "{'source_node': tensor([ 837791,  837791,  837791,  ...,  928474, 1521923, 1257024]),\n",
       " 'target_node': tensor([    102, 1074631, 1658157,  ...,  250277,  316321,  325910])}"
      ]
     },
     "execution_count": 16,
     "metadata": {},
     "output_type": "execute_result"
    }
   ],
   "source": [
    "split_edge[\"train\"][\"source_node\"].shape, split_edge[\"train\"][\"target_node\"].shape"
   ]
  },
  {
   "cell_type": "code",
   "execution_count": null,
   "id": "163095fd-a27c-48be-8d3d-6c2d905800c1",
   "metadata": {},
   "outputs": [],
   "source": []
  }
 ],
 "metadata": {
  "environment": {
   "kernel": "python3",
   "name": "tf2-gpu.2-9.m93",
   "type": "gcloud",
   "uri": "gcr.io/deeplearning-platform-release/tf2-gpu.2-9:m93"
  },
  "kernelspec": {
   "display_name": "Python 3",
   "language": "python",
   "name": "python3"
  },
  "language_info": {
   "codemirror_mode": {
    "name": "ipython",
    "version": 3
   },
   "file_extension": ".py",
   "mimetype": "text/x-python",
   "name": "python",
   "nbconvert_exporter": "python",
   "pygments_lexer": "ipython3",
   "version": "3.7.12"
  }
 },
 "nbformat": 4,
 "nbformat_minor": 5
}
