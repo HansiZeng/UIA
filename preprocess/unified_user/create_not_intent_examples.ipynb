{
 "cells": [
  {
   "cell_type": "code",
   "execution_count": 6,
   "id": "18665635-9400-4830-835a-7148edd2c49a",
   "metadata": {},
   "outputs": [],
   "source": [
    "import os \n",
    "import ujson\n",
    "\n",
    "in_dir = \"/home/jupyter/unity_jointly_rec_and_search/datasets/unified_user/mixture_sequential_train_test/hlen_4_bm25/\"\n",
    "in_path = os.path.join(in_dir, \"search_sim_compl_sequential.train.json\")\n",
    "out_path = os.path.join(in_dir, \"no_intent_search_compl_seqential.train.json\")\n",
    "\n",
    "with open(in_path) as fin:\n",
    "    with open(out_path, \"w\") as fout:\n",
    "        for line in fin:\n",
    "            example = ujson.loads(line)\n",
    "            example[\"relations\"] = [\"placeholder\"] * len(example[\"relations\"])\n",
    "            fout.write(ujson.dumps(example)+\"\\n\")"
   ]
  },
  {
   "cell_type": "code",
   "execution_count": null,
   "id": "888a7146-a7b5-4aa9-8766-6c5b04f94188",
   "metadata": {},
   "outputs": [],
   "source": [
    "! wc -l $in_path\n",
    "! wc -l $out_path\n",
    "! head -n 2 $in_path\n",
    "! head -n 2 $out_path"
   ]
  },
  {
   "cell_type": "code",
   "execution_count": null,
   "id": "2a02f1dc-5803-4865-a5c3-3fdb2c9ecefa",
   "metadata": {},
   "outputs": [],
   "source": []
  }
 ],
 "metadata": {
  "environment": {
   "kernel": "python3",
   "name": "tf2-gpu.2-9.m93",
   "type": "gcloud",
   "uri": "gcr.io/deeplearning-platform-release/tf2-gpu.2-9:m93"
  },
  "kernelspec": {
   "display_name": "Python 3",
   "language": "python",
   "name": "python3"
  },
  "language_info": {
   "codemirror_mode": {
    "name": "ipython",
    "version": 3
   },
   "file_extension": ".py",
   "mimetype": "text/x-python",
   "name": "python",
   "nbconvert_exporter": "python",
   "pygments_lexer": "ipython3",
   "version": "3.7.12"
  }
 },
 "nbformat": 4,
 "nbformat_minor": 5
}
