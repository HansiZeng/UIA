{
 "cells": [
  {
   "cell_type": "code",
   "execution_count": 6,
   "id": "18665635-9400-4830-835a-7148edd2c49a",
   "metadata": {},
   "outputs": [],
   "source": [
    "import os \n",
    "import ujson\n",
    "\n",
    "in_dir = \"/home/jupyter/unity_jointly_rec_and_search/datasets/unified_user/mixture_sequential_train_test/hlen_4_bm25/\"\n",
    "in_path = os.path.join(in_dir, \"search_sim_compl_sequential.train.json\")\n",
    "out_path = os.path.join(in_dir, \"no_intent_search_compl_seqential.train.json\")\n",
    "\n",
    "with open(in_path) as fin:\n",
    "    with open(out_path, \"w\") as fout:\n",
    "        for line in fin:\n",
    "            example = ujson.loads(line)\n",
    "            example[\"relations\"] = [\"placeholder\"] * len(example[\"relations\"])\n",
    "            fout.write(ujson.dumps(example)+\"\\n\")"
   ]
  },
  {
   "cell_type": "code",
   "execution_count": 7,
   "id": "827e9f1d-a96f-4594-a50b-0469aa865e39",
   "metadata": {},
   "outputs": [
    {
     "name": "stdout",
     "output_type": "stream",
     "text": [
      "910124 /home/jupyter/unity_jointly_rec_and_search/datasets/unified_user/mixture_sequential_train_test/hlen_4_bm25/search_sim_compl_sequential.train.json\n",
      "910124 /home/jupyter/unity_jointly_rec_and_search/datasets/unified_user/mixture_sequential_train_test/hlen_4_bm25/no_intent_search_compl_seqential.train.json\n",
      "{\"uid\":6,\"query_ids\":[1040357,2237551,2237551,986063],\"context_key_ids\":[1040357,1040357,2237551,2237551],\"context_value_ids\":[1892525,2087293,733076,986063],\"target_value_ids\":[2087293,733076,986063,733076],\"neg_value_ids\":[2160243,918588,1783130,2077553],\"relations\":[\"is_complementary_to\",\"is_complementary_to\",\"is_complementary_to\",\"is_complementary_to\"]}\n",
      "{\"uid\":161,\"query_ids\":[3051305,2692974,2773384,1301267],\"context_key_ids\":[1802677,3051305,2692974,2773384],\"context_value_ids\":[1666533,1582438,609312,257280],\"target_value_ids\":[1582438,609312,257280,257280],\"neg_value_ids\":[758275,398263,164388,144947],\"relations\":[\"is_relevant_to\",\"is_relevant_to\",\"is_relevant_to\",\"is_complementary_to\"]}\n",
      "{\"uid\":6,\"query_ids\":[1040357,2237551,2237551,986063],\"context_key_ids\":[1040357,1040357,2237551,2237551],\"context_value_ids\":[1892525,2087293,733076,986063],\"target_value_ids\":[2087293,733076,986063,733076],\"neg_value_ids\":[2160243,918588,1783130,2077553],\"relations\":[\"placeholder\",\"placeholder\",\"placeholder\",\"placeholder\"]}\n",
      "{\"uid\":161,\"query_ids\":[3051305,2692974,2773384,1301267],\"context_key_ids\":[1802677,3051305,2692974,2773384],\"context_value_ids\":[1666533,1582438,609312,257280],\"target_value_ids\":[1582438,609312,257280,257280],\"neg_value_ids\":[758275,398263,164388,144947],\"relations\":[\"placeholder\",\"placeholder\",\"placeholder\",\"placeholder\"]}\n"
     ]
    }
   ],
   "source": [
    "! wc -l $in_path\n",
    "! wc -l $out_path\n",
    "! head -n 2 $in_path\n",
    "! head -n 2 $out_path"
   ]
  },
  {
   "cell_type": "code",
   "execution_count": null,
   "id": "2a02f1dc-5803-4865-a5c3-3fdb2c9ecefa",
   "metadata": {},
   "outputs": [],
   "source": []
  }
 ],
 "metadata": {
  "environment": {
   "kernel": "python3",
   "name": "tf2-gpu.2-9.m93",
   "type": "gcloud",
   "uri": "gcr.io/deeplearning-platform-release/tf2-gpu.2-9:m93"
  },
  "kernelspec": {
   "display_name": "Python 3",
   "language": "python",
   "name": "python3"
  },
  "language_info": {
   "codemirror_mode": {
    "name": "ipython",
    "version": 3
   },
   "file_extension": ".py",
   "mimetype": "text/x-python",
   "name": "python",
   "nbconvert_exporter": "python",
   "pygments_lexer": "ipython3",
   "version": "3.7.12"
  }
 },
 "nbformat": 4,
 "nbformat_minor": 5
}
