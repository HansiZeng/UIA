{
 "cells": [
  {
   "cell_type": "code",
   "execution_count": 8,
   "metadata": {},
   "outputs": [],
   "source": [
    "import os \n",
    "\n",
    "root_dir = os.path.join(\"/work/hzeng_umass_edu/ir-research/joint_modeling_search_and_rec/datasets/unified_kgc/unified_user/\")\n",
    "\n",
    "static_dir = os.path.join(root_dir, \"without_context\")\n",
    "seq_dir = os.path.join(root_dir, \"sequential_train_test\")"
   ]
  },
  {
   "cell_type": "code",
   "execution_count": 9,
   "metadata": {},
   "outputs": [
    {
     "name": "stdout",
     "output_type": "stream",
     "text": [
      "/work/hzeng_umass_edu/ir-research/joint_modeling_search_and_rec/datasets/unified_kgc/unified_user/without_context/urels.test.search.tsv\n",
      "/work/hzeng_umass_edu/ir-research/joint_modeling_search_and_rec/datasets/unified_kgc/unified_user/sequential_train_test/urels.search.test.tsv\n"
     ]
    }
   ],
   "source": [
    "def from_qrel_to_u2p(urel_path):\n",
    "    uid_to_pos_pids = {}\n",
    "    with open(urel_path) as fin:\n",
    "        print(urel_path)\n",
    "        for line in fin:\n",
    "            uid, _, pos_pid, _ = line.strip().split(\"\\t\")\n",
    "            uid, pos_pid = int(uid), int(pos_pid)\n",
    "            if uid not in uid_to_pos_pids:\n",
    "                uid_to_pos_pids[uid] = [pos_pid]\n",
    "            else:\n",
    "                uid_to_pos_pids[uid] = [pos_pid]\n",
    "    return uid_to_pos_pids\n",
    "\n",
    "static_search_path = os.path.join(static_dir, \"urels.test.search.tsv\")\n",
    "seq_search_path = os.path.join(seq_dir, \"urels.search.test.tsv\")\n",
    "\n",
    "static_search_u2p = from_qrel_to_u2p(static_search_path)\n",
    "seq_search_u2p = from_qrel_to_u2p(seq_search_path)"
   ]
  },
  {
   "cell_type": "code",
   "execution_count": 14,
   "metadata": {},
   "outputs": [],
   "source": [
    "#uids = list(static_search_u2p.keys())[:10]\n",
    "for uid in static_search_u2p.keys():\n",
    "    static_pids = static_search_u2p[uid]\n",
    "    seq_pids = seq_search_u2p[uid]\n",
    "    \n",
    "    assert set(static_pids) == set(seq_pids)\n",
    "    \n",
    "    "
   ]
  }
 ],
 "metadata": {
  "kernelspec": {
   "display_name": "Python 3.8.13 ('matchmaker': conda)",
   "language": "python",
   "name": "python3"
  },
  "language_info": {
   "codemirror_mode": {
    "name": "ipython",
    "version": 3
   },
   "file_extension": ".py",
   "mimetype": "text/x-python",
   "name": "python",
   "nbconvert_exporter": "python",
   "pygments_lexer": "ipython3",
   "version": "3.8.13"
  },
  "orig_nbformat": 4,
  "vscode": {
   "interpreter": {
    "hash": "9c9569641937ce4addf5496cbe81a89e9d276a9857e7a9967fd6589fdce30733"
   }
  }
 },
 "nbformat": 4,
 "nbformat_minor": 2
}
