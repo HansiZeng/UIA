{
 "cells": [
  {
   "cell_type": "code",
   "execution_count": 1,
   "metadata": {},
   "outputs": [],
   "source": [
    "import os \n",
    "\n",
    "root_dir = os.path.join(\"/work/hzeng_umass_edu/ir-research/joint_modeling_search_and_rec/datasets/unified_kgc/unified_user/\")\n",
    "\n",
    "static_dir = os.path.join(root_dir, \"without_context\")\n",
    "seq_dir = os.path.join(root_dir, \"sequential_train_test\")"
   ]
  },
  {
   "cell_type": "code",
   "execution_count": 2,
   "metadata": {},
   "outputs": [
    {
     "ename": "FileNotFoundError",
     "evalue": "[Errno 2] No such file or directory: '/work/hzeng_umass_edu/ir-research/joint_modeling_search_and_rec/datasets/unified_kgc/unified_user/without_context/urels.test.search.tsv'",
     "output_type": "error",
     "traceback": [
      "\u001b[0;31m---------------------------------------------------------------------------\u001b[0m",
      "\u001b[0;31mFileNotFoundError\u001b[0m                         Traceback (most recent call last)",
      "\u001b[0;32m/tmp/ipykernel_13984/1251755724.py\u001b[0m in \u001b[0;36m<module>\u001b[0;34m\u001b[0m\n\u001b[1;32m     15\u001b[0m \u001b[0mseq_search_path\u001b[0m \u001b[0;34m=\u001b[0m \u001b[0mos\u001b[0m\u001b[0;34m.\u001b[0m\u001b[0mpath\u001b[0m\u001b[0;34m.\u001b[0m\u001b[0mjoin\u001b[0m\u001b[0;34m(\u001b[0m\u001b[0mseq_dir\u001b[0m\u001b[0;34m,\u001b[0m \u001b[0;34m\"urels.search.test.tsv\"\u001b[0m\u001b[0;34m)\u001b[0m\u001b[0;34m\u001b[0m\u001b[0;34m\u001b[0m\u001b[0m\n\u001b[1;32m     16\u001b[0m \u001b[0;34m\u001b[0m\u001b[0m\n\u001b[0;32m---> 17\u001b[0;31m \u001b[0mstatic_search_u2p\u001b[0m \u001b[0;34m=\u001b[0m \u001b[0mfrom_qrel_to_u2p\u001b[0m\u001b[0;34m(\u001b[0m\u001b[0mstatic_search_path\u001b[0m\u001b[0;34m)\u001b[0m\u001b[0;34m\u001b[0m\u001b[0;34m\u001b[0m\u001b[0m\n\u001b[0m\u001b[1;32m     18\u001b[0m \u001b[0mseq_search_u2p\u001b[0m \u001b[0;34m=\u001b[0m \u001b[0mfrom_qrel_to_u2p\u001b[0m\u001b[0;34m(\u001b[0m\u001b[0mseq_search_path\u001b[0m\u001b[0;34m)\u001b[0m\u001b[0;34m\u001b[0m\u001b[0;34m\u001b[0m\u001b[0m\n",
      "\u001b[0;32m/tmp/ipykernel_13984/1251755724.py\u001b[0m in \u001b[0;36mfrom_qrel_to_u2p\u001b[0;34m(urel_path)\u001b[0m\n\u001b[1;32m      1\u001b[0m \u001b[0;32mdef\u001b[0m \u001b[0mfrom_qrel_to_u2p\u001b[0m\u001b[0;34m(\u001b[0m\u001b[0murel_path\u001b[0m\u001b[0;34m)\u001b[0m\u001b[0;34m:\u001b[0m\u001b[0;34m\u001b[0m\u001b[0;34m\u001b[0m\u001b[0m\n\u001b[1;32m      2\u001b[0m     \u001b[0muid_to_pos_pids\u001b[0m \u001b[0;34m=\u001b[0m \u001b[0;34m{\u001b[0m\u001b[0;34m}\u001b[0m\u001b[0;34m\u001b[0m\u001b[0;34m\u001b[0m\u001b[0m\n\u001b[0;32m----> 3\u001b[0;31m     \u001b[0;32mwith\u001b[0m \u001b[0mopen\u001b[0m\u001b[0;34m(\u001b[0m\u001b[0murel_path\u001b[0m\u001b[0;34m)\u001b[0m \u001b[0;32mas\u001b[0m \u001b[0mfin\u001b[0m\u001b[0;34m:\u001b[0m\u001b[0;34m\u001b[0m\u001b[0;34m\u001b[0m\u001b[0m\n\u001b[0m\u001b[1;32m      4\u001b[0m         \u001b[0mprint\u001b[0m\u001b[0;34m(\u001b[0m\u001b[0murel_path\u001b[0m\u001b[0;34m)\u001b[0m\u001b[0;34m\u001b[0m\u001b[0;34m\u001b[0m\u001b[0m\n\u001b[1;32m      5\u001b[0m         \u001b[0;32mfor\u001b[0m \u001b[0mline\u001b[0m \u001b[0;32min\u001b[0m \u001b[0mfin\u001b[0m\u001b[0;34m:\u001b[0m\u001b[0;34m\u001b[0m\u001b[0;34m\u001b[0m\u001b[0m\n",
      "\u001b[0;31mFileNotFoundError\u001b[0m: [Errno 2] No such file or directory: '/work/hzeng_umass_edu/ir-research/joint_modeling_search_and_rec/datasets/unified_kgc/unified_user/without_context/urels.test.search.tsv'"
     ]
    }
   ],
   "source": [
    "def from_qrel_to_u2p(urel_path):\n",
    "    uid_to_pos_pids = {}\n",
    "    with open(urel_path) as fin:\n",
    "        print(urel_path)\n",
    "        for line in fin:\n",
    "            uid, _, pos_pid, _ = line.strip().split(\"\\t\")\n",
    "            uid, pos_pid = int(uid), int(pos_pid)\n",
    "            if uid not in uid_to_pos_pids:\n",
    "                uid_to_pos_pids[uid] = [pos_pid]\n",
    "            else:\n",
    "                uid_to_pos_pids[uid] = [pos_pid]\n",
    "    return uid_to_pos_pids\n",
    "\n",
    "static_search_path = os.path.join(static_dir, \"urels.test.search.tsv\")\n",
    "seq_search_path = os.path.join(seq_dir, \"urels.search.test.tsv\")\n",
    "\n",
    "static_search_u2p = from_qrel_to_u2p(static_search_path)\n",
    "seq_search_u2p = from_qrel_to_u2p(seq_search_path)"
   ]
  },
  {
   "cell_type": "code",
   "execution_count": null,
   "metadata": {},
   "outputs": [],
   "source": [
    "#uids = list(static_search_u2p.keys())[:10]\n",
    "for uid in static_search_u2p.keys():\n",
    "    static_pids = static_search_u2p[uid]\n",
    "    seq_pids = seq_search_u2p[uid]\n",
    "    \n",
    "    assert set(static_pids) == set(seq_pids)\n",
    "    \n",
    "    "
   ]
  },
  {
   "cell_type": "code",
   "execution_count": 22,
   "metadata": {},
   "outputs": [],
   "source": [
    "import ujson\n",
    "\n",
    "train_path=\"/home/jupyter/unity_jointly_rec_and_search/datasets/unified_user/sequential_train_test/hlen_4_bm25/search_sequential.train.json\"\n",
    "test_path=\"/home/jupyter/unity_jointly_rec_and_search/datasets/unified_user/sequential_train_test/hlen_4_bm25/search_sequential.test.json\"\n",
    "compl_train_path = \"/home/jupyter/unity_jointly_rec_and_search/datasets/unified_user/sequential_train_test/hlen_4_bm25/compl_rec_sequential.train.json\"\n",
    "\n",
    "\n",
    "train_examples = []\n",
    "test_examples = []\n",
    "compl_train_examples = []\n",
    "\n",
    "with open(train_path) as fin:\n",
    "    for line in fin:\n",
    "        train_examples.append(ujson.loads(line))\n",
    "        \n",
    "with open(test_path) as fin:\n",
    "    for line in fin:\n",
    "        test_examples.append(ujson.loads(line))\n",
    "        \n",
    "with open(compl_train_path) as fin:\n",
    "    for line in fin:\n",
    "        compl_train_examples.append(ujson.loads(line))"
   ]
  },
  {
   "cell_type": "code",
   "execution_count": null,
   "metadata": {},
   "outputs": [],
   "source": [
    "test_uids = set([example[\"uid\"] for example in test_examples])\n",
    "train_uids = set([example[\"uid\"] for example in train_examples])\n",
    "compl_train_uids = set([example[\"uid\"] for example in compl_train_examples])\n",
    "train_uid_to_queryids = {x[\"uid\"]: x[\"query_ids\"] for x in train_examples if x[\"uid\"] in test_uids}\n",
    "test_uid_to_queryids = {x[\"uid\"]: x[\"query_ids\"] for x in test_examples if x[\"uid\"]}\n",
    "train_uid_to_valueids = {x[\"uid\"]: x[\"context_value_ids\"] for x in train_examples if x[\"uid\"] in test_uids}\n",
    "test_uid_to_valueids = {x[\"uid\"]: x[\"context_value_ids\"] for x in test_examples if x[\"uid\"]}\n",
    "print(len(train_uid_to_queryids), len(test_uid_to_queryids))\n",
    "for train_queryids, test_queryids in zip(train_uid_to_queryids.values(), test_uid_to_queryids.values()):\n",
    "    assert train_queryids == test_queryids[:-1]\n",
    "for train_valueids, test_valueids in zip(train_uid_to_valueids.values(), test_uid_to_valueids.values()):\n",
    "    assert train_valueids == test_valueids[:-1]\n",
    "print(test_examples[:2])\n",
    "print(\"overlap users between train search and compl = {:,}\".format(len(train_uids & compl_train_uids)))\n",
    "print(\"number of train search and compl = {:,}, {:,}\".format(len(train_uids), len(compl_train_uids)))"
   ]
  },
  {
   "cell_type": "code",
   "execution_count": 12,
   "metadata": {},
   "outputs": [],
   "source": [
    "root_dir=\"/home/jupyter/unity_jointly_rec_and_search/datasets/unified_user/\"\n",
    "eid_to_text = {}\n",
    "with open(os.path.join(root_dir, \"all_entities.tsv\")) as fin:\n",
    "    for line in fin:\n",
    "        eid, text = line.strip().split(\"\\t\")\n",
    "        eid_to_text[int(eid)] = text"
   ]
  },
  {
   "cell_type": "code",
   "execution_count": 9,
   "metadata": {},
   "outputs": [
    {
     "name": "stdout",
     "output_type": "stream",
     "text": [
      "148\tQ0\t1534880\t1\n",
      "182\tQ0\t1019276\t1\n",
      "416\tQ0\t1787563\t1\n",
      "580\tQ0\t2205787\t1\n",
      "581\tQ0\t2134319\t1\n"
     ]
    }
   ],
   "source": [
    "rels_path=\"/home/jupyter/unity_jointly_rec_and_search/datasets/unified_user/sequential_train_test/urels.search.test.tsv\"\n",
    "! head -n 5 $rels_path"
   ]
  },
  {
   "cell_type": "code",
   "execution_count": 16,
   "metadata": {},
   "outputs": [],
   "source": [
    "import os\n",
    "import pickle\n",
    "import glob\n",
    "\n",
    "import pandas as pd \n",
    "import numpy as np\n",
    "\n",
    "bq_in_dir=\"/home/jupyter/data_transfer/data/\"\n",
    "with open(os.path.join(bq_in_dir, \"time_anchor_5core_compl_rec_bytime.pkl\"), \"rb\") as fin:\n",
    "    user_compl_rec_df = pickle.load(fin)"
   ]
  },
  {
   "cell_type": "code",
   "execution_count": 17,
   "metadata": {},
   "outputs": [
    {
     "data": {
      "text/html": [
       "<div>\n",
       "<style scoped>\n",
       "    .dataframe tbody tr th:only-of-type {\n",
       "        vertical-align: middle;\n",
       "    }\n",
       "\n",
       "    .dataframe tbody tr th {\n",
       "        vertical-align: top;\n",
       "    }\n",
       "\n",
       "    .dataframe thead th {\n",
       "        text-align: right;\n",
       "    }\n",
       "</style>\n",
       "<table border=\"1\" class=\"dataframe\">\n",
       "  <thead>\n",
       "    <tr style=\"text-align: right;\">\n",
       "      <th></th>\n",
       "      <th>customer_id</th>\n",
       "      <th>compl_records</th>\n",
       "    </tr>\n",
       "  </thead>\n",
       "  <tbody>\n",
       "    <tr>\n",
       "      <th>0</th>\n",
       "      <td>1824001604224154582|3162928508271163957</td>\n",
       "      <td>[{'date_time': '2021-12-31 20:37:38', 'anchor'...</td>\n",
       "    </tr>\n",
       "    <tr>\n",
       "      <th>1</th>\n",
       "      <td>4654957148783008295|8571441076751289752</td>\n",
       "      <td>[{'date_time': '2022-02-01 20:36:51', 'anchor'...</td>\n",
       "    </tr>\n",
       "    <tr>\n",
       "      <th>2</th>\n",
       "      <td>8299603424924873952|1058200923248039745</td>\n",
       "      <td>[{'date_time': '2022-04-03 14:25:13', 'anchor'...</td>\n",
       "    </tr>\n",
       "    <tr>\n",
       "      <th>3</th>\n",
       "      <td>3475932232069669088|8896859845948872617</td>\n",
       "      <td>[{'date_time': '2021-12-17 20:12:11', 'anchor'...</td>\n",
       "    </tr>\n",
       "    <tr>\n",
       "      <th>4</th>\n",
       "      <td>5638287371680201640|3535992140736785982</td>\n",
       "      <td>[{'date_time': '2022-06-12 22:56:08', 'anchor'...</td>\n",
       "    </tr>\n",
       "  </tbody>\n",
       "</table>\n",
       "</div>"
      ],
      "text/plain": [
       "                               customer_id  \\\n",
       "0  1824001604224154582|3162928508271163957   \n",
       "1  4654957148783008295|8571441076751289752   \n",
       "2  8299603424924873952|1058200923248039745   \n",
       "3  3475932232069669088|8896859845948872617   \n",
       "4  5638287371680201640|3535992140736785982   \n",
       "\n",
       "                                       compl_records  \n",
       "0  [{'date_time': '2021-12-31 20:37:38', 'anchor'...  \n",
       "1  [{'date_time': '2022-02-01 20:36:51', 'anchor'...  \n",
       "2  [{'date_time': '2022-04-03 14:25:13', 'anchor'...  \n",
       "3  [{'date_time': '2021-12-17 20:12:11', 'anchor'...  \n",
       "4  [{'date_time': '2022-06-12 22:56:08', 'anchor'...  "
      ]
     },
     "execution_count": 17,
     "metadata": {},
     "output_type": "execute_result"
    }
   ],
   "source": [
    "user_compl_rec_df.head()"
   ]
  },
  {
   "cell_type": "code",
   "execution_count": null,
   "metadata": {},
   "outputs": [],
   "source": []
  }
 ],
 "metadata": {
  "environment": {
   "kernel": "python3",
   "name": "tf2-gpu.2-9.m93",
   "type": "gcloud",
   "uri": "gcr.io/deeplearning-platform-release/tf2-gpu.2-9:m93"
  },
  "kernelspec": {
   "display_name": "Python 3",
   "language": "python",
   "name": "python3"
  },
  "language_info": {
   "codemirror_mode": {
    "name": "ipython",
    "version": 3
   },
   "file_extension": ".py",
   "mimetype": "text/x-python",
   "name": "python",
   "nbconvert_exporter": "python",
   "pygments_lexer": "ipython3",
   "version": "3.7.12"
  },
  "vscode": {
   "interpreter": {
    "hash": "9c9569641937ce4addf5496cbe81a89e9d276a9857e7a9967fd6589fdce30733"
   }
  }
 },
 "nbformat": 4,
 "nbformat_minor": 4
}
