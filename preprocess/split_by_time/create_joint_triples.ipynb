{
 "cells": [
  {
   "cell_type": "code",
   "execution_count": 4,
   "id": "4c5018dc-bbba-4d36-88cc-81cd6aac935e",
   "metadata": {},
   "outputs": [
    {
     "name": "stdout",
     "output_type": "stream",
     "text": [
      "70752 /home/jupyter/jointly_rec_and_search/datasets/rec_search/rec/1pos_1neg.train.tsv\n",
      "183380 /home/jupyter/jointly_rec_and_search/datasets/rec_search/search/1pos_1neg.train.tsv\n",
      "254132 /home/jupyter/jointly_rec_and_search/datasets/rec_search/joint_1pos_1neg.train.tsv\n",
      "143379\t2252501\t2200151\tsearch\n",
      "1937837\t1432579\t36767\trec\n",
      "119577\t550915\t1937619\tsearch\n",
      "1065869\t1065867\t1513068\trec\n",
      "121311\t1012810\t638723\tsearch\n",
      "2169048\t2169046\t1492551\trec\n",
      "276361\t276359\t82947\trec\n",
      "135312\t1701251\t2126255\tsearch\n",
      "2059304\t1824139\t1166593\trec\n",
      "1240\t1049074\t805732\tsearch\n"
     ]
    }
   ],
   "source": [
    "import os \n",
    "import random\n",
    "\n",
    "rec_path = \"/home/jupyter/jointly_rec_and_search/datasets/rec_search/rec/1pos_1neg.train.tsv\"\n",
    "search_path = \"/home/jupyter/jointly_rec_and_search/datasets/rec_search/search/1pos_1neg.train.tsv\"\n",
    "out_path = \"/home/jupyter/jointly_rec_and_search/datasets/rec_search/joint_1pos_1neg.train.tsv\"\n",
    "\n",
    "out_lines = []\n",
    "with open(rec_path) as fin:\n",
    "    for line in fin:\n",
    "        out_lines.append(line.rstrip() + \"\\trec\\n\")\n",
    "with open(search_path) as fin:\n",
    "    for line in fin:\n",
    "        out_lines.append(line.rstrip() + \"\\tsearch\\n\")\n",
    "        \n",
    "random.shuffle(out_lines)\n",
    "with open(out_path, \"w\") as fout:\n",
    "    for line in out_lines:\n",
    "        fout.write(line)\n",
    "\n",
    "! wc -l $rec_path\n",
    "! wc -l $search_path\n",
    "! wc -l $out_path\n",
    "! head -n 5 $out_path\n",
    "! tail -n 5 $out_path"
   ]
  },
  {
   "cell_type": "code",
   "execution_count": null,
   "id": "82cc5edf-5631-4f0f-b516-e6e1465e56c7",
   "metadata": {},
   "outputs": [],
   "source": []
  }
 ],
 "metadata": {
  "environment": {
   "kernel": "python3",
   "name": "tf2-gpu.2-9.m93",
   "type": "gcloud",
   "uri": "gcr.io/deeplearning-platform-release/tf2-gpu.2-9:m93"
  },
  "kernelspec": {
   "display_name": "Python 3",
   "language": "python",
   "name": "python3"
  },
  "language_info": {
   "codemirror_mode": {
    "name": "ipython",
    "version": 3
   },
   "file_extension": ".py",
   "mimetype": "text/x-python",
   "name": "python",
   "nbconvert_exporter": "python",
   "pygments_lexer": "ipython3",
   "version": "3.7.12"
  }
 },
 "nbformat": 4,
 "nbformat_minor": 5
}
