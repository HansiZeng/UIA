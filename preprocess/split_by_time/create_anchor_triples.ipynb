{
 "cells": [
  {
   "cell_type": "code",
   "execution_count": 2,
   "id": "a5b668b9-78ef-4479-8f3f-da3af7a40bc2",
   "metadata": {},
   "outputs": [],
   "source": [
    "import os \n",
    "import random\n",
    "\n",
    "import numpy as np\n",
    "import pandas as pd \n",
    "import ujson"
   ]
  },
  {
   "cell_type": "code",
   "execution_count": 3,
   "id": "fb34868d-1a47-4300-9c60-714799bdf708",
   "metadata": {},
   "outputs": [
    {
     "name": "stdout",
     "output_type": "stream",
     "text": [
      "number of train_examples = 70752\n"
     ]
    }
   ],
   "source": [
    "run_path = \"/home/jupyter/jointly_rec_and_search/datasets/rec_search/rec/runs/bm25.train.run\" \n",
    "arels_path = \"/home/jupyter/jointly_rec_and_search/datasets/rec_search/rec/arels.train.tsv\" \n",
    "out_path = \"/home/jupyter/jointly_rec_and_search/datasets/rec_search/rec/1pos_1neg.train.tsv\"\n",
    "\n",
    "#neg_num = 1\n",
    "#topk = 1000\n",
    "aid_to_relpid = {}\n",
    "rel_df = pd.read_csv(arels_path, sep=\"\\t\", names=[\"aid\", \"q0\", \"pid\", \"score\"])\n",
    "for aid, group in rel_df.groupby(\"aid\"):\n",
    "    relpid = group.sample(1).iloc[0][\"pid\"]\n",
    "    aid_to_relpid[aid] = relpid\n",
    "\n",
    "train_examples = []\n",
    "df = pd.read_csv(run_path, sep=\" \", names=[\"aid\", \"q0\", \"pid\", \"rank\", \"score\", \"model_name\"])\n",
    "for aid, group in df.groupby(\"aid\"):\n",
    "    if len(group) <= 10:\n",
    "        continue \n",
    "    relpid = aid_to_relpid[aid]\n",
    "    negpid = group.sample(1).iloc[0][\"pid\"]\n",
    "    train_examples.append((aid, relpid, negpid))\n",
    "\n",
    "print(\"number of train_examples = {}\".format(len(train_examples)))\n",
    "\n",
    "with open(out_path, \"w\") as fout:\n",
    "    for exp in train_examples:\n",
    "        aid, relpid, negpid = exp \n",
    "        fout.write(f\"{aid}\\t{relpid}\\t{negpid}\\n\")"
   ]
  },
  {
   "cell_type": "code",
   "execution_count": 4,
   "id": "47dba67f-ac69-4dce-8b62-00c31bfe0077",
   "metadata": {},
   "outputs": [
    {
     "name": "stdout",
     "output_type": "stream",
     "text": [
      "240026 /home/jupyter/jointly_rec_and_search/datasets/rec_search/rec/arels.train.tsv\n",
      "32\tQ0\t5369\t1\n",
      "32\tQ0\t5344\t1\n",
      "32\tQ0\t2075636\t1\n",
      "32\tQ0\t11\t1\n",
      "32\tQ0\t2083645\t1\n",
      "==================================================\n",
      "70752 /home/jupyter/jointly_rec_and_search/datasets/rec_search/rec/1pos_1neg.train.tsv\n",
      "32\t11\t1998936\n",
      "308\t329917\t1889840\n",
      "671\t2120486\t79918\n",
      "938\t1348932\t2110072\n",
      "1062\t938\t2010307\n"
     ]
    }
   ],
   "source": [
    "! wc -l $arels_path\n",
    "! head -n 5 $arels_path\n",
    "print(50*\"=\")\n",
    "! wc -l $out_path\n",
    "! head -n 5 $out_path"
   ]
  },
  {
   "cell_type": "code",
   "execution_count": null,
   "id": "09f32eb6-7cc1-4028-afba-08da3fe0a931",
   "metadata": {},
   "outputs": [],
   "source": []
  }
 ],
 "metadata": {
  "environment": {
   "kernel": "python3",
   "name": "tf2-gpu.2-9.m93",
   "type": "gcloud",
   "uri": "gcr.io/deeplearning-platform-release/tf2-gpu.2-9:m93"
  },
  "kernelspec": {
   "display_name": "Python 3",
   "language": "python",
   "name": "python3"
  },
  "language_info": {
   "codemirror_mode": {
    "name": "ipython",
    "version": 3
   },
   "file_extension": ".py",
   "mimetype": "text/x-python",
   "name": "python",
   "nbconvert_exporter": "python",
   "pygments_lexer": "ipython3",
   "version": "3.7.12"
  }
 },
 "nbformat": 4,
 "nbformat_minor": 5
}
