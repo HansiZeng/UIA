{
 "cells": [
  {
   "cell_type": "code",
   "execution_count": 7,
   "id": "4c5018dc-bbba-4d36-88cc-81cd6aac935e",
   "metadata": {},
   "outputs": [
    {
     "name": "stdout",
     "output_type": "stream",
     "text": [
      "83436 /home/jupyter/jointly_rec_and_search/datasets/rec_search/search/anchor/1pos_1neg.similar.train.tsv\n",
      "209735 /home/jupyter/jointly_rec_and_search/datasets/rec_search/search/1pos_1neg.train.tsv\n",
      "293171 /home/jupyter/jointly_rec_and_search/datasets/rec_search/search/joint/1pos_1neg.similar.train.tsv\n",
      "108209\t1079337\t830855\tsearch\n",
      "118085\t1249267\t774839\tsearch\n",
      "1614654\t389320\t1734251\trec\n",
      "223779\t1215743\t2067130\tsearch\n",
      "132713\t1301283\t1258710\tsearch\n",
      "62698\t298684\t1059001\tsearch\n",
      "70182\t545729\t1715550\tsearch\n",
      "650951\t1599729\t2188313\trec\n",
      "214366\t1952409\t1894428\tsearch\n",
      "191714\t185015\t783285\tsearch\n"
     ]
    }
   ],
   "source": [
    "import os \n",
    "import random\n",
    "\n",
    "rec_path = \"/home/jupyter/jointly_rec_and_search/datasets/rec_search/search/anchor/1pos_1neg.similar.train.tsv\"\n",
    "search_path = \"/home/jupyter/jointly_rec_and_search/datasets/rec_search/search/1pos_1neg.train.tsv\"\n",
    "out_path = \"/home/jupyter/jointly_rec_and_search/datasets/rec_search/search/joint/1pos_1neg.similar.train.tsv\"\n",
    "\n",
    "out_lines = []\n",
    "with open(rec_path) as fin:\n",
    "    for line in fin:\n",
    "        out_lines.append(line.rstrip() + \"\\trec\\n\")\n",
    "with open(search_path) as fin:\n",
    "    for line in fin:\n",
    "        out_lines.append(line.rstrip() + \"\\tsearch\\n\")\n",
    "        \n",
    "random.shuffle(out_lines)\n",
    "with open(out_path, \"w\") as fout:\n",
    "    for line in out_lines:\n",
    "        fout.write(line)\n",
    "\n",
    "! wc -l $rec_path\n",
    "! wc -l $search_path\n",
    "! wc -l $out_path\n",
    "! head -n 5 $out_path\n",
    "! tail -n 5 $out_path"
   ]
  },
  {
   "cell_type": "code",
   "execution_count": 6,
   "id": "82cc5edf-5631-4f0f-b516-e6e1465e56c7",
   "metadata": {},
   "outputs": [
    {
     "name": "stdout",
     "output_type": "stream",
     "text": [
      "1pos_1neg.train.tsv   pid_productid_map.tsv  queries.test.head.tsv\n",
      "anchor\t\t      product.jsonl\t     queries.test.tail.tsv\n",
      "anchors.train.tsv     product_v3\t     queries.test.torso.tsv\n",
      "arels.train.tsv       qrels.test.head.tsv    queries.test.tsv\n",
      "bm25_index\t      qrels.test.tail.tsv    queries.train.tsv\n",
      "cl-drd_index\t      qrels.test.torso.tsv   queries.val.tsv\n",
      "collection.tsv\t      qrels.test.tsv\t     runs\n",
      "collection_title.tsv  qrels.train.tsv\n",
      "joint\t\t      qrels.val.tsv\n"
     ]
    }
   ],
   "source": [
    "! ls \"/home/jupyter/jointly_rec_and_search/datasets/rec_search/search/\""
   ]
  },
  {
   "cell_type": "code",
   "execution_count": 8,
   "id": "d7e0ae11-7c8f-46ff-aeaf-803176e818d2",
   "metadata": {},
   "outputs": [
    {
     "name": "stdout",
     "output_type": "stream",
     "text": [
      "1pos_1neg.similar.train.tsv\n"
     ]
    }
   ],
   "source": [
    "! ls \"/home/jupyter/jointly_rec_and_search/datasets/rec_search/search/joint\""
   ]
  },
  {
   "cell_type": "code",
   "execution_count": null,
   "id": "00273474-f3f7-4a6d-822c-5f9306da81c6",
   "metadata": {},
   "outputs": [],
   "source": []
  }
 ],
 "metadata": {
  "environment": {
   "kernel": "python3",
   "name": "tf2-gpu.2-9.m93",
   "type": "gcloud",
   "uri": "gcr.io/deeplearning-platform-release/tf2-gpu.2-9:m93"
  },
  "kernelspec": {
   "display_name": "Python 3",
   "language": "python",
   "name": "python3"
  },
  "language_info": {
   "codemirror_mode": {
    "name": "ipython",
    "version": 3
   },
   "file_extension": ".py",
   "mimetype": "text/x-python",
   "name": "python",
   "nbconvert_exporter": "python",
   "pygments_lexer": "ipython3",
   "version": "3.7.12"
  }
 },
 "nbformat": 4,
 "nbformat_minor": 5
}
