{
 "cells": [
  {
   "cell_type": "code",
   "execution_count": 1,
   "id": "31de9db1-cc30-4767-885c-d502f1902b85",
   "metadata": {},
   "outputs": [
    {
     "name": "stdout",
     "output_type": "stream",
     "text": [
      "Client creating using default project: gcp-ushi-digital-ds-qa\n"
     ]
    }
   ],
   "source": [
    "import os\n",
    "\n",
    "from google.cloud import bigquery\n",
    "import pandas as pd \n",
    "import numpy as np\n",
    "\n",
    "client = bigquery.Client()\n",
    "print(\"Client creating using default project: {}\".format(client.project))\n",
    "\n",
    "query = \"\"\"\n",
    "    SELECT * \n",
    "    FROM `gcp-ushi-digital-ds-qa.new_hansi_dataset.search_ClicksData_w_similar_ivms_5core`;\n",
    "    \"\"\"\n",
    "query_job = client.query(query)\n",
    "search_df = query_job.to_dataframe()"
   ]
  },
  {
   "cell_type": "code",
   "execution_count": 19,
   "id": "de32480e-8aaf-491d-ba76-ae103ee8bd63",
   "metadata": {},
   "outputs": [
    {
     "data": {
      "text/plain": [
       "array([     5.,      5.,      7.,     17.,     49.,    168.,    390.,\n",
       "          853., 346237.])"
      ]
     },
     "execution_count": 19,
     "metadata": {},
     "output_type": "execute_result"
    }
   ],
   "source": [
    "np.set_printoptions(suppress=True)\n",
    "query_to_clicknum = search_df.groupby([\"query\"])[\"clicked_numbers\"].sum()\n",
    "\n",
    "quantiles = [0.05, 0.1, 0.25, 0.5, 0.75, 0.9, 0.95, 0.975, 1.0]\n",
    "total_queries = len(query_to_clicknum)\n",
    "print(np.quantile(query_to_clicknum.values, quantiles))\n",
    "print(\"clicknum\\tquantile\\t\""
   ]
  },
  {
   "cell_type": "code",
   "execution_count": 22,
   "id": "97d8bfca-4f18-4665-bf94-56d55f541724",
   "metadata": {},
   "outputs": [
    {
     "data": {
      "text/plain": [
       "(4940, 9163, 33807)"
      ]
     },
     "execution_count": 22,
     "metadata": {},
     "output_type": "execute_result"
    }
   ],
   "source": [
    "np.sum(query_to_clicknum.values>=1000), np.sum(query_to_clicknum.values>=500), np.sum(query_to_clicknum.values>=100)"
   ]
  },
  {
   "cell_type": "code",
   "execution_count": 24,
   "id": "1d9e60b8-8ad6-4db0-a4bb-8ef8db7c9716",
   "metadata": {},
   "outputs": [
    {
     "data": {
      "text/plain": [
       "array([ 49., 853.])"
      ]
     },
     "execution_count": 24,
     "metadata": {},
     "output_type": "execute_result"
    }
   ],
   "source": [
    "np.quantile(query_to_clicknum.values, [0.75, 0.975])"
   ]
  },
  {
   "cell_type": "code",
   "execution_count": null,
   "id": "4c92ca19-df58-4d2e-a1ac-4ba628641aec",
   "metadata": {},
   "outputs": [],
   "source": []
  }
 ],
 "metadata": {
  "environment": {
   "kernel": "python3",
   "name": "tf2-gpu.2-9.m93",
   "type": "gcloud",
   "uri": "gcr.io/deeplearning-platform-release/tf2-gpu.2-9:m93"
  },
  "kernelspec": {
   "display_name": "Python 3",
   "language": "python",
   "name": "python3"
  },
  "language_info": {
   "codemirror_mode": {
    "name": "ipython",
    "version": 3
   },
   "file_extension": ".py",
   "mimetype": "text/x-python",
   "name": "python",
   "nbconvert_exporter": "python",
   "pygments_lexer": "ipython3",
   "version": "3.7.12"
  }
 },
 "nbformat": 4,
 "nbformat_minor": 5
}
