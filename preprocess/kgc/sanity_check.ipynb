{
 "cells": [
  {
   "cell_type": "code",
   "execution_count": 3,
   "id": "c9fa87ae-6620-4414-853f-c4b88546acab",
   "metadata": {},
   "outputs": [
    {
     "name": "stdout",
     "output_type": "stream",
     "text": [
      "69496 8687\n",
      "649029 172834\n",
      "0\n"
     ]
    }
   ],
   "source": [
    "import os \n",
    "\n",
    "train_path = \"/home/jupyter/jointly_rec_and_search/datasets/kgc/train/bm25_neg/max5_triples.a2cp.tsv\"\n",
    "test_path = \"/home/jupyter/jointly_rec_and_search/datasets/kgc/test/anchors.test.tsv\"\n",
    "\n",
    "train_aids = set()\n",
    "with open(train_path) as fin:\n",
    "    for line in fin:\n",
    "        train_aids.add(line.strip().split(\"\\t\")[0])\n",
    "test_aids = set()\n",
    "with open(test_path) as fin:\n",
    "    for line in fin:\n",
    "        test_aids.add(line.strip().split(\"\\t\")[0])\n",
    "print(len(train_aids), len(test_aids))\n",
    "print(list(train_aids)[2], list(test_aids)[4])\n",
    "print(len(train_aids & test_aids))"
   ]
  },
  {
   "cell_type": "code",
   "execution_count": null,
   "id": "2be5f623-b0de-4ea7-b464-8a0f6096bfae",
   "metadata": {},
   "outputs": [],
   "source": []
  }
 ],
 "metadata": {
  "environment": {
   "kernel": "python3",
   "name": "tf2-gpu.2-9.m93",
   "type": "gcloud",
   "uri": "gcr.io/deeplearning-platform-release/tf2-gpu.2-9:m93"
  },
  "kernelspec": {
   "display_name": "Python 3",
   "language": "python",
   "name": "python3"
  },
  "language_info": {
   "codemirror_mode": {
    "name": "ipython",
    "version": 3
   },
   "file_extension": ".py",
   "mimetype": "text/x-python",
   "name": "python",
   "nbconvert_exporter": "python",
   "pygments_lexer": "ipython3",
   "version": "3.7.12"
  }
 },
 "nbformat": 4,
 "nbformat_minor": 5
}
