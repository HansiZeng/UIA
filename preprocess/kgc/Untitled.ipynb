{
 "cells": [
  {
   "cell_type": "code",
   "execution_count": 1,
   "id": "77aa78e9-71ad-4d03-8045-4e00b5516cf4",
   "metadata": {},
   "outputs": [],
   "source": [
    "xs = {1: 2, 3:4}"
   ]
  },
  {
   "cell_type": "code",
   "execution_count": 2,
   "id": "b429e350-68da-4734-a3f3-c09c75522b5f",
   "metadata": {},
   "outputs": [
    {
     "data": {
      "text/plain": [
       "{1, 3}"
      ]
     },
     "execution_count": 2,
     "metadata": {},
     "output_type": "execute_result"
    }
   ],
   "source": [
    "set(xs.keys())"
   ]
  },
  {
   "cell_type": "code",
   "execution_count": null,
   "id": "2cad10a2-e6c2-4a3c-b945-a6819898da0e",
   "metadata": {},
   "outputs": [],
   "source": []
  }
 ],
 "metadata": {
  "environment": {
   "kernel": "python3",
   "name": "tf2-gpu.2-9.m93",
   "type": "gcloud",
   "uri": "gcr.io/deeplearning-platform-release/tf2-gpu.2-9:m93"
  },
  "kernelspec": {
   "display_name": "Python 3",
   "language": "python",
   "name": "python3"
  },
  "language_info": {
   "codemirror_mode": {
    "name": "ipython",
    "version": 3
   },
   "file_extension": ".py",
   "mimetype": "text/x-python",
   "name": "python",
   "nbconvert_exporter": "python",
   "pygments_lexer": "ipython3",
   "version": "3.7.12"
  }
 },
 "nbformat": 4,
 "nbformat_minor": 5
}
