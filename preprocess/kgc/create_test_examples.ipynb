{
 "cells": [
  {
   "cell_type": "code",
   "execution_count": 6,
   "id": "72c31804-6e52-45df-92c3-e1b7360f84b4",
   "metadata": {},
   "outputs": [],
   "source": [
    "import os \n",
    "import random\n",
    "import pickle\n",
    "from collections import defaultdict\n",
    "\n",
    "import ujson \n",
    "import numpy as np\n",
    "import copy\n",
    "import pandas as pd\n",
    "from tqdm import tqdm\n",
    "\n",
    "COMPL_RELATION = \"is_complementary_to\"\n",
    "\n",
    "in_dir = \"/home/jupyter/jointly_rec_and_search/datasets/kgc/\"\n",
    "out_dir = \"/home/jupyter/jointly_rec_and_search/datasets/kgc/test\"\n",
    "if not os.path.exists(out_dir):\n",
    "    os.mkdir(out_dir)\n",
    "\n",
    "id_to_text = {}\n",
    "with open(os.path.join(in_dir, \"anchors_title_catalog.test.tsv\")) as fin:\n",
    "    with open(os.path.join(out_dir, \"anchors.test.tsv\"), \"w\") as fout:\n",
    "        for line in fin:\n",
    "            array = line.strip().split(\"\\t\")\n",
    "            assert len(array) == 2\n",
    "            tid, text = array[0], array[1]\n",
    "            fout.write(f\"{tid}\\t{text}\\t{COMPL_RELATION}\\n\")"
   ]
  },
  {
   "cell_type": "code",
   "execution_count": 11,
   "id": "d297fe14-0e49-4e88-ab0a-ed560919011c",
   "metadata": {},
   "outputs": [
    {
     "name": "stdout",
     "output_type": "stream",
     "text": [
      "all_entites.tsv\t\t\t collection_catalog.tsv\n",
      "anchors_tcb.test.tsv\t\t collection_title.tsv\n",
      "anchors_tcb.train.tsv\t\t collection_title_catalog.tsv\n",
      "anchors_tcb.val.tsv\t\t entities.train.tsv\n",
      "anchors_title.test.tsv\t\t one_hop_examples.jsonl\n",
      "anchors_title.train.tsv\t\t one_hop_relation.pkl\n",
      "anchors_title.val.tsv\t\t product.jsonl\n",
      "anchors_title_catalog.test.tsv\t product_v3\n",
      "anchors_title_catalog.train.tsv  products.train.tsv\n",
      "anchors_title_catalog.val.tsv\t queries.train.tsv\n",
      "arels.compl.test.tsv\t\t queries.tsv\n",
      "arels.compl.train.tsv\t\t runs\n",
      "arels.compl.val.tsv\t\t test\n",
      "bm25_index\t\t\t train\n",
      "collection_bullet.tsv\n"
     ]
    }
   ],
   "source": [
    "! ls /home/jupyter/jointly_rec_and_search/datasets/kgc/"
   ]
  },
  {
   "cell_type": "code",
   "execution_count": 2,
   "id": "1c93c6e0-2483-4a3f-9b2b-910135f031d1",
   "metadata": {},
   "outputs": [
    {
     "name": "stdout",
     "output_type": "stream",
     "text": [
      "66261\tCARLON 2-Gang Blue Plastic New Work Standard Switch/Outlet Wall Electrical Box ; Electrical Boxes\n",
      "187764\tCARLON Molded Junction Box-Gang Gray Weatherproof Plastic New Work/Old Work ; Junction Boxes\n"
     ]
    }
   ],
   "source": [
    "! head -n 2 /home/jupyter/jointly_rec_and_search/datasets/kgc/anchors_title_catalog.test.tsv"
   ]
  },
  {
   "cell_type": "code",
   "execution_count": 9,
   "id": "0327bd15-56c7-4d41-b5d2-2ed629c64702",
   "metadata": {},
   "outputs": [
    {
     "name": "stdout",
     "output_type": "stream",
     "text": [
      "66261\tCARLON 2-Gang Blue Plastic New Work Standard Switch/Outlet Wall Electrical Box ; Electrical Boxes\tis_complementary_to\n",
      "187764\tCARLON Molded Junction Box-Gang Gray Weatherproof Plastic New Work/Old Work ; Junction Boxes\tis_complementary_to\n"
     ]
    }
   ],
   "source": [
    "! head -n 2 /home/jupyter/jointly_rec_and_search/datasets/kgc/test/anchors.test.tsv"
   ]
  },
  {
   "cell_type": "code",
   "execution_count": 10,
   "id": "40b043fe-2038-4185-908b-87d0ceba30d9",
   "metadata": {},
   "outputs": [
    {
     "name": "stdout",
     "output_type": "stream",
     "text": [
      "8687 /home/jupyter/jointly_rec_and_search/datasets/kgc/test/anchors.test.tsv\n"
     ]
    }
   ],
   "source": [
    "! wc -l /home/jupyter/jointly_rec_and_search/datasets/kgc/test/anchors.test.tsv"
   ]
  },
  {
   "cell_type": "code",
   "execution_count": null,
   "id": "9e36ef07-a0f5-42b5-a310-7c2bdc551323",
   "metadata": {},
   "outputs": [],
   "source": []
  }
 ],
 "metadata": {
  "environment": {
   "kernel": "python3",
   "name": "tf2-gpu.2-9.m93",
   "type": "gcloud",
   "uri": "gcr.io/deeplearning-platform-release/tf2-gpu.2-9:m93"
  },
  "kernelspec": {
   "display_name": "Python 3",
   "language": "python",
   "name": "python3"
  },
  "language_info": {
   "codemirror_mode": {
    "name": "ipython",
    "version": 3
   },
   "file_extension": ".py",
   "mimetype": "text/x-python",
   "name": "python",
   "nbconvert_exporter": "python",
   "pygments_lexer": "ipython3",
   "version": "3.7.12"
  }
 },
 "nbformat": 4,
 "nbformat_minor": 5
}
