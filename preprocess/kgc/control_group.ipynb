{
 "cells": [
  {
   "cell_type": "code",
   "execution_count": 13,
   "id": "9c44cfba-92ce-4f2f-bad5-867a54b506c6",
   "metadata": {},
   "outputs": [],
   "source": [
    "import os\n",
    "\n",
    "all_paths = [\"/home/jupyter/jointly_rec_and_search/datasets/kgc/train/bm25_neg/max5_triples.a2cp.tsv\",\n",
    "            \"/home/jupyter/jointly_rec_and_search/datasets/kgc/train/bm25_neg/max5_triples.a2sp.rnd.tsv\",\n",
    "             \"/home/jupyter/jointly_rec_and_search/datasets/kgc/train/bm25_neg/max5_triples.q2a.tsv\",\n",
    "             \"/home/jupyter/jointly_rec_and_search/datasets/kgc/train/bm25_neg/max5_triples.c2cp.tsv\",\n",
    "             \"/home/jupyter/jointly_rec_and_search/datasets/kgc/train/bm25_neg/max5_triples.c2sp.rnd.tsv\",\n",
    "             \"/home/jupyter/jointly_rec_and_search/datasets/kgc/train/bm25_neg/max5_triples.q2c.tsv\"]\n",
    "\n",
    "out_quadruples = []\n",
    "for fn in all_paths:\n",
    "    with open(fn) as f:\n",
    "        for line in f:\n",
    "            array = line.strip().split(\"\\t\")\n",
    "            assert len(array) == 4\n",
    "            out_quadruples.append((array[0], array[1], array[2], \"-\"))\n",
    "            \n",
    "out_dir = \"/home/jupyter/jointly_rec_and_search/datasets/kgc/train/control_train/\"\n",
    "if not os.path.exists(out_dir):\n",
    "    os.mkdir(out_dir)\n",
    "    \n",
    "with open(os.path.join(out_dir, \"max5_triples.all.tsv\"), \"w\") as fout:\n",
    "    for (qid, pos_pid, neg_pid, relation) in out_quadruples:\n",
    "        fout.write(f\"{qid}\\t{pos_pid}\\t{neg_pid}\\t{relation}\\n\")\n",
    "        \n",
    "test_in_path = \"/home/jupyter/jointly_rec_and_search/datasets/kgc/test/anchors.test.tsv\"\n",
    "out_dir = \"/home/jupyter/jointly_rec_and_search/datasets/kgc/test/control_test/\"\n",
    "if not os.path.exists(out_dir):\n",
    "    os.mkdir(out_dir)\n",
    "with open(test_in_path) as fin:\n",
    "    with open(os.path.join(out_dir, \"anchors.test.control.tsv\"), \"w\" ) as fout:\n",
    "        for line in fin:\n",
    "            qid, text, _ = line.strip().split(\"\\t\")\n",
    "            fout.write(f\"{qid}\\t{text}\\t-\\n\")"
   ]
  },
  {
   "cell_type": "code",
   "execution_count": 14,
   "id": "edd80a59-3193-445b-9d0e-8b443c2392e6",
   "metadata": {},
   "outputs": [
    {
     "name": "stdout",
     "output_type": "stream",
     "text": [
      "1128799 /home/jupyter/jointly_rec_and_search/datasets/kgc/train/control_train/max5_triples.all.tsv\n",
      "178162 /home/jupyter/jointly_rec_and_search/datasets/kgc/train/bm25_neg/max5_triples.a2cp.tsv\n",
      "209875 /home/jupyter/jointly_rec_and_search/datasets/kgc/train/bm25_neg/max5_triples.a2sp.rnd.tsv\n",
      "270180 /home/jupyter/jointly_rec_and_search/datasets/kgc/train/bm25_neg/max5_triples.q2a.tsv\n",
      "101051 /home/jupyter/jointly_rec_and_search/datasets/kgc/train/bm25_neg/max5_triples.c2cp.tsv\n",
      "160230 /home/jupyter/jointly_rec_and_search/datasets/kgc/train/bm25_neg/max5_triples.c2sp.rnd.tsv\n",
      "209301 /home/jupyter/jointly_rec_and_search/datasets/kgc/train/bm25_neg/max5_triples.q2c.tsv\n",
      "===========================================================================\n",
      "1106381\t761749\t1643479\t-\n",
      "737352\t1662290\t2122155\t-\n",
      "737352\t2065943\t1122750\t-\n",
      "240470\t827917\t1260666\t-\n",
      "240470\t2001040\t1003560\t-\n",
      "240470\t174081\t1047531\t-\n",
      "240470\t588830\t1955673\t-\n",
      "240470\t1894869\t1742858\t-\n",
      "125689\t710726\t705485\t-\n",
      "125689\t2260745\t2245406\t-\n",
      "===========================================================================\n",
      "1106381\t761749\t1643479\tis_complementary_to\n",
      "737352\t1662290\t2122155\tis_complementary_to\n",
      "737352\t2065943\t1122750\tis_complementary_to\n",
      "240470\t827917\t1260666\tis_complementary_to\n",
      "240470\t2001040\t1003560\tis_complementary_to\n",
      "240470\t174081\t1047531\tis_complementary_to\n",
      "240470\t588830\t1955673\tis_complementary_to\n",
      "240470\t1894869\t1742858\tis_complementary_to\n",
      "125689\t710726\t705485\tis_complementary_to\n",
      "125689\t2260745\t2245406\tis_complementary_to\n",
      "===========================================================================\n",
      "2875831\t736039\t1626449\t-\n",
      "2287010\t736039\t1074465\t-\n",
      "2287257\t736039\t521430\t-\n",
      "2431118\t736039\t442648\t-\n",
      "2265669\t736039\t1835233\t-\n",
      "2634502\t610862\t766637\t-\n",
      "3123794\t610862\t1114829\t-\n",
      "3133707\t610862\t387497\t-\n",
      "2695408\t610862\t1241997\t-\n",
      "2334136\t610862\t1643564\t-\n",
      "===========================================================================\n",
      "2875831\t736039\t1626449\tis_relevant_to\n",
      "2287010\t736039\t1074465\tis_relevant_to\n",
      "2287257\t736039\t521430\tis_relevant_to\n",
      "2431118\t736039\t442648\tis_relevant_to\n",
      "2265669\t736039\t1835233\tis_relevant_to\n",
      "2634502\t610862\t766637\tis_relevant_to\n",
      "3123794\t610862\t1114829\tis_relevant_to\n",
      "3133707\t610862\t387497\tis_relevant_to\n",
      "2695408\t610862\t1241997\tis_relevant_to\n",
      "2334136\t610862\t1643564\tis_relevant_to\n"
     ]
    }
   ],
   "source": [
    "! wc -l /home/jupyter/jointly_rec_and_search/datasets/kgc/train/control_train/max5_triples.all.tsv\n",
    "! wc -l \"/home/jupyter/jointly_rec_and_search/datasets/kgc/train/bm25_neg/max5_triples.a2cp.tsv\"\n",
    "! wc -l \"/home/jupyter/jointly_rec_and_search/datasets/kgc/train/bm25_neg/max5_triples.a2sp.rnd.tsv\"\n",
    "! wc -l \"/home/jupyter/jointly_rec_and_search/datasets/kgc/train/bm25_neg/max5_triples.q2a.tsv\"\n",
    "! wc -l  \"/home/jupyter/jointly_rec_and_search/datasets/kgc/train/bm25_neg/max5_triples.c2cp.tsv\"\n",
    "! wc -l \"/home/jupyter/jointly_rec_and_search/datasets/kgc/train/bm25_neg/max5_triples.c2sp.rnd.tsv\"\n",
    "! wc -l  \"/home/jupyter/jointly_rec_and_search/datasets/kgc/train/bm25_neg/max5_triples.q2c.tsv\"\n",
    "print(\"=\"*75)\n",
    "! head -n 10 /home/jupyter/jointly_rec_and_search/datasets/kgc/train/control_train/max5_triples.all.tsv\n",
    "print(\"=\"*75)\n",
    "! head -n 10 \"/home/jupyter/jointly_rec_and_search/datasets/kgc/train/bm25_neg/max5_triples.a2cp.tsv\"\n",
    "print(\"=\"*75)\n",
    "! tail -n 10 /home/jupyter/jointly_rec_and_search/datasets/kgc/train/control_train/max5_triples.all.tsv\n",
    "print(\"=\"*75)\n",
    "! tail -n 10 \"/home/jupyter/jointly_rec_and_search/datasets/kgc/train/bm25_neg/max5_triples.q2c.tsv\""
   ]
  },
  {
   "cell_type": "code",
   "execution_count": 17,
   "id": "39baab35-5518-4ac9-ac3d-2ceb3316f4c7",
   "metadata": {},
   "outputs": [
    {
     "name": "stdout",
     "output_type": "stream",
     "text": [
      "8687 /home/jupyter/jointly_rec_and_search/datasets/kgc/test/control_test/anchors.test.control.tsv\n",
      "66261\tCARLON 2-Gang Blue Plastic New Work Standard Switch/Outlet Wall Electrical Box ; Electrical Boxes\t-\n",
      "187764\tCARLON Molded Junction Box-Gang Gray Weatherproof Plastic New Work/Old Work ; Junction Boxes\t-\n",
      "2062888\tOldcastle 0.5-cu ft Tan/Brown Paver Base ; Paver Sand\t-\n",
      "1346501\tKraloy Gray PVC Weatherproof New Work/Old Work Standard Enclosure Exterior Electrical Box ; Electrical Boxes\t-\n",
      "1210538\tKobalt 3000 Series 45-in W x 47-in H 7-Drawer Steel Rolling Tool Cabinet (Black) ; Bottom Tool Cabinets\t-\n",
      "538240\t 4-ft H x 50-ft W 9-Gauge Vinyl Coated Steel Chain Link Fence Fabric with Mesh Size 2-in ; Chain Link Fencing\t-\n",
      "1597744\tKwikset Powerbolt2 Polished Brass Single-Cylinder Deadbolt 1-Cylinder Smartkey Electronic Deadbolt Lighted Keypad ; No catalog\t-\n",
      "232241\tBroan 1.5-Sone 140-CFM White Lighted Bathroom Fan ENERGY STAR ; Bathroom Fans & Heaters\t-\n",
      "1040966\t 10-in W x 8-in H x 16-in L Standard Cored Concrete Block ; Concrete Blocks\t-\n",
      "476027\tSigma ProConnex 2-Count Copper Alloy Lugs ; Lugs\t-\n",
      "===========================================================================\n",
      "8687 /home/jupyter/jointly_rec_and_search/datasets/kgc/test/anchors.test.tsv\n",
      "66261\tCARLON 2-Gang Blue Plastic New Work Standard Switch/Outlet Wall Electrical Box ; Electrical Boxes\tis_complementary_to\n",
      "187764\tCARLON Molded Junction Box-Gang Gray Weatherproof Plastic New Work/Old Work ; Junction Boxes\tis_complementary_to\n",
      "2062888\tOldcastle 0.5-cu ft Tan/Brown Paver Base ; Paver Sand\tis_complementary_to\n",
      "1346501\tKraloy Gray PVC Weatherproof New Work/Old Work Standard Enclosure Exterior Electrical Box ; Electrical Boxes\tis_complementary_to\n",
      "1210538\tKobalt 3000 Series 45-in W x 47-in H 7-Drawer Steel Rolling Tool Cabinet (Black) ; Bottom Tool Cabinets\tis_complementary_to\n",
      "538240\t 4-ft H x 50-ft W 9-Gauge Vinyl Coated Steel Chain Link Fence Fabric with Mesh Size 2-in ; Chain Link Fencing\tis_complementary_to\n",
      "1597744\tKwikset Powerbolt2 Polished Brass Single-Cylinder Deadbolt 1-Cylinder Smartkey Electronic Deadbolt Lighted Keypad ; No catalog\tis_complementary_to\n",
      "232241\tBroan 1.5-Sone 140-CFM White Lighted Bathroom Fan ENERGY STAR ; Bathroom Fans & Heaters\tis_complementary_to\n",
      "1040966\t 10-in W x 8-in H x 16-in L Standard Cored Concrete Block ; Concrete Blocks\tis_complementary_to\n",
      "476027\tSigma ProConnex 2-Count Copper Alloy Lugs ; Lugs\tis_complementary_to\n"
     ]
    }
   ],
   "source": [
    "! wc -l \"/home/jupyter/jointly_rec_and_search/datasets/kgc/test/control_test/anchors.test.control.tsv\"\n",
    "! head -n 10 \"/home/jupyter/jointly_rec_and_search/datasets/kgc/test/control_test/anchors.test.control.tsv\"\n",
    "print(\"=\"*75)\n",
    "! wc -l \"/home/jupyter/jointly_rec_and_search/datasets/kgc/test/anchors.test.tsv\"\n",
    "! head -n 10 \"/home/jupyter/jointly_rec_and_search/datasets/kgc/test/anchors.test.tsv\""
   ]
  },
  {
   "cell_type": "code",
   "execution_count": null,
   "id": "a9ca8248-cc12-4d27-ad24-832d9ed5d958",
   "metadata": {},
   "outputs": [],
   "source": []
  }
 ],
 "metadata": {
  "environment": {
   "kernel": "python3",
   "name": "tf2-gpu.2-9.m93",
   "type": "gcloud",
   "uri": "gcr.io/deeplearning-platform-release/tf2-gpu.2-9:m93"
  },
  "kernelspec": {
   "display_name": "Python 3",
   "language": "python",
   "name": "python3"
  },
  "language_info": {
   "codemirror_mode": {
    "name": "ipython",
    "version": 3
   },
   "file_extension": ".py",
   "mimetype": "text/x-python",
   "name": "python",
   "nbconvert_exporter": "python",
   "pygments_lexer": "ipython3",
   "version": "3.7.12"
  }
 },
 "nbformat": 4,
 "nbformat_minor": 5
}
