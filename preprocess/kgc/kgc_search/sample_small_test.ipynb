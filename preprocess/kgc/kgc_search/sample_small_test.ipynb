{
 "cells": [
  {
   "cell_type": "code",
   "execution_count": 5,
   "id": "e9b3d94f-a195-479c-830a-a7a6c10392e8",
   "metadata": {},
   "outputs": [
    {
     "name": "stdout",
     "output_type": "stream",
     "text": [
      "2831003\t# 26506\tis_relevant_to\n",
      "\n",
      "2663502\tbosch washer dryer\tis_relevant_to\n",
      "\n"
     ]
    }
   ],
   "source": [
    "import os \n",
    "import random\n",
    "\n",
    "REL_RELATION = \"is_relevant_to\"\n",
    "\n",
    "in_test_path = \"/home/jupyter/jointly_rec_and_search/datasets/kgc_search/queries.test.tsv\"\n",
    "out_test_path = \"/home/jupyter/jointly_rec_and_search/datasets/kgc_search/queries.test.small.tsv\"\n",
    "\n",
    "in_lines = []\n",
    "with open(in_test_path) as fin:\n",
    "    in_lines = fin.readlines()\n",
    "    \n",
    "print(in_lines[0])\n",
    "random.shuffle(in_lines)\n",
    "print(in_lines[0])\n",
    "\n",
    "with open(out_test_path, \"w\") as fout:\n",
    "    for line in in_lines[:10000]:\n",
    "        fout.write(line)"
   ]
  },
  {
   "cell_type": "code",
   "execution_count": 7,
   "id": "e09a1e57-d7b6-405a-a3dd-ce76462db6dc",
   "metadata": {},
   "outputs": [
    {
     "name": "stdout",
     "output_type": "stream",
     "text": [
      "10000 /home/jupyter/jointly_rec_and_search/datasets/kgc_search/queries.test.small.tsv\n",
      "2663502\tbosch washer dryer\tis_relevant_to\n",
      "2370473\t20' pex\tis_relevant_to\n",
      "2840952\twhirlpool wgd4985ew\tis_relevant_to\n",
      "3058856\tsmartcore sumpter\tis_relevant_to\n",
      "3194754\tdiamond bathroom wall cabinet\tis_relevant_to\n",
      "2451642\tbathroom enclosures\tis_relevant_to\n",
      "2441033\tsmoked pewter\tis_relevant_to\n",
      "2645515\titem #440212\tis_relevant_to\n",
      "2397949\tappliance lifter\tis_relevant_to\n",
      "2614084\t317300\tis_relevant_to\n"
     ]
    }
   ],
   "source": [
    "! wc -l \"/home/jupyter/jointly_rec_and_search/datasets/kgc_search/queries.test.small.tsv\"\n",
    "! head -n 10 \"/home/jupyter/jointly_rec_and_search/datasets/kgc_search/queries.test.small.tsv\""
   ]
  },
  {
   "cell_type": "code",
   "execution_count": null,
   "id": "1d89f6e3-061b-40fa-9993-94aa5f8eec20",
   "metadata": {},
   "outputs": [],
   "source": []
  }
 ],
 "metadata": {
  "environment": {
   "kernel": "python3",
   "name": "tf2-gpu.2-9.m93",
   "type": "gcloud",
   "uri": "gcr.io/deeplearning-platform-release/tf2-gpu.2-9:m93"
  },
  "kernelspec": {
   "display_name": "Python 3",
   "language": "python",
   "name": "python3"
  },
  "language_info": {
   "codemirror_mode": {
    "name": "ipython",
    "version": 3
   },
   "file_extension": ".py",
   "mimetype": "text/x-python",
   "name": "python",
   "nbconvert_exporter": "python",
   "pygments_lexer": "ipython3",
   "version": "3.7.12"
  }
 },
 "nbformat": 4,
 "nbformat_minor": 5
}
