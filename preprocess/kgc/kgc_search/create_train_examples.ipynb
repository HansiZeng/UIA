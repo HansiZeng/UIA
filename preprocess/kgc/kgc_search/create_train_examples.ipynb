{
 "cells": [
  {
   "cell_type": "code",
   "execution_count": 9,
   "id": "a76bca48-cc1e-4879-a3a5-ac80463aa5c3",
   "metadata": {},
   "outputs": [
    {
     "name": "stdout",
     "output_type": "stream",
     "text": [
      "number of (pid,simpid) = 888,642, (pid, complpid) = 316,765, (pid, qid) = 2,923,831, (train_qid, pid) = 3,259,904\n"
     ]
    }
   ],
   "source": [
    "import os \n",
    "import random\n",
    "import pickle\n",
    "from collections import defaultdict\n",
    "\n",
    "import ujson \n",
    "import numpy as np\n",
    "import copy\n",
    "import pandas as pd\n",
    "from tqdm import tqdm\n",
    "\n",
    "np.random.seed(4680)\n",
    "random.seed(4680)\n",
    "\n",
    "SIM_RELATION = \"is_similar_to\"\n",
    "COMPL_RELATION = \"is_complementary_to\"\n",
    "REL_RELATION = \"is_relevant_to\"\n",
    "\n",
    "in_dir = \"/home/jupyter/jointly_rec_and_search/datasets/kgc_search/\"\n",
    "\n",
    "pid_to_simpids = {}\n",
    "pid_to_complpids = {}\n",
    "pid_to_qids = {}\n",
    "\n",
    "with open(os.path.join(in_dir, \"one_hop_relation.pkl\"), \"rb\") as fin:\n",
    "    obj_dict = pickle.load(fin)\n",
    "    \n",
    "    pid_to_simpids = obj_dict[\"item_sim\"]\n",
    "    pid_to_complpids = obj_dict[\"item_compl\"]\n",
    "    pid_to_qids = obj_dict[\"item_rel\"]\n",
    "    \n",
    "train_qid_to_pids = defaultdict(list)\n",
    "with open(os.path.join(in_dir, \"qrels.train.tsv\")) as fin:\n",
    "    for line in fin:\n",
    "        qid, _, pid, _ = line.rstrip().split(\"\\t\")\n",
    "        qid, pid = int(qid), int(pid)\n",
    "        train_qid_to_pids[qid].append(pid)\n",
    "\n",
    "print(\"number of (pid,simpid) = {:,}, (pid, complpid) = {:,}, (pid, qid) = {:,}, (train_qid, pid) = {:,}\".format(\n",
    "    sum([len(xs) for xs in pid_to_simpids.values()]), sum([len(xs) for xs in pid_to_complpids.values()]), \n",
    "    sum([len(xs) for xs in pid_to_qids.values()]), sum([len(xs) for xs in train_qid_to_pids.values()])))"
   ]
  },
  {
   "cell_type": "code",
   "execution_count": 10,
   "id": "25860014-282c-4587-83e6-e4001671c2a2",
   "metadata": {},
   "outputs": [
    {
     "name": "stderr",
     "output_type": "stream",
     "text": [
      "100%|██████████| 763019/763019 [03:04<00:00, 4140.24it/s]\n"
     ]
    },
    {
     "name": "stdout",
     "output_type": "stream",
     "text": [
      "all_pairs = 3,259,904, all_miss = 83,071 (0.025)\n",
      "number of ignore hids = 7158\n"
     ]
    }
   ],
   "source": [
    "from collections import defaultdict\n",
    "\n",
    "all_miss = 0\n",
    "all_pairs = 0\n",
    "max5_pid_to_simpids = {}\n",
    "max5_pid_to_complpids = {}\n",
    "max5_pid_to_qids = {}\n",
    "\n",
    "for train_qid, anchor_pids in tqdm(train_qid_to_pids.items(), total=len(train_qid_to_pids)):\n",
    "    for a_pid in anchor_pids:\n",
    "        if a_pid in pid_to_simpids:\n",
    "            max5_pid_to_simpids[a_pid] = random.sample(pid_to_simpids[a_pid], len(pid_to_simpids[a_pid]))[:5]\n",
    "        if a_pid in pid_to_complpids:\n",
    "            max5_pid_to_complpids[a_pid] = random.sample(pid_to_complpids[a_pid], len(pid_to_complpids[a_pid]))[:5]\n",
    "        if a_pid in pid_to_qids:\n",
    "            max5_pid_to_qids[a_pid] = random.sample(pid_to_qids[a_pid], len(pid_to_qids[a_pid]))[:5]\n",
    "        if all([a_pid not in pid_to_simpids, a_pid not in pid_to_complpids, a_pid not in pid_to_qids]):\n",
    "            all_miss += 1\n",
    "        all_pairs += 1\n",
    "print(\"all_pairs = {:,}, all_miss = {:,} ({:.3f})\".format(all_pairs, all_miss, all_miss/all_pairs))\n",
    "\n",
    "# bm25 run\n",
    "\n",
    "run_path = \"/home/jupyter/jointly_rec_and_search/datasets/kgc_search/runs/bm25.train.run\"\n",
    "df = pd.read_csv(run_path, sep=\" \", names=[\"hid\", \"q0\", \"tid\", \"rank\", \"score\", \"model_name\"])\n",
    "bm25_hid_to_tids = {}\n",
    "ignore_hids = set()\n",
    "for hid, group in df.groupby(\"hid\"):\n",
    "    cand_tids = list(group.tid.values)\n",
    "    if len(cand_tids) < 20:\n",
    "        ignore_hids.add(int(hid))\n",
    "    else:\n",
    "        bm25_hid_to_tids[int(hid)] = [int(x) for x in cand_tids]\n",
    "        \n",
    "print(\"number of ignore hids = {}\".format(len(ignore_hids)))\n"
   ]
  },
  {
   "cell_type": "code",
   "execution_count": 13,
   "id": "0597ce50-4af3-41af-b930-ee5b36255dbd",
   "metadata": {},
   "outputs": [
    {
     "name": "stderr",
     "output_type": "stream",
     "text": [
      "100%|██████████| 763019/763019 [00:12<00:00, 63428.17it/s]\n"
     ]
    },
    {
     "name": "stdout",
     "output_type": "stream",
     "text": [
      "miss_qids = 47,903\n",
      "miss_qids = 47,903\n",
      "---------------------------------------------------------------------------\n",
      "number of miss qids = 47,903\n",
      "duplicate pairs in similar_relation = 27,280\n"
     ]
    }
   ],
   "source": [
    "eid_to_text = {}\n",
    "with open(\"/home/jupyter/jointly_rec_and_search/datasets/kgc_search/all_entites.tsv\") as fin:\n",
    "    for line in fin:\n",
    "        eid, text = line.strip().split(\"\\t\")\n",
    "        eid_to_text[int(eid)] = text\n",
    "\n",
    "out_dir = \"/home/jupyter/jointly_rec_and_search/datasets/kgc_search/train/bm25_neg/\"\n",
    "if not os.path.exists(out_dir):\n",
    "    os.mkdir(out_dir)\n",
    "    \n",
    "# start to create triples\n",
    "miss_triples = 0\n",
    "miss_qids = set()\n",
    "duplicate_pairs = []\n",
    "\n",
    "with open(os.path.join(out_dir, \"max5_triples.train_q2p.tsv\"), \"w\") as fout:\n",
    "    with open(os.path.join(out_dir, \"max2_triples.train_q2p.tsv\"), \"w\") as fout2:\n",
    "        for qid, pos_pids in tqdm(train_qid_to_pids.items(), total=len(train_qid_to_pids)):\n",
    "            cand_triples = []\n",
    "            if qid not in bm25_hid_to_tids:\n",
    "                miss_qids.add(qid)\n",
    "                continue\n",
    "            for pos_pid in pos_pids:\n",
    "                neg_pid = random.sample(bm25_hid_to_tids[qid], k=1)[0]\n",
    "                while neg_pid == pos_pid:\n",
    "                    neg_pid = random.sample(bm25_hid_to_tids[qid], k=1)[0]\n",
    "                cand_triples.append((qid, pos_pid, neg_pid))\n",
    "            \n",
    "            for qid, pos_pid, neg_pid in cand_triples[:5]:\n",
    "                fout.write(f\"{qid}\\t{pos_pid}\\t{neg_pid}\\t{REL_RELATION}\\n\")\n",
    "            for qid, pos_pid, neg_pid in cand_triples[:2]:\n",
    "                fout2.write(f\"{qid}\\t{pos_pid}\\t{neg_pid}\\t{REL_RELATION}\\n\")\n",
    "                \n",
    "print(\"miss_qids = {:,}\".format(len(miss_qids)))\n",
    "\n",
    "with open(os.path.join(out_dir, \"max5_triples.q2p.tsv\"), \"w\") as fout:\n",
    "    with open(os.path.join(out_dir, \"max3_triples.q2p.tsv\"), \"w\") as fout2:\n",
    "        with open(os.path.join(out_dir, \"max1_triples.q2p.tsv\"), \"w\") as fout3:\n",
    "            for pos_pid, qids in max5_pid_to_qids.items():\n",
    "                cand_triples = []\n",
    "                for qid in qids[:5]:\n",
    "                    if qid not in bm25_hid_to_tids:\n",
    "                        miss_qids.add(qid)\n",
    "                        continue\n",
    "                    neg_pid = random.sample(bm25_hid_to_tids[qid], k=1)[0]\n",
    "                    while neg_pid == pos_pid:\n",
    "                        neg_pid = random.sample(bm25_hid_to_tids[qid], k=1)[0]\n",
    "                    cand_triples.append((qid, pos_pid, neg_pid))\n",
    "                    \n",
    "                for qid, pos_pid, neg_pid in cand_triples[:5]:\n",
    "                    fout.write(f\"{qid}\\t{pos_pid}\\t{neg_pid}\\t{REL_RELATION}\\n\")\n",
    "                for qid, pos_pid, neg_pid in cand_triples[:3]:\n",
    "                    fout2.write(f\"{qid}\\t{pos_pid}\\t{neg_pid}\\t{REL_RELATION}\\n\")\n",
    "                for qid, pos_pid, neg_pid in cand_triples[:1]:\n",
    "                    fout3.write(f\"{qid}\\t{pos_pid}\\t{neg_pid}\\t{REL_RELATION}\\n\")\n",
    "\n",
    "print(\"miss_qids = {:,}\".format(len(miss_qids)))\n",
    "\n",
    "with open(os.path.join(out_dir, \"max5_triples.p2sp.tsv\"), \"w\") as fout:\n",
    "    with open(os.path.join(out_dir, \"max3_triples.p2sp.tsv\"), \"w\") as fout2:\n",
    "        with open(os.path.join(out_dir, \"max1_triples.p2sp.tsv\"), \"w\") as fout3:\n",
    "            for pid, sim_pids in max5_pid_to_simpids.items():\n",
    "                assert pid in bm25_hid_to_tids, pid\n",
    "                cand_triples = []\n",
    "                for pos_pid in sim_pids:\n",
    "                    if eid_to_text[pid] == eid_to_text[pos_pid]:\n",
    "                        duplicate_pairs.append((pid, pos_pid))\n",
    "                        continue\n",
    "                    neg_pid = random.sample(range(2_000_000), k=1)[0]\n",
    "                    cand_triples.append((pid, pos_pid, neg_pid))\n",
    "                    \n",
    "                for pid, pos_pid, neg_pid in cand_triples[:5]:\n",
    "                    fout.write(f\"{pid}\\t{pos_pid}\\t{neg_pid}\\t{SIM_RELATION}\\n\")\n",
    "                for pid, pos_pid, neg_pid in cand_triples[:3]:\n",
    "                    fout2.write(f\"{pid}\\t{pos_pid}\\t{neg_pid}\\t{SIM_RELATION}\\n\")\n",
    "                for pid, pos_pid, neg_pid in cand_triples[:1]:\n",
    "                    fout3.write(f\"{pid}\\t{pos_pid}\\t{neg_pid}\\t{SIM_RELATION}\\n\")\n",
    "                    \n",
    "with open(os.path.join(out_dir, \"max5_triples.p2cp.tsv\"), \"w\") as fout:\n",
    "    with open(os.path.join(out_dir, \"max3_triples.p2cp.tsv\"), \"w\") as fout2:\n",
    "        with open(os.path.join(out_dir, \"max1_triples.p2cp.tsv\"), \"w\") as fout3:\n",
    "            for pid, compl_pids in max5_pid_to_complpids.items():\n",
    "                assert pid in bm25_hid_to_tids, pid \n",
    "                cand_triples = []\n",
    "                for pos_pid in compl_pids:\n",
    "                    neg_pid = random.sample(bm25_hid_to_tids[pid], k=1)[0]\n",
    "                    while neg_pid in compl_pids:\n",
    "                        neg_pid = random.sample(bm25_hid_to_tids[pid], k=1)[0]\n",
    "                    cand_triples.append((pid, pos_pid, neg_pid))\n",
    "                \n",
    "                for pid, pos_pid, neg_pid in cand_triples[:5]:\n",
    "                    fout.write(f\"{pid}\\t{pos_pid}\\t{neg_pid}\\t{COMPL_RELATION}\\n\")\n",
    "                for pid, pos_pid, neg_pid in cand_triples[:5]:\n",
    "                    fout2.write(f\"{pid}\\t{pos_pid}\\t{neg_pid}\\t{COMPL_RELATION}\\n\")\n",
    "                for pid, pos_pid, neg_pid in cand_triples[:5]:\n",
    "                    fout3.write(f\"{pid}\\t{pos_pid}\\t{neg_pid}\\t{COMPL_RELATION}\\n\")\n",
    "\n",
    "print(\"-\"*75)\n",
    "print(\"number of miss qids = {:,}\".format(len(miss_qids)))\n",
    "print(\"duplicate pairs in similar_relation = {:,}\".format(len(duplicate_pairs)))"
   ]
  },
  {
   "cell_type": "code",
   "execution_count": 14,
   "id": "9dcf7e74-06f2-4bf3-be37-c02ec13138c1",
   "metadata": {},
   "outputs": [
    {
     "name": "stdout",
     "output_type": "stream",
     "text": [
      "531202 /home/jupyter/jointly_rec_and_search/datasets/kgc_search/train/bm25_neg/max5_triples.p2sp.tsv\n",
      "1909034\t1624640\t1606980\tis_similar_to\n",
      "1909034\t114539\t1899549\tis_similar_to\n",
      "1909034\t1289078\t1681662\tis_similar_to\n",
      "1659246\t1061716\t1348584\tis_similar_to\n",
      "981419\t1413473\t1061334\tis_similar_to\n",
      "981419\t1035097\t614898\tis_similar_to\n",
      "====================================================================================================\n",
      "1744194 /home/jupyter/jointly_rec_and_search/datasets/kgc_search/train/bm25_neg/max5_triples.train_q2p.tsv\n",
      "2798039\t1909034\t2013959\tis_relevant_to\n",
      "2308312\t2039319\t1162673\tis_relevant_to\n",
      "2743211\t829128\t1109469\tis_relevant_to\n",
      "3086481\t1470444\t1252548\tis_relevant_to\n",
      "2805636\t1806689\t674143\tis_relevant_to\n",
      "2742849\t1551045\t1809179\tis_relevant_to\n",
      "====================================================================================================\n",
      "752591 /home/jupyter/jointly_rec_and_search/datasets/kgc_search/train/bm25_neg/max5_triples.q2p.tsv\n",
      "2858855\t1909034\t1591771\tis_relevant_to\n",
      "2611806\t1909034\t280886\tis_relevant_to\n",
      "2265963\t1909034\t1318337\tis_relevant_to\n",
      "3085531\t2025634\t1603117\tis_relevant_to\n",
      "2733127\t1243971\t2256199\tis_relevant_to\n",
      "2733127\t307097\t1342821\tis_relevant_to\n",
      "====================================================================================================\n",
      "209403 /home/jupyter/jointly_rec_and_search/datasets/kgc_search/train/bm25_neg/max5_triples.p2cp.tsv\n",
      "1909034\t1301903\t1948932\tis_complementary_to\n",
      "1909034\t412645\t1784073\tis_complementary_to\n",
      "1909034\t229758\t1474733\tis_complementary_to\n",
      "15123\t1578948\t764904\tis_complementary_to\n",
      "15123\t1912493\t366029\tis_complementary_to\n",
      "15123\t1485892\t2006036\tis_complementary_to\n",
      "====================================================================================================\n"
     ]
    }
   ],
   "source": [
    "# sanity check\n",
    "for path in os.listdir(out_dir):\n",
    "    path = os.path.join(out_dir, path)\n",
    "    if \"max5\" not in path:\n",
    "        continue\n",
    "    ! wc -l $path\n",
    "    ! head -n 3 $path\n",
    "    ! tail -n 3 $path\n",
    "    print(\"=\"*100)"
   ]
  },
  {
   "cell_type": "code",
   "execution_count": 32,
   "id": "f8c6c128-ca2b-4f01-8fdf-7283f4dceb8d",
   "metadata": {},
   "outputs": [
    {
     "name": "stdout",
     "output_type": "stream",
     "text": [
      "15123\tBonnie Plants Zucchini Plant in 11.8-oz Pot ; Vegetable Plants\n",
      "1485892\tBonnie Plants 2-Pack Sweet Basil in 19.3-oz Pot ; Herb Plants\n",
      "1948932\tClean-X Heavy Duty Cotton Mop Cotton Non-wringing String Wet Mop ; Wet Mops\n"
     ]
    }
   ],
   "source": [
    "! grep -P \"^15123\\t\" \"/home/jupyter/jointly_rec_and_search/datasets/kgc_search/all_entites.tsv\"\n",
    "! grep -P \"^1485892\\t\" \"/home/jupyter/jointly_rec_and_search/datasets/kgc_search/all_entites.tsv\"\n",
    "! grep -P \"^1948932\\t\" \"/home/jupyter/jointly_rec_and_search/datasets/kgc_search/all_entites.tsv\""
   ]
  },
  {
   "cell_type": "code",
   "execution_count": 15,
   "id": "6de80283-090b-4a01-a28a-493f9a0de41c",
   "metadata": {},
   "outputs": [
    {
     "name": "stdout",
     "output_type": "stream",
     "text": [
      "1099241 /home/jupyter/jointly_rec_and_search/datasets/kgc_search/train/bm25_neg/max2_triples.train_q2p.tsv\n"
     ]
    }
   ],
   "source": [
    "! wc -l /home/jupyter/jointly_rec_and_search/datasets/kgc_search/train/bm25_neg/max2_triples.train_q2p.tsv"
   ]
  },
  {
   "cell_type": "code",
   "execution_count": null,
   "id": "ead17613-d2bd-41a7-80ef-d942e8079f84",
   "metadata": {},
   "outputs": [],
   "source": []
  }
 ],
 "metadata": {
  "environment": {
   "kernel": "python3",
   "name": "tf2-gpu.2-9.m93",
   "type": "gcloud",
   "uri": "gcr.io/deeplearning-platform-release/tf2-gpu.2-9:m93"
  },
  "kernelspec": {
   "display_name": "Python 3",
   "language": "python",
   "name": "python3"
  },
  "language_info": {
   "codemirror_mode": {
    "name": "ipython",
    "version": 3
   },
   "file_extension": ".py",
   "mimetype": "text/x-python",
   "name": "python",
   "nbconvert_exporter": "python",
   "pygments_lexer": "ipython3",
   "version": "3.7.12"
  }
 },
 "nbformat": 4,
 "nbformat_minor": 5
}
