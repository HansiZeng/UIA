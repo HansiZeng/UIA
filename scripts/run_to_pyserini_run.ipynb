{
 "cells": [
  {
   "cell_type": "code",
   "execution_count": 7,
   "id": "01bfdd88-b2b2-4057-9f2f-3b4579de33a4",
   "metadata": {},
   "outputs": [
    {
     "name": "stdout",
     "output_type": "stream",
     "text": [
      "out_path: /home/jupyter/jointly_rec_and_search/experiments/search/cl-drd/experiment_06-23_232423/runs/pys_checkpoint_5000.run\n",
      "out_path: /home/jupyter/jointly_rec_and_search/experiments/search/cl-drd/experiment_06-23_232423/runs/pys_checkpoint_5000.exclude.run\n"
     ]
    }
   ],
   "source": [
    "from pathlib import Path\n",
    "import os\n",
    "\n",
    "run_prefix = \"/home/jupyter/jointly_rec_and_search/experiments/search/cl-drd/experiment_06-23_232423/runs/checkpoint_5000.test\"\n",
    "out_prefix = os.path.join(Path(run_prefix).parent, \"pys_\" + Path(run_prefix).stem)\n",
    "\n",
    "for suffix in [\".run\", \".exclude.run\"]:\n",
    "    run_path = run_prefix + suffix\n",
    "    out_path = out_prefix + suffix\n",
    "    \n",
    "    with open(run_path) as fin:\n",
    "        with open(out_path, \"w\") as fout:\n",
    "            for line in fin:\n",
    "                qid, pid, rank, score = line.strip().split(\"\\t\")\n",
    "                fout.write(f\"{qid}\\tQ0\\t{pid}\\t{rank}\\t{score}\\tCL-DRD\\n\")\n",
    "                \n",
    "    print(\"out_path: {}\".format(out_path))"
   ]
  },
  {
   "cell_type": "code",
   "execution_count": 5,
   "id": "f54fc87e-ba83-4f0a-8ac6-c90f8a593a31",
   "metadata": {},
   "outputs": [
    {
     "data": {
      "text/plain": [
       "'/home/jupyter/jointly_rec_and_search/datasets/rec_search/search/runs/pys_boosted_dr_model.exclude.run'"
      ]
     },
     "execution_count": 5,
     "metadata": {},
     "output_type": "execute_result"
    }
   ],
   "source": [
    "out_path"
   ]
  },
  {
   "cell_type": "code",
   "execution_count": 6,
   "id": "b61e14fa-0518-473d-b425-fc4c0483af72",
   "metadata": {},
   "outputs": [
    {
     "data": {
      "text/plain": [
       "['123', '44123']"
      ]
     },
     "execution_count": 6,
     "metadata": {},
     "output_type": "execute_result"
    }
   ],
   "source": [
    "x = [\"123\"]\n",
    "y = [\"44123\"]\n",
    "\n",
    "x + y"
   ]
  },
  {
   "cell_type": "code",
   "execution_count": null,
   "id": "b1e3288a-914a-4401-a65a-4972861e0e5d",
   "metadata": {},
   "outputs": [],
   "source": []
  }
 ],
 "metadata": {
  "environment": {
   "kernel": "python3",
   "name": "tf2-gpu.2-9.m93",
   "type": "gcloud",
   "uri": "gcr.io/deeplearning-platform-release/tf2-gpu.2-9:m93"
  },
  "kernelspec": {
   "display_name": "Python 3",
   "language": "python",
   "name": "python3"
  },
  "language_info": {
   "codemirror_mode": {
    "name": "ipython",
    "version": 3
   },
   "file_extension": ".py",
   "mimetype": "text/x-python",
   "name": "python",
   "nbconvert_exporter": "python",
   "pygments_lexer": "ipython3",
   "version": "3.7.12"
  }
 },
 "nbformat": 4,
 "nbformat_minor": 5
}
