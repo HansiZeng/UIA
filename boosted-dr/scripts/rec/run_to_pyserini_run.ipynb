{
 "cells": [
  {
   "cell_type": "code",
   "execution_count": 18,
   "id": "01bfdd88-b2b2-4057-9f2f-3b4579de33a4",
   "metadata": {},
   "outputs": [
    {
     "name": "stdout",
     "output_type": "stream",
     "text": [
      "out_path: /home/jupyter/jointly_rec_and_search/datasets/rec_search/rec/runs/pys_boosted_dr_model.test.run\n",
      "out_path: /home/jupyter/jointly_rec_and_search/datasets/rec_search/rec/runs/pys_boosted_dr_model.test.exclude.run\n"
     ]
    }
   ],
   "source": [
    "from pathlib import Path\n",
    "import os\n",
    "\n",
    "run_prefix = \"/home/jupyter/jointly_rec_and_search/datasets/rec_search/rec/runs/boosted_dr_model.test\"\n",
    "out_prefix = os.path.join(Path(run_prefix).parent, \"pys_\" + Path(run_prefix).name)\n",
    "\n",
    "for suffix in [\".run\", \".exclude.run\"]:\n",
    "    run_path = run_prefix + suffix\n",
    "    out_path = out_prefix + suffix\n",
    "    \n",
    "    with open(run_path) as fin:\n",
    "        with open(out_path, \"w\") as fout:\n",
    "            for line in fin:\n",
    "                qid, pid, rank, score = line.strip().split(\"\\t\")\n",
    "                fout.write(f\"{qid}\\tQ0\\t{pid}\\t{rank}\\t{score}\\tCL-DRD\\n\")\n",
    "                \n",
    "    print(\"out_path: {}\".format(out_path))"
   ]
  },
  {
   "cell_type": "code",
   "execution_count": 21,
   "id": "f54fc87e-ba83-4f0a-8ac6-c90f8a593a31",
   "metadata": {},
   "outputs": [
    {
     "name": "stdout",
     "output_type": "stream",
     "text": [
      "2137429\tQ0\t2137429\t1\t119.7808609008789\tCL-DRD\n",
      "2137429\tQ0\t2073548\t2\t119.1684341430664\tCL-DRD\n",
      "2137429\tQ0\t2137430\t3\t119.00465393066406\tCL-DRD\n",
      "2137429\tQ0\t1758872\t4\t118.83488464355469\tCL-DRD\n",
      "2137429\tQ0\t2137431\t5\t118.70101165771484\tCL-DRD\n",
      "2137429\tQ0\t2073544\t6\t118.2001953125\tCL-DRD\n",
      "2137429\tQ0\t54798\t7\t117.89772033691406\tCL-DRD\n",
      "2137429\tQ0\t2073545\t8\t117.87535095214844\tCL-DRD\n",
      "2137429\tQ0\t2073546\t9\t117.70951080322266\tCL-DRD\n",
      "2137429\tQ0\t1026963\t10\t117.57288360595703\tCL-DRD\n",
      "2137429\tQ0\t1716088\t11\t117.33304595947266\tCL-DRD\n",
      "2137429\tQ0\t1758870\t12\t117.2552261352539\tCL-DRD\n",
      "2137429\tQ0\t2073547\t13\t117.22797393798828\tCL-DRD\n",
      "2137429\tQ0\t1658571\t14\t117.10800170898438\tCL-DRD\n",
      "2137429\tQ0\t2194763\t15\t117.08439636230469\tCL-DRD\n",
      "2137429\tQ0\t1624830\t16\t116.91657257080078\tCL-DRD\n",
      "2137429\tQ0\t54827\t17\t116.91407012939453\tCL-DRD\n",
      "2137429\tQ0\t1758866\t18\t116.8656005859375\tCL-DRD\n",
      "2137429\tQ0\t2115612\t19\t116.82229614257812\tCL-DRD\n",
      "2137429\tQ0\t2165826\t20\t116.817626953125\tCL-DRD\n"
     ]
    }
   ],
   "source": [
    "! head -n 120020 $out_path | tail -n 20"
   ]
  },
  {
   "cell_type": "code",
   "execution_count": 2,
   "id": "b61e14fa-0518-473d-b425-fc4c0483af72",
   "metadata": {},
   "outputs": [
    {
     "name": "stdout",
     "output_type": "stream",
     "text": [
      "bm25.test.exclude.run  boosted_dr_model.test.exclude.run\n",
      "bm25.test.run\t       boosted_dr_model.test.run\n",
      "bm25.train.run\n"
     ]
    }
   ],
   "source": [
    "! ls  \"/home/jupyter/jointly_rec_and_search/datasets/rec_search/rec/runs/\""
   ]
  },
  {
   "cell_type": "code",
   "execution_count": 10,
   "id": "b1e3288a-914a-4401-a65a-4972861e0e5d",
   "metadata": {},
   "outputs": [
    {
     "name": "stdout",
     "output_type": "stream",
     "text": [
      "2049526\tQ0\t2259846\t1\t122.89533996582031\tCL-DRD\n",
      "2049526\tQ0\t2106705\t2\t122.8622817993164\tCL-DRD\n",
      "2049526\tQ0\t2259262\t3\t121.94223022460938\tCL-DRD\n",
      "2049526\tQ0\t91779\t4\t121.67950439453125\tCL-DRD\n",
      "2049526\tQ0\t2049526\t5\t121.64710998535156\tCL-DRD\n",
      "2049526\tQ0\t1424202\t6\t121.64273071289062\tCL-DRD\n",
      "2049526\tQ0\t2260390\t7\t121.41275787353516\tCL-DRD\n",
      "2049526\tQ0\t2258638\t8\t121.4036636352539\tCL-DRD\n",
      "2049526\tQ0\t2259091\t9\t121.29656982421875\tCL-DRD\n",
      "2049526\tQ0\t20518\t10\t121.26787567138672\tCL-DRD\n",
      "2049526\tQ0\t2258643\t11\t121.26718139648438\tCL-DRD\n",
      "2049526\tQ0\t91405\t12\t120.68930053710938\tCL-DRD\n",
      "2049526\tQ0\t1622953\t13\t120.62593078613281\tCL-DRD\n",
      "2049526\tQ0\t2259784\t14\t120.55506134033203\tCL-DRD\n",
      "2049526\tQ0\t2191709\t15\t120.46845245361328\tCL-DRD\n",
      "2049526\tQ0\t539358\t16\t120.4117660522461\tCL-DRD\n",
      "2049526\tQ0\t2075609\t17\t120.3591079711914\tCL-DRD\n",
      "2049526\tQ0\t2259267\t18\t120.22386169433594\tCL-DRD\n",
      "2049526\tQ0\t1447804\t19\t120.08882904052734\tCL-DRD\n",
      "2049526\tQ0\t2049556\t20\t120.0788803100586\tCL-DRD\n"
     ]
    }
   ],
   "source": [
    "! head -n 120020 /home/jupyter/jointly_rec_and_search/datasets/rec_search/rec/runs/pys_boosted_dr_model.run | tail -n 20"
   ]
  },
  {
   "cell_type": "code",
   "execution_count": 17,
   "id": "0fe8313d-ed31-4de8-8251-d7cfb91f9706",
   "metadata": {},
   "outputs": [],
   "source": [
    "! rm /home/jupyter/jointly_rec_and_search/datasets/rec_search/rec/runs/pys_boosted_dr_model.exclude.run"
   ]
  },
  {
   "cell_type": "code",
   "execution_count": 16,
   "id": "88125d0a-9df3-45db-b2d6-73996430b182",
   "metadata": {},
   "outputs": [
    {
     "name": "stdout",
     "output_type": "stream",
     "text": [
      "bm25.test.exclude.run  boosted_dr_model.test.exclude.run\n",
      "bm25.test.run\t       boosted_dr_model.test.run\n",
      "bm25.train.run\t       pys_boosted_dr_model.exclude.run\n"
     ]
    }
   ],
   "source": [
    "! ls /home/jupyter/jointly_rec_and_search/datasets/rec_search/rec/runs/"
   ]
  },
  {
   "cell_type": "code",
   "execution_count": null,
   "id": "e25cd648-d549-438f-9758-629e0622b836",
   "metadata": {},
   "outputs": [],
   "source": []
  }
 ],
 "metadata": {
  "environment": {
   "kernel": "python3",
   "name": "tf2-gpu.2-9.m93",
   "type": "gcloud",
   "uri": "gcr.io/deeplearning-platform-release/tf2-gpu.2-9:m93"
  },
  "kernelspec": {
   "display_name": "Python 3",
   "language": "python",
   "name": "python3"
  },
  "language_info": {
   "codemirror_mode": {
    "name": "ipython",
    "version": 3
   },
   "file_extension": ".py",
   "mimetype": "text/x-python",
   "name": "python",
   "nbconvert_exporter": "python",
   "pygments_lexer": "ipython3",
   "version": "3.7.12"
  }
 },
 "nbformat": 4,
 "nbformat_minor": 5
}
