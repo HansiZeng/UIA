{
 "cells": [
  {
   "cell_type": "code",
   "execution_count": 51,
   "id": "792ab847-1c27-4428-bf6b-15ce2e19cf1e",
   "metadata": {},
   "outputs": [],
   "source": [
    "from evaluation.retrieval_evaluator import RankingEvaluator\n",
    "\n",
    "qrels_path = \"/home/jupyter/jointly_rec_and_search/datasets/rec_search/search_compl/qrels.test.tsv\"\n",
    "ranking_path_1 = \"/home/jupyter/jointly_rec_and_search/experiments/search_compl/cl-drd/experiment_07-04_190815/runs/checkpoint_latest.test.run\"\n",
    "ranking_path_2 = \"/home/jupyter/jointly_rec_and_search/experiments/search_compl/cl-drd/experiment_07-04_193509/runs/checkpoint_latest.test.run\"\n",
    "evaluator = RankingEvaluator(qrels_path, is_trec=False, show_progress_bar=True)\n",
    "xs = evaluator.compute_metrics(ranking_path_1, return_per_query=True)\n",
    "ys = evaluator.compute_metrics(ranking_path_2, return_per_query=True)"
   ]
  },
  {
   "cell_type": "code",
   "execution_count": 52,
   "id": "5469c5c9-e5fa-4544-ba5d-f91e1e5a90ea",
   "metadata": {},
   "outputs": [],
   "source": [
    "import numpy as np\n",
    "ndcg_1 = xs[1][2][1]\n",
    "ndcg_2 = ys[1][2][1]\n",
    "diffs = ndcg_2 - ndcg_1\n",
    "indices = np.argsort(diffs)\n",
    "\n",
    "cutoff = 20\n",
    "qidx_to_qid = xs[2]\n",
    "qrels = xs[3]\n",
    "largest_qids = [qidx_to_qid[int(idx)] for idx in indices[-cutoff:]]\n",
    "\n",
    "smallest_qids = [qidx_to_qid[int(idx)] for idx in indices[:cutoff]]\n"
   ]
  },
  {
   "cell_type": "code",
   "execution_count": 53,
   "id": "d7608346-61bc-4939-83de-2e29d214ad63",
   "metadata": {},
   "outputs": [],
   "source": [
    "queries_path = \"/home/jupyter/jointly_rec_and_search/datasets/rec_search/search_compl/queries.test.tsv\"\n",
    "qid_to_query = {}\n",
    "with open(queries_path) as fin:\n",
    "    for line in fin:\n",
    "        qid, query = line.rstrip().split(\"\\t\")\n",
    "        qid_to_query[int(qid)] = query"
   ]
  },
  {
   "cell_type": "code",
   "execution_count": 55,
   "id": "220ad34a-6555-43e8-940b-cd02f2fc2d99",
   "metadata": {},
   "outputs": [
    {
     "name": "stdout",
     "output_type": "stream",
     "text": [
      "25531 4 x 4 lumber 3\n",
      "80979 dishwasher 2593008 2\n",
      "145532 naptha 2\n",
      "35340 75 gallon hot water heater 2\n",
      "18033 2x6 16 ft 1\n",
      "148827 osb roof sheathing 1\n",
      "25671 4 x4 8ft treated joists 1\n",
      "96367 flex glue black 1\n",
      "114426 herschel hickory floor 1\n",
      "226330 z515e 3\n",
      "57569 bright white spray paint 1\n",
      "34345 6x6x12 treated lumber 1\n",
      "152564 over range microwave with exhaust white 1\n",
      "190179 soaker hose 75ft 1\n",
      "2488 1/2 pex coupler 1\n",
      "21197 3/8-16 hex nut 1\n",
      "131886 lg 26.2 french door 1\n",
      "39180 ac filter 10x10x1 1\n",
      "112768 harbor breeze ceiling fan 52 1\n",
      "221154 window 71.5 x 59.5 1\n",
      "---------------------------------------------------------------------------\n",
      "4 x 4 lumber; dishwasher 2593008; naptha; 75 gallon hot water heater; 2x6 16 ft\n",
      "---------------------------------------------------------------------------\n",
      "125610 kobalt rail hooks 1\n",
      "193862 stainless steel eye hook 1\n",
      "86503 dyson animal 2 1\n",
      "2141 1/2 hp water pump 1\n",
      "81013 dishwasher bosch 500 1\n",
      "17151 2x12x12ft pressure treated 1\n",
      "112751 harbor breeze bradbury ceiling fans 1\n",
      "121039 j channel clay 2\n",
      "176898 rubbing stone 1\n",
      "139127 melrose patio table 1\n",
      "125458 kobalt lawn mower corded 1\n",
      "155859 peanut oil 1\n",
      "17153 2x12x12pressure treated 1\n",
      "106636 genuine stone dapper white 1\n",
      "3729 1/4\" white mdf panels 1\n",
      "7313 12x12 riverdale sand mosaic 1\n",
      "19480 3\" pvc 90 elbow 1\n",
      "29432 4×4×8 treated post 1\n",
      "79943 dewalt planer 735 1\n",
      "188812 small galvanized garbage can 1\n"
     ]
    }
   ],
   "source": [
    "for qid in largest_qids:\n",
    "    print(qid, qid_to_query[qid], len(qrels[qid]))\n",
    "print(\"-\"*75)\n",
    "print(\"; \".join([qid_to_query[qid] for qid in largest_qids[:5]]))\n",
    "print(\"-\"*75)\n",
    "for qid in smallest_qids:\n",
    "    print(qid, qid_to_query[qid], len(qrels[qid]))"
   ]
  },
  {
   "cell_type": "code",
   "execution_count": 43,
   "id": "a8a63a62-e32f-4b10-a6fa-b46f25763bb0",
   "metadata": {},
   "outputs": [
    {
     "data": {
      "text/plain": [
       "<matplotlib.collections.PathCollection at 0x7ff6bb05f850>"
      ]
     },
     "execution_count": 43,
     "metadata": {},
     "output_type": "execute_result"
    },
    {
     "data": {
      "image/png": "[encoded data removed]",
      "text/plain": [
       "<Figure size 432x288 with 1 Axes>"
      ]
     },
     "metadata": {
      "needs_background": "light"
     },
     "output_type": "display_data"
    }
   ],
   "source": [
    "all_qids = [qidx_to_qid[int(idx)] for idx in indices]\n",
    "all_lengths = [len(qrels[qid]) for qid in all_qids]\n",
    "all_diffs = diffs[indices]\n",
    "\n",
    "import matplotlib.pyplot as plt\n",
    "plt.scatter(all_diffs, all_lengths, s=1)"
   ]
  },
  {
   "cell_type": "code",
   "execution_count": 41,
   "id": "e31c479d-b8bc-45bc-b463-bd58c91ec0b5",
   "metadata": {},
   "outputs": [],
   "source": [
    "from transformers import AutoTokenizer\n",
    "tokenizer = AutoTokenizer.from_pretrained(\"bert-base-uncased\")\n",
    "\n",
    "sorted_qids = {qidx_to_qid[int(idx)] for idx in indices}\n",
    "sorted_queries = [qid_to_query[qid] for qid in sorted_qids]\n",
    "sorted_lengths = []\n",
    "\n",
    "start_idx = 0\n",
    "bz = 32\n",
    "while start_idx <= len(sorted_queries):\n",
    "    mask = tokenizer(sorted_queries[start_idx:start_idx+bz],padding=True, truncation='longest_first', return_tensors=\"pt\")[\"attention_mask\"]\n",
    "    sorted_lengths += mask.sum(dim=-1).tolist()\n",
    "    start_idx += bz"
   ]
  },
  {
   "cell_type": "code",
   "execution_count": 42,
   "id": "6a3ab538-2c27-46ae-8cc4-5d572398fe33",
   "metadata": {},
   "outputs": [
    {
     "data": {
      "text/plain": [
       "<matplotlib.collections.PathCollection at 0x7ff728321c10>"
      ]
     },
     "execution_count": 42,
     "metadata": {},
     "output_type": "execute_result"
    },
    {
     "data": {
      "image/png": "[encoded data removed]",
      "text/plain": [
       "<Figure size 432x288 with 1 Axes>"
      ]
     },
     "metadata": {
      "needs_background": "light"
     },
     "output_type": "display_data"
    }
   ],
   "source": [
    "plt.scatter(all_diffs, sorted_lengths, s=1)"
   ]
  },
  {
   "cell_type": "code",
   "execution_count": 47,
   "id": "66462a70-413d-4ba9-985e-29647ef79f21",
   "metadata": {},
   "outputs": [
    {
     "data": {
      "text/plain": [
       "<matplotlib.collections.PathCollection at 0x7ff6ba9fed90>"
      ]
     },
     "execution_count": 47,
     "metadata": {},
     "output_type": "execute_result"
    },
    {
     "data": {
      "image/png": "[encoded data removed]",
      "text/plain": [
       "<Figure size 432x288 with 1 Axes>"
      ]
     },
     "metadata": {
      "needs_background": "light"
     },
     "output_type": "display_data"
    }
   ],
   "source": [
    "sorted_qids = {qidx_to_qid[int(idx)] for idx in indices}\n",
    "sorted_queries = [qid_to_query[qid] for qid in sorted_qids]\n",
    "sorted_lengths = []\n",
    "\n",
    "start_idx = 0\n",
    "bz = 32\n",
    "for query in sorted_queries:\n",
    "    sorted_lengths.append(sum([char.isdigit() for char in query]))\n",
    "    \n",
    "plt.scatter(all_diffs, sorted_lengths, s=1)"
   ]
  },
  {
   "cell_type": "code",
   "execution_count": null,
   "id": "59d76744-5ac7-4da6-bfdb-71cde7071a11",
   "metadata": {},
   "outputs": [],
   "source": []
  }
 ],
 "metadata": {
  "environment": {
   "kernel": "python3",
   "name": "tf2-gpu.2-9.m93",
   "type": "gcloud",
   "uri": "gcr.io/deeplearning-platform-release/tf2-gpu.2-9:m93"
  },
  "kernelspec": {
   "display_name": "Python 3",
   "language": "python",
   "name": "python3"
  },
  "language_info": {
   "codemirror_mode": {
    "name": "ipython",
    "version": 3
   },
   "file_extension": ".py",
   "mimetype": "text/x-python",
   "name": "python",
   "nbconvert_exporter": "python",
   "pygments_lexer": "ipython3",
   "version": "3.7.12"
  }
 },
 "nbformat": 4,
 "nbformat_minor": 5
}
