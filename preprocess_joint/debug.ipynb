{
 "cells": [
  {
   "cell_type": "code",
   "execution_count": 3,
   "id": "1dc99222-ebae-438e-90e9-7ff8cfabde6b",
   "metadata": {},
   "outputs": [],
   "source": [
    "qid_pids = []\n",
    "with open(\"/home/jupyter/jointly_rec_and_search/datasets/jointly_rec_and_search/exclude_train_queries/test_query_qrels.tsv\") as fin:\n",
    "    for line in fin:\n",
    "        qid,_, pid, _ = line.strip().split(\"\\t\")\n",
    "        qid_pids.append(qid+\"sep\"+pid)\n"
   ]
  },
  {
   "cell_type": "code",
   "execution_count": 4,
   "id": "50860c1a-d3cb-48b0-82dd-3526d08c74b3",
   "metadata": {},
   "outputs": [
    {
     "data": {
      "text/plain": [
       "(32054, 32054)"
      ]
     },
     "execution_count": 4,
     "metadata": {},
     "output_type": "execute_result"
    }
   ],
   "source": [
    "len(qid_pids), len(set(qid_pids))"
   ]
  },
  {
   "cell_type": "code",
   "execution_count": 8,
   "id": "e46af957-998b-4e23-b912-147db74edb63",
   "metadata": {},
   "outputs": [
    {
     "name": "stdout",
     "output_type": "stream",
     "text": [
      "32054\n",
      "6398\n",
      "207\n"
     ]
    }
   ],
   "source": [
    "import pandas as pd\n",
    "\n",
    "df = pd.read_csv(\"/home/jupyter/jointly_rec_and_search/datasets/jointly_rec_and_search/exclude_train_queries/test_query_qrels_clicknum.tsv\",\n",
    "                sep=\"\\t\", names=[\"qid\", \"pid\", \"click_num\"])\n",
    "print(len(df))\n",
    "print(len(df[df.click_num >=2]))\n",
    "print(len(df[df.click_num >=5]))"
   ]
  },
  {
   "cell_type": "code",
   "execution_count": 12,
   "id": "7d8218d7-3bdc-4660-a35b-24fb5d08c0dc",
   "metadata": {},
   "outputs": [
    {
     "name": "stdout",
     "output_type": "stream",
     "text": [
      "32054 32054 True\n"
     ]
    }
   ],
   "source": [
    "qrel_qids = set()\n",
    "with open(\"/home/jupyter/jointly_rec_and_search/datasets/jointly_rec_and_search/exclude_train_queries/test_query_qrels.tsv\") as fin:\n",
    "    for line in fin:\n",
    "        qid, _, _, _ = line.strip().split(\"\\t\")\n",
    "        qrel_qids.add(int(qid))\n",
    "\n",
    "test_qids = set()\n",
    "with open(\"/home/jupyter/jointly_rec_and_search/datasets/jointly_rec_and_search/exclude_train_queries/test_queries.tsv\") as fin:\n",
    "    for line in fin:\n",
    "        qid, _= line.strip().split(\"\\t\")\n",
    "        test_qids.add(int(qid))\n",
    "\n",
    "print(len(qrel_qids), len(test_qids), qrel_qids == test_qids)\n"
   ]
  },
  {
   "cell_type": "code",
   "execution_count": 13,
   "id": "58f134a0-e788-4bf9-b7c2-0c6981662342",
   "metadata": {},
   "outputs": [
    {
     "name": "stdout",
     "output_type": "stream",
     "text": [
      "621268\n",
      "115061\n",
      "29190\n"
     ]
    }
   ],
   "source": [
    "import pandas as pd\n",
    "\n",
    "df = pd.read_csv(\"/home/jupyter/jointly_rec_and_search/datasets/jointly_rec_and_search/train_query_qrels_clicknum.tsv\",\n",
    "                sep=\"\\t\", names=[\"qid\", \"pid\", \"click_num\"])\n",
    "print(len(df))\n",
    "print(len(df[df.click_num >=2]))\n",
    "print(len(df[df.click_num >=5]))"
   ]
  },
  {
   "cell_type": "code",
   "execution_count": null,
   "id": "ee022357-aa0f-4ca5-99a2-4f6cdb2afc71",
   "metadata": {},
   "outputs": [],
   "source": []
  }
 ],
 "metadata": {
  "environment": {
   "kernel": "python3",
   "name": "tf2-gpu.2-9.m93",
   "type": "gcloud",
   "uri": "gcr.io/deeplearning-platform-release/tf2-gpu.2-9:m93"
  },
  "kernelspec": {
   "display_name": "Python 3",
   "language": "python",
   "name": "python3"
  },
  "language_info": {
   "codemirror_mode": {
    "name": "ipython",
    "version": 3
   },
   "file_extension": ".py",
   "mimetype": "text/x-python",
   "name": "python",
   "nbconvert_exporter": "python",
   "pygments_lexer": "ipython3",
   "version": "3.7.12"
  }
 },
 "nbformat": 4,
 "nbformat_minor": 5
}
