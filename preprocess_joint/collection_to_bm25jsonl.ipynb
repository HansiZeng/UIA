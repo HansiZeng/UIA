{
 "cells": [
  {
   "cell_type": "code",
   "execution_count": 9,
   "id": "8149c8a0-edb0-4398-8eca-b881337ac464",
   "metadata": {},
   "outputs": [],
   "source": [
    "import ujson\n",
    "import os \n",
    "\n",
    "pids = []\n",
    "in_path = \"/home/jupyter/jointly_rec_and_search/datasets/jointly_rec_and_search/collection.tsv\"\n",
    "out_path = \"/home/jupyter/jointly_rec_and_search/datasets/jointly_rec_and_search/products.jsonl\"\n",
    "with open(in_path) as fin:\n",
    "    with open(out_path, \"w\") as fout:\n",
    "        for line in fin:\n",
    "            pid, content = line.strip().split(\"\\t\")\n",
    "            example = {\"id\": int(pid), \"contents\": content}\n",
    "            fout.write(ujson.dumps(example) + \"\\n\")\n",
    "            pids.append(int(pid))"
   ]
  },
  {
   "cell_type": "code",
   "execution_count": 10,
   "id": "269ddf95-a2b2-45fa-99bd-e5a6f2663624",
   "metadata": {},
   "outputs": [
    {
     "name": "stdout",
     "output_type": "stream",
     "text": [
      "1987188 /home/jupyter/jointly_rec_and_search/datasets/jointly_rec_and_search/products.jsonl\n",
      "{\"id\":0,\"contents\":\"Kobalt 7-in 6.5-Amp Wet Tabletop Tile Saw 7-in wet tabletop tile saw is designed to rip cut 18-in tile and diagonally cut 12-in tile with a 1-1\\/4-in max depth of cut Includes a 7-inch blade and 2 AAA batteries for the laser - an optional stand is sold separately, online only Aluminum extension table supports larger tile projects and increases rip capacity up to 26-in Built-in laser guide provides precise alignment Table tilts for accurate 22.5\\u00b0 and 45\\u00b0 bevel cuts Miter gauge slides for precise cuts up to 45\\u00b0, so you can begin at your desired angle without worrying about creeping during cuts 20-in aluminum rip fence slides and locks securely to ensure accurate and clean cuts Includes 7-in blade and 2 AAA batteries for the laser 6.5-amp motor generates up to 3,450-RPM to easily cut ceramic, porcelain, natural stone and glass\\/mosaic tile\"}\n",
      "{\"id\":1,\"contents\":\"So Phresh So Phresh X-Large Leak Guard Quilted Potty Pads, Count of 10 Pads feature attractant making for great dog training pads for puppies X-Large Leak Guard Dog Pads by So Phresh Non-skid backing ensures dog pad stays where it has been placed to protect your floor Five ultra-absorbent layers soak hold up to five cups of liquid to help protect your floors Quick-dry technology in the top layer of these dog pee pads helps prevent tracking of wet paws\"}\n",
      "{\"id\":1987186,\"contents\":\"Mansfield 3-in Dual Flush Tower - Summit DF 3-in flush valve 1.1 gpf and 1.6 gpf low water consumption Fits Mansfield Summit dual flush toilets (tank model 3386) Dual flush\"}\n",
      "{\"id\":1987187,\"contents\":\"Korky Red 3-in Flush Valve Seal for American Standard, Kohler Replaces American Standard Seal: 738651-0070A Exclusive longest lasting red rubber resists chlorine Made in the USA Includes: (1) Kohler tower style seal, (1) American Standard&#174; tower style seal Replaces Kohler Seal: GP1059291 5 Year warranty Easy installation\"}\n"
     ]
    }
   ],
   "source": [
    "! wc -l /home/jupyter/jointly_rec_and_search/datasets/jointly_rec_and_search/products.jsonl\n",
    "! head -n 2 /home/jupyter/jointly_rec_and_search/datasets/jointly_rec_and_search/products.jsonl\n",
    "! tail -n 2 /home/jupyter/jointly_rec_and_search/datasets/jointly_rec_and_search/products.jsonl"
   ]
  },
  {
   "cell_type": "code",
   "execution_count": 11,
   "id": "32111440-185b-4bd5-a974-791a77d876e0",
   "metadata": {},
   "outputs": [
    {
     "data": {
      "text/plain": [
       "(1987188, 1987188)"
      ]
     },
     "execution_count": 11,
     "metadata": {},
     "output_type": "execute_result"
    }
   ],
   "source": [
    "len(pids), len(set(pids))"
   ]
  },
  {
   "cell_type": "code",
   "execution_count": null,
   "id": "15e1fd69-bcb5-4f1c-95fc-7b40cf192260",
   "metadata": {},
   "outputs": [],
   "source": []
  }
 ],
 "metadata": {
  "environment": {
   "kernel": "python3",
   "name": "tf2-gpu.2-9.m93",
   "type": "gcloud",
   "uri": "gcr.io/deeplearning-platform-release/tf2-gpu.2-9:m93"
  },
  "kernelspec": {
   "display_name": "Python 3",
   "language": "python",
   "name": "python3"
  },
  "language_info": {
   "codemirror_mode": {
    "name": "ipython",
    "version": 3
   },
   "file_extension": ".py",
   "mimetype": "text/x-python",
   "name": "python",
   "nbconvert_exporter": "python",
   "pygments_lexer": "ipython3",
   "version": "3.7.12"
  }
 },
 "nbformat": 4,
 "nbformat_minor": 5
}
