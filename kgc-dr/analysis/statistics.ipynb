{
 "cells": [
  {
   "cell_type": "code",
   "execution_count": 1,
   "id": "26204c72-6766-4035-8c2e-9a4f61105aae",
   "metadata": {},
   "outputs": [
    {
     "name": "stderr",
     "output_type": "stream",
     "text": [
      "/opt/conda/lib/python3.7/site-packages/numpy/lib/arraysetops.py:580: FutureWarning: elementwise comparison failed; returning scalar instead, but in the future will perform elementwise comparison\n",
      "  mask |= (ar1 == a)\n"
     ]
    }
   ],
   "source": [
    "import os \n",
    "import pandas as pd\n",
    "import numpy as np\n",
    "from collections import defaultdict\n",
    "\n",
    "lowes_dir = \"/home/jupyter/unity_jointly_rec_and_search/datasets/unified_user/\"\n",
    "lowes_search_path = os.path.join(lowes_dir, \"train_searchs.csv\")\n",
    "lowes_sim_path = os.path.join(lowes_dir, \"train_sim_recs.csv\")\n",
    "lowes_compl_path = os.path.join(lowes_dir, \"train_compl_recs.csv\")\n",
    "\n",
    "with open(lowes_search_path) as fin:\n",
    "    lowes_search = pd.read_csv(fin, index_col=0)\n",
    "with open(lowes_sim_path) as fin:\n",
    "    lowes_sim = pd.read_csv(fin, index_col=0)\n",
    "with open(lowes_compl_path) as fin:\n",
    "    lowes_compl = pd.read_csv(fin, index_col=0)\n",
    "    "
   ]
  },
  {
   "cell_type": "code",
   "execution_count": 2,
   "id": "98559056-7aff-4d8a-a7af-57b440e02525",
   "metadata": {},
   "outputs": [
    {
     "name": "stdout",
     "output_type": "stream",
     "text": [
      "unique qids, pids for search, average length = 633,449, 277,061, 3.819\n",
      "unique aids, pids for sim_rec, average length = 97,888, 71,278, 3.417\n",
      "unique aids, pids for compl_rec, average length = 18,543, 15,606, 3.108\n",
      "relpids and simpids intersect rate = 0.337\n",
      "relpids and complpids intersect rate = 0.084\n",
      "simpids and complpids intersect rate = 0.168\n"
     ]
    }
   ],
   "source": [
    "lowes_search[\"rel_pids\"] = lowes_search[\"rel_pids\"].apply(lambda x: eval(x))\n",
    "lowes_sim[\"sim_pids\"] = lowes_sim[\"sim_pids\"].apply(lambda x: eval(x))\n",
    "lowes_compl[\"compl_pids\"] = lowes_compl[\"compl_pids\"].apply(lambda x: eval(x))\n",
    "\n",
    "qid_to_relpids = defaultdict(set)\n",
    "for qid, relpids in zip(lowes_search.qid, lowes_search.rel_pids):\n",
    "    qid_to_relpids[qid].update(relpids)\n",
    "aid_to_simpids = defaultdict(set)\n",
    "for aid, simpids in zip(lowes_sim.aid, lowes_sim.sim_pids):\n",
    "    aid_to_simpids[aid].update(simpids)\n",
    "aid_to_complpids = defaultdict(set)\n",
    "for aid, complpids in zip(lowes_compl.aid, lowes_compl.compl_pids):\n",
    "    aid_to_complpids[aid].update(complpids)\n",
    "\n",
    "print(\"unique qids, pids for search, average length = {:,}, {:,}, {:.3f}\".format(len(lowes_search.qid.unique()), \n",
    "                                                            len(lowes_search.explode(\"rel_pids\").rel_pids.unique()),\n",
    "                                                                              np.mean([len(xs) for xs in qid_to_relpids.values()])))\n",
    "print(\"unique aids, pids for sim_rec, average length = {:,}, {:,}, {:.3f}\".format(len(lowes_sim.aid.unique()), \n",
    "                                                          len(lowes_sim.explode(\"sim_pids\").sim_pids.unique()),\n",
    "                                                         np.mean([len(xs) for xs in aid_to_simpids.values()])))\n",
    "print(\"unique aids, pids for compl_rec, average length = {:,}, {:,}, {:.3f}\".format(len(lowes_compl.aid.unique()), \n",
    "                                                            len(lowes_compl.explode(\"compl_pids\").compl_pids.unique()),\n",
    "                                                           np.mean([len(xs) for xs in aid_to_complpids.values()])))\n",
    "lowes_relpids = set([x for xs in qid_to_relpids.values() for x in xs])\n",
    "lowes_simpids = set([x for xs in aid_to_simpids.values() for x in xs])\n",
    "lowes_complpids = set([x for xs in aid_to_complpids.values() for x in xs])\n",
    "lowes_simpids.update(aid_to_simpids.keys())\n",
    "lowes_complpids.update(aid_to_complpids.keys())\n",
    "print(\"relpids and simpids intersect rate = {:.3f}\".format(\n",
    "    len(lowes_relpids.intersection(lowes_simpids)) / len(lowes_relpids.union(lowes_simpids))\n",
    "))\n",
    "print(\"relpids and complpids intersect rate = {:.3f}\".format(\n",
    "    len(lowes_relpids.intersection(lowes_complpids)) / len(lowes_relpids.union(lowes_complpids))\n",
    "))\n",
    "print(\"simpids and complpids intersect rate = {:.3f}\".format(\n",
    "   len( lowes_simpids.intersection(lowes_complpids)) / len(lowes_simpids.union(lowes_complpids))\n",
    "))"
   ]
  },
  {
   "cell_type": "code",
   "execution_count": 4,
   "id": "06ed32ec-81af-4c10-8df5-cbce897297f8",
   "metadata": {},
   "outputs": [
    {
     "name": "stdout",
     "output_type": "stream",
     "text": [
      "unique qids, pids for search, average length = 54,511, 557,840, 12.822\n",
      "unique aids, pids for sim_rec, average length = 315,575, 216,082, 5.718\n",
      "unique aids, pids for compl_rec, average length = 82,580, 26,274, 2.939\n",
      "relpids and simpids intersect rate = 0.379\n",
      "relpids and complpids intersect rate = 0.127\n",
      "simpids and complpids intersect rate = 0.107\n"
     ]
    }
   ],
   "source": [
    "import pickle as pkl\n",
    "esci_dir = \"/home/jupyter/unity_jointly_rec_and_search/datasets/amazon_esci_dataset/task_2_multiclass_product_classification/\"\n",
    "\n",
    "with open(os.path.join(esci_dir, \"train_qid_to_relpids.pkl\"), \"rb\") as fin:\n",
    "    esci_qid_to_relpids = pkl.load(fin)\n",
    "with open(os.path.join(esci_dir, \"train_aid_to_simpids.pkl\"), \"rb\") as fin:\n",
    "    esci_aid_to_simpids = pkl.load(fin)\n",
    "with open(os.path.join(esci_dir, \"train_aid_to_complpids.pkl\"), \"rb\") as fin:\n",
    "    esci_aid_to_complpids = pkl.load(fin)\n",
    "esci_relpids = set([x for xs in esci_qid_to_relpids.values() for x in xs])\n",
    "esci_simpids = set([x for xs in esci_aid_to_simpids.values() for x in xs])\n",
    "esci_complpids = set([x for xs in esci_aid_to_complpids.values() for x in xs])\n",
    "    \n",
    "print(\"unique qids, pids for search, average length = {:,}, {:,}, {:.3f}\".format(len(esci_qid_to_relpids.keys()), \n",
    "                                                                            len(esci_relpids),\n",
    "                                                                              np.mean([len(xs) for xs in esci_qid_to_relpids.values()])))\n",
    "print(\"unique aids, pids for sim_rec, average length = {:,}, {:,}, {:.3f}\".format(len(esci_aid_to_simpids.keys()), \n",
    "                                                                            len(esci_simpids),\n",
    "                                                                             np.mean([len(xs) for xs in esci_aid_to_simpids.values()])))\n",
    "print(\"unique aids, pids for compl_rec, average length = {:,}, {:,}, {:.3f}\".format(len(esci_aid_to_complpids.keys()), \n",
    "                                                                            len(esci_complpids),\n",
    "                                                                           np.mean([len(xs) for xs in esci_aid_to_complpids.values()])))\n",
    "\n",
    "esci_simpids.update(esci_aid_to_simpids.keys())\n",
    "esci_complpids.update(esci_aid_to_complpids.keys())\n",
    "\n",
    "print(\"relpids and simpids intersect rate = {:.3f}\".format(\n",
    "    len(esci_relpids.intersection(esci_simpids)) / len(esci_relpids.union(esci_simpids))\n",
    "))\n",
    "print(\"relpids and complpids intersect rate = {:.3f}\".format(\n",
    "    len(esci_relpids.intersection(esci_complpids)) / len(esci_relpids.union(esci_complpids))\n",
    "))\n",
    "print(\"simpids and complpids intersect rate = {:.3f}\".format(\n",
    "   len(esci_simpids.intersection(esci_complpids)) / len(esci_simpids.union(esci_complpids))\n",
    "))"
   ]
  },
  {
   "cell_type": "code",
   "execution_count": 9,
   "id": "210fa048-b547-4e0f-b9a9-b3a0e0d9d4a9",
   "metadata": {},
   "outputs": [
    {
     "name": "stdout",
     "output_type": "stream",
     "text": [
      "452082 /home/jupyter/unity_jointly_rec_and_search/datasets/amazon_esci_dataset/task_2_multiclass_product_classification/unified_train/max10_qorient_q2p.scbnegs.train.tsv\n",
      "1067742 /home/jupyter/unity_jointly_rec_and_search/datasets/amazon_esci_dataset/task_2_multiclass_product_classification/unified_train/a2sp.train.tsv\n",
      "184362 /home/jupyter/unity_jointly_rec_and_search/datasets/amazon_esci_dataset/task_2_multiclass_product_classification/unified_train/a2cp.train.tsv\n"
     ]
    }
   ],
   "source": [
    "path = os.path.join(esci_dir, \"unified_train\")\n",
    "train_query =  os.path.join(esci_dir, \"unified_train/max10_qorient_q2p.scbnegs.train.tsv\")\n",
    "train_sim = os.path.join(esci_dir, \"unified_train/a2sp.train.tsv\")\n",
    "train_compl = os.path.join(esci_dir, \"unified_train/a2cp.train.tsv\")\n",
    "! wc -l $train_query\n",
    "! wc -l $train_sim \n",
    "! wc -l $train_compl"
   ]
  },
  {
   "cell_type": "code",
   "execution_count": null,
   "id": "6f18d781-4aed-401c-8fbb-8dbcaef6241f",
   "metadata": {},
   "outputs": [],
   "source": []
  }
 ],
 "metadata": {
  "environment": {
   "kernel": "python3",
   "name": "tf2-gpu.2-9.m93",
   "type": "gcloud",
   "uri": "gcr.io/deeplearning-platform-release/tf2-gpu.2-9:m93"
  },
  "kernelspec": {
   "display_name": "Python 3",
   "language": "python",
   "name": "python3"
  },
  "language_info": {
   "codemirror_mode": {
    "name": "ipython",
    "version": 3
   },
   "file_extension": ".py",
   "mimetype": "text/x-python",
   "name": "python",
   "nbconvert_exporter": "python",
   "pygments_lexer": "ipython3",
   "version": "3.7.12"
  }
 },
 "nbformat": 4,
 "nbformat_minor": 5
}
