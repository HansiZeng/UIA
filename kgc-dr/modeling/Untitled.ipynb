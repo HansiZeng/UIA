{
 "cells": [
  {
   "cell_type": "code",
   "execution_count": null,
   "id": "02450b5b-5cf2-4e92-adbc-4ab3536eb0b0",
   "metadata": {},
   "outputs": [],
   "source": [
    "# 1, index\n",
    "python -m torch.distributed.launch --nproc_per_node=4 baseline_retriever/parallel_index_text_1.py \\\n",
    "                                    --model_name_or_path=\"sebastian-hofstaetter/distilbert-dot-tas_b-b256-msmarco\" \\\n",
    "                                    --passages_path=$PASSAGE_PATH \\\n",
    "                                    --index_dir=$INDEX_DIR \\\n",
    "                                    --batch_size=128 \\\n",
    "                                    --max_length=256\n",
    "\n",
    "python retriever/parallel_index_text_2.py --pretrained_path=$PRETRAINED_PATH \\\n",
    "                                --passages_path=$PASSAGE_PATH \\\n",
    "                                --index_dir=$INDEX_DIR \\\n",
    "                                --batch_size=512 \\\n",
    "\n",
    "# 2, retrieval\n",
    "# queries.test.tsv\n",
    "python baseline_retriever/retrieve_top_passages.py \\\n",
    "--queries_path=$SIM_ANCHORS_PATH \\\n",
    "--model_name_or_path=\"sebastian-hofstaetter/distilbert-dot-tas_b-b256-msmarco\" \\\n",
    "--output_path=${OUTPUT_PATH}.test.sim.small.run \\\n",
    "--index_path=$INDEX_PATH \\\n",
    "--batch_size=512 \\\n",
    "--query_max_len=128\n",
    "\n",
    "python baseline_retriever/retrieve_top_passages.py \\\n",
    "--queries_path=$COMPL_ANCHORS_PATH \\\n",
    "--model_name_or_path=\"sebastian-hofstaetter/distilbert-dot-tas_b-b256-msmarco\" \\\n",
    "--output_path=${OUTPUT_PATH}.test.compl.run \\\n",
    "--index_path=$INDEX_PATH \\\n",
    "--batch_size=512 \\\n",
    "--query_max_len=128\n",
    "\n",
    "python baseline_retriever/retrieve_top_passages.py \\\n",
    "--queries_path=$QUERIES_PATH \\\n",
    "--model_name_or_path=\"sebastian-hofstaetter/distilbert-dot-tas_b-b256-msmarco\" \\\n",
    "--output_path=${OUTPUT_PATH}.test.query.small.run \\\n",
    "--index_path=$INDEX_PATH \\\n",
    "--batch_size=512 \\\n",
    "--query_max_len=128"
   ]
  }
 ],
 "metadata": {
  "environment": {
   "kernel": "python3",
   "name": "tf2-gpu.2-9.m93",
   "type": "gcloud",
   "uri": "gcr.io/deeplearning-platform-release/tf2-gpu.2-9:m93"
  },
  "kernelspec": {
   "display_name": "Python 3",
   "language": "python",
   "name": "python3"
  },
  "language_info": {
   "codemirror_mode": {
    "name": "ipython",
    "version": 3
   },
   "file_extension": ".py",
   "mimetype": "text/x-python",
   "name": "python",
   "nbconvert_exporter": "python",
   "pygments_lexer": "ipython3",
   "version": "3.7.12"
  }
 },
 "nbformat": 4,
 "nbformat_minor": 5
}
