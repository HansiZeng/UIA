{
 "cells": [
  {
   "cell_type": "code",
   "execution_count": 31,
   "id": "d67970ff-87f9-4f6e-ba81-2f818cd24e93",
   "metadata": {},
   "outputs": [],
   "source": [
    "import torch.nn as nn \n",
    "import torch\n",
    "\n",
    "class PositionEmbedding(nn.Module):\n",
    "    def __init__(self, config):\n",
    "        super().__init__()\n",
    "        self.config = config \n",
    "        \n",
    "        self.position_embedding = nn.Embedding(config.max_position_embeddeings, config.hidden_size)\n",
    "    \n",
    "    def forward(self, input_tensor, seq_lengths, shift_step):\n",
    "        \"\"\"\n",
    "        input_tensor: with shape of [L1, D], L1 = sum(seq_lengths)\n",
    "        seq_lengths: with shape of [B].\n",
    "        shift_step: int.\n",
    "        \"\"\"\n",
    "        start_indices = seq_lengths.cumsum(dim=0).roll(shifts=1, dims=0)\n",
    "        start_indices[0] = 0\n",
    "        position_ids = torch.repeat_interleave(start_indices, repeats=seq_lengths)\n",
    "        position_ids = torch.arange(position_ids.size(0), device=position_ids.device) - position_ids\n",
    "        position_ids = (position_ids + shift_step * torch.ones_like(position_ids, device=position_ids.device)).int()\n",
    "        \n",
    "        print(position_ids)\n",
    "        \n",
    "        output_tensor = input_tensor + self.position_embedding(position_ids)\n",
    "        return output_tensor\n",
    "\n",
    "class Config(object):\n",
    "    pass\n",
    "\n",
    "config = Config()\n",
    "config.max_position_embeddeings = 5\n",
    "config.hidden_size = 3\n",
    "input_tensor = torch.randn(9,3)\n",
    "seq_lenghts = torch.FloatTensor([3,2,3,1]).long()\n",
    "shift_step = 0\n",
    "\n",
    "position_embedding = PositionEmbedding(config)"
   ]
  },
  {
   "cell_type": "code",
   "execution_count": 33,
   "id": "9ede9dd2-20f8-46ab-ab14-39c63adaa207",
   "metadata": {},
   "outputs": [
    {
     "name": "stdout",
     "output_type": "stream",
     "text": [
      "position embedding:\n",
      " [[-0.363 -0.274 -0.172]\n",
      " [ 1.708 -1.276 -1.036]\n",
      " [-0.919  0.369  0.947]\n",
      " [ 0.801  0.909 -0.798]\n",
      " [-0.289 -0.736 -1.239]]\n",
      "input tensor:\n",
      " [[ 0.548 -1.63  -0.931]\n",
      " [ 0.214 -0.733  0.908]\n",
      " [ 0.845  0.189  0.418]\n",
      " [-0.476  1.679  0.034]\n",
      " [-0.05  -0.292  0.846]\n",
      " [-1.908 -0.647 -0.081]\n",
      " [-0.71   0.757 -0.616]\n",
      " [ 0.812  1.437 -1.466]\n",
      " [ 0.533  1.36   1.713]]\n",
      "tensor([1, 2, 3, 1, 2, 1, 2, 3, 1], device='cuda:0', dtype=torch.int32)\n"
     ]
    },
    {
     "data": {
      "text/plain": [
       "tensor([[ 2.2554, -2.9069, -1.9668],\n",
       "        [-0.7050, -0.3639,  1.8553],\n",
       "        [ 1.6466,  1.0979, -0.3799],\n",
       "        [ 1.2315,  0.4024, -1.0020],\n",
       "        [-0.9688,  0.0770,  1.7927],\n",
       "        [-0.2000, -1.9235, -1.1167],\n",
       "        [-1.6287,  1.1258,  0.3314],\n",
       "        [ 1.6130,  2.3463, -2.2642],\n",
       "        [ 2.2410,  0.0836,  0.6770]], device='cuda:0', grad_fn=<AddBackward0>)"
      ]
     },
     "execution_count": 33,
     "metadata": {},
     "output_type": "execute_result"
    }
   ],
   "source": [
    "import numpy as np\n",
    "np.set_printoptions(suppress=True, precision=3)\n",
    "print(\"position embedding:\\n {}\".format(position_embedding.position_embedding.weight.detach().numpy()))\n",
    "\n",
    "print(\"input tensor:\\n {}\".format(input_tensor.numpy()))\n",
    "\n",
    "position_embedding.to(torch.device(\"cuda\"))\n",
    "position_embedding(input_tensor.cuda(), seq_lenghts.cuda(), shift_step=1)"
   ]
  },
  {
   "cell_type": "code",
   "execution_count": null,
   "id": "4a7a97d4-be03-47c7-b781-846326cb3b94",
   "metadata": {},
   "outputs": [],
   "source": []
  }
 ],
 "metadata": {
  "environment": {
   "kernel": "python3",
   "name": "tf2-gpu.2-9.m93",
   "type": "gcloud",
   "uri": "gcr.io/deeplearning-platform-release/tf2-gpu.2-9:m93"
  },
  "kernelspec": {
   "display_name": "Python 3",
   "language": "python",
   "name": "python3"
  },
  "language_info": {
   "codemirror_mode": {
    "name": "ipython",
    "version": 3
   },
   "file_extension": ".py",
   "mimetype": "text/x-python",
   "name": "python",
   "nbconvert_exporter": "python",
   "pygments_lexer": "ipython3",
   "version": "3.7.12"
  }
 },
 "nbformat": 4,
 "nbformat_minor": 5
}
