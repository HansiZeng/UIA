{
 "cells": [
  {
   "cell_type": "code",
   "execution_count": 1,
   "id": "3776fb15-36f2-4591-8704-a48fcfc15372",
   "metadata": {},
   "outputs": [
    {
     "name": "stdout",
     "output_type": "stream",
     "text": [
      "value_from_gru False\n",
      "apply_value_layer False\n",
      "apply_zero_attention False\n",
      "backbone_trainable False\n",
      "apply_position_embedding False\n",
      "output_id_attentions False\n"
     ]
    }
   ],
   "source": [
    "from user_argument import ModelArguments, RetrievalArguments\n",
    "from transformers import HfArgumentParser\n",
    "from dataclasses import dataclass, fields\n",
    "args, _ = HfArgumentParser(ModelArguments).parse_args_into_dataclasses(return_remaining_strings=True)\n",
    "\n",
    "for field in fields(args):\n",
    "    if field.type == bool:\n",
    "        print(field.name, field.default)"
   ]
  },
  {
   "cell_type": "code",
   "execution_count": 7,
   "id": "3cd65126-6330-489d-ab68-bd0e8a008219",
   "metadata": {},
   "outputs": [
    {
     "name": "stdout",
     "output_type": "stream",
     "text": [
      "model\n"
     ]
    },
    {
     "ename": "AttributeError",
     "evalue": "'ModelArguments' object has no attribute 'model_n'",
     "output_type": "error",
     "traceback": [
      "\u001b[0;31m---------------------------------------------------------------------------\u001b[0m",
      "\u001b[0;31mAttributeError\u001b[0m                            Traceback (most recent call last)",
      "\u001b[0;32m/tmp/ipykernel_744/2423259600.py\u001b[0m in \u001b[0;36m<module>\u001b[0;34m\u001b[0m\n\u001b[1;32m      1\u001b[0m \u001b[0margs\u001b[0m\u001b[0;34m.\u001b[0m\u001b[0mmodel_name\u001b[0m \u001b[0;34m=\u001b[0m \u001b[0;34m\"model\"\u001b[0m\u001b[0;34m\u001b[0m\u001b[0;34m\u001b[0m\u001b[0m\n\u001b[1;32m      2\u001b[0m \u001b[0mprint\u001b[0m\u001b[0;34m(\u001b[0m\u001b[0margs\u001b[0m\u001b[0;34m.\u001b[0m\u001b[0mmodel_name\u001b[0m\u001b[0;34m)\u001b[0m\u001b[0;34m\u001b[0m\u001b[0;34m\u001b[0m\u001b[0m\n\u001b[0;32m----> 3\u001b[0;31m \u001b[0mprint\u001b[0m\u001b[0;34m(\u001b[0m\u001b[0margs\u001b[0m\u001b[0;34m.\u001b[0m\u001b[0mmodel_n\u001b[0m\u001b[0;34m)\u001b[0m\u001b[0;34m\u001b[0m\u001b[0;34m\u001b[0m\u001b[0m\n\u001b[0m",
      "\u001b[0;31mAttributeError\u001b[0m: 'ModelArguments' object has no attribute 'model_n'"
     ]
    }
   ],
   "source": [
    "args.model_name = \"model\"\n",
    "print(args.model_name)\n",
    "print(args.model_n)"
   ]
  },
  {
   "cell_type": "code",
   "execution_count": null,
   "id": "b1f816d6-d7e4-4b0f-95af-cb92e51d602d",
   "metadata": {},
   "outputs": [],
   "source": [
    "import torch\n",
    "import torch.nn as nn\n",
    "\n",
    "class Model(nn.Module):\n",
    "    _model_name = \"model\"\n",
    "    def __init__(self, "
   ]
  },
  {
   "cell_type": "code",
   "execution_count": 18,
   "id": "28ef2bc0-267d-4be3-8249-56887c60a612",
   "metadata": {},
   "outputs": [
    {
     "name": "stdout",
     "output_type": "stream",
     "text": [
      "[{'uid': 0, 'query_ids': [2417516, 2374200, 2576318, 2836633], 'context_key_ids': [2280217, 2417516, 2374200, 2576318], 'context_value_ids': [202549, 1582436, 1400531, 520284], 'target_value_ids': [1582436, 1400531, 520284, 27714], 'neg_value_ids': [904003, 265844, 34466, 751207], 'relation': 'is_relevant_to'}, {'uid': 1, 'query_ids': [2267311, 2521026, 2521026, 2454158], 'context_key_ids': [2382490, 2267311, 2521026, 2521026], 'context_value_ids': [2243091, 1238211, 1384032, 1397306], 'target_value_ids': [1238211, 1384032, 1397306, 109747], 'neg_value_ids': [30018, 1123426, 524511, 1019201], 'relation': 'is_relevant_to'}, {'uid': 2, 'query_ids': [2376572, 2847958, 2710868, 2710823], 'context_key_ids': [2847958, 2376572, 2847958, 2710868], 'context_value_ids': [563576, 2198693, 563576, 955612], 'target_value_ids': [2198693, 563576, 955612, 732741], 'neg_value_ids': [1625333, 602966, 566904, 540255], 'relation': 'is_relevant_to'}]\n"
     ]
    }
   ],
   "source": [
    "# check two directories\n",
    "import ujson \n",
    "path_1 = \"/home/jupyter/unity_data/hlen_4_randneg/search_sequential.train.json\"\n",
    "path_2 = \"/home/jupyter/unity_jointly_rec_and_search/datasets/unified_user/sequential_train_test/hlen_4_randneg/search_sequential.train.json\"\n",
    "\n",
    "examples_1 = []\n",
    "examples_2 = []\n",
    "with open(path_1) as fin:\n",
    "    for line in fin:\n",
    "        examples_1.append(ujson.loads(line.rstrip()))\n",
    "with open(path_2) as fin:\n",
    "    for line in fin:\n",
    "        examples_2.append(ujson.loads(line.rstrip()))\n",
    "        \n",
    "print(examples_1[:3])"
   ]
  },
  {
   "cell_type": "code",
   "execution_count": 26,
   "id": "2f36d6b1-2911-42ac-a85e-7b634002270a",
   "metadata": {},
   "outputs": [
    {
     "name": "stderr",
     "output_type": "stream",
     "text": [
      "  0%|          | 11/815832 [00:08<166:30:45,  1.36it/s]\n"
     ]
    },
    {
     "ename": "KeyboardInterrupt",
     "evalue": "",
     "output_type": "error",
     "traceback": [
      "\u001b[0;31m---------------------------------------------------------------------------\u001b[0m",
      "\u001b[0;31mKeyboardInterrupt\u001b[0m                         Traceback (most recent call last)",
      "\u001b[0;32m/tmp/ipykernel_744/2047869028.py\u001b[0m in \u001b[0;36m<module>\u001b[0;34m\u001b[0m\n\u001b[1;32m      5\u001b[0m     \u001b[0mtest_query_ids\u001b[0m \u001b[0;34m=\u001b[0m \u001b[0mset\u001b[0m\u001b[0;34m(\u001b[0m\u001b[0mtest_example\u001b[0m\u001b[0;34m[\u001b[0m\u001b[0;34m\"query_ids\"\u001b[0m\u001b[0;34m]\u001b[0m\u001b[0;34m)\u001b[0m\u001b[0;34m\u001b[0m\u001b[0;34m\u001b[0m\u001b[0m\n\u001b[1;32m      6\u001b[0m     \u001b[0;32mfor\u001b[0m \u001b[0mexample\u001b[0m \u001b[0;32min\u001b[0m \u001b[0mexamples_2\u001b[0m\u001b[0;34m:\u001b[0m\u001b[0;34m\u001b[0m\u001b[0;34m\u001b[0m\u001b[0m\n\u001b[0;32m----> 7\u001b[0;31m         \u001b[0mquery_ids\u001b[0m \u001b[0;34m=\u001b[0m \u001b[0mset\u001b[0m\u001b[0;34m(\u001b[0m\u001b[0mexample\u001b[0m\u001b[0;34m[\u001b[0m\u001b[0;34m\"query_ids\"\u001b[0m\u001b[0;34m]\u001b[0m\u001b[0;34m)\u001b[0m\u001b[0;34m\u001b[0m\u001b[0;34m\u001b[0m\u001b[0m\n\u001b[0m\u001b[1;32m      8\u001b[0m         \u001b[0;32mif\u001b[0m \u001b[0mlen\u001b[0m\u001b[0;34m(\u001b[0m\u001b[0mtest_query_ids\u001b[0m \u001b[0;34m&\u001b[0m \u001b[0mquery_ids\u001b[0m\u001b[0;34m)\u001b[0m\u001b[0;34m:\u001b[0m\u001b[0;34m\u001b[0m\u001b[0;34m\u001b[0m\u001b[0m\n\u001b[1;32m      9\u001b[0m             \u001b[0minclude_idx\u001b[0m\u001b[0;34m.\u001b[0m\u001b[0mappend\u001b[0m\u001b[0;34m(\u001b[0m\u001b[0mi\u001b[0m\u001b[0;34m)\u001b[0m\u001b[0;34m\u001b[0m\u001b[0;34m\u001b[0m\u001b[0m\n",
      "\u001b[0;31mKeyboardInterrupt\u001b[0m: "
     ]
    }
   ],
   "source": [
    "from tqdm import tqdm\n",
    "test_query_ids = set([2376572, 2847958, 2710868, 2710823])\n",
    "include_idx = []\n",
    "for i, test_example in tqdm(enumerate(examples_1), total=len(examples_1)):\n",
    "    test_query_ids = set(test_example[\"query_ids\"])\n",
    "    for example in examples_2:\n",
    "        query_ids = set(example[\"query_ids\"])\n",
    "        if len(test_query_ids & query_ids) == 4:\n",
    "            include_idx.append(i)"
   ]
  },
  {
   "cell_type": "code",
   "execution_count": 25,
   "id": "395b8918-b411-4dc7-ace5-53234222f544",
   "metadata": {},
   "outputs": [
    {
     "data": {
      "text/plain": [
       "125842"
      ]
     },
     "execution_count": 25,
     "metadata": {},
     "output_type": "execute_result"
    }
   ],
   "source": [
    "len(include_idx)"
   ]
  },
  {
   "cell_type": "code",
   "execution_count": null,
   "id": "6591735b-8e83-4132-a26f-e155f34321f4",
   "metadata": {},
   "outputs": [],
   "source": []
  }
 ],
 "metadata": {
  "environment": {
   "kernel": "python3",
   "name": "tf2-gpu.2-9.m93",
   "type": "gcloud",
   "uri": "gcr.io/deeplearning-platform-release/tf2-gpu.2-9:m93"
  },
  "kernelspec": {
   "display_name": "Python 3",
   "language": "python",
   "name": "python3"
  },
  "language_info": {
   "codemirror_mode": {
    "name": "ipython",
    "version": 3
   },
   "file_extension": ".py",
   "mimetype": "text/x-python",
   "name": "python",
   "nbconvert_exporter": "python",
   "pygments_lexer": "ipython3",
   "version": "3.7.12"
  }
 },
 "nbformat": 4,
 "nbformat_minor": 5
}
